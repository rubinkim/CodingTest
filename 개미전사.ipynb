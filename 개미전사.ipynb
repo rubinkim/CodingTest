{
 "cells": [
  {
   "cell_type": "code",
   "execution_count": 19,
   "metadata": {},
   "outputs": [
    {
     "name": "stdout",
     "output_type": "stream",
     "text": [
      "n : 5,  warehouses : [4, 3, 97, 100, 2]\n"
     ]
    }
   ],
   "source": [
    "n = int(input())     # 창고 갯수  5,  [4, 3, 98, 100, 2]\n",
    "warehouses = list(map(int, input().split()))\n",
    "print(f\"n : {n},  warehouses : {warehouses}\")"
   ]
  },
  {
   "cell_type": "code",
   "execution_count": 20,
   "metadata": {},
   "outputs": [
    {
     "name": "stdout",
     "output_type": "stream",
     "text": [
      "104\n"
     ]
    }
   ],
   "source": [
    "d = [0] * n           # 해당창고까지의 최대 식량값들의 리스트\n",
    "d[0], d[1] = warehouses[0], warehouses[1]\n",
    "\n",
    "for x in range(2, n):\n",
    "    d[x] = warehouses[x] + max(d[:x-1])       # 점화식 : d[x] = warehouses[x] + max(d[:x-2])\n",
    "    \n",
    "ans = max(d)\n",
    "print(ans)"
   ]
  },
  {
   "cell_type": "code",
   "execution_count": 21,
   "metadata": {},
   "outputs": [
    {
     "data": {
      "text/plain": [
       "[4, 3, 101, 104, 103]"
      ]
     },
     "execution_count": 21,
     "metadata": {},
     "output_type": "execute_result"
    }
   ],
   "source": [
    "d"
   ]
  },
  {
   "cell_type": "code",
   "execution_count": 22,
   "metadata": {},
   "outputs": [
    {
     "name": "stdout",
     "output_type": "stream",
     "text": [
      "n : 5,  warehouses : [4, 3, 98, 100, 2]\n"
     ]
    }
   ],
   "source": [
    "n = int(input())\n",
    "warehouses = list(map(int, input().split()))\n",
    "print(f\"n : {n},  warehouses : {warehouses}\")"
   ]
  },
  {
   "cell_type": "code",
   "execution_count": 28,
   "metadata": {},
   "outputs": [],
   "source": [
    "d = [0] * n\n",
    "d[0], d[1] = warehouses[0], warehouses[1]"
   ]
  },
  {
   "cell_type": "code",
   "execution_count": 24,
   "metadata": {},
   "outputs": [],
   "source": [
    "def find_max(array, x):\n",
    "    if d[x] == 0:\n",
    "        d[x] = array[x] + max(d[:x-2])\n",
    "    return d[x]"
   ]
  },
  {
   "cell_type": "code",
   "execution_count": 26,
   "metadata": {},
   "outputs": [
    {
     "data": {
      "text/plain": [
       "6"
      ]
     },
     "execution_count": 26,
     "metadata": {},
     "output_type": "execute_result"
    }
   ],
   "source": [
    "find_max(warehouses, len(warehouses)-1)"
   ]
  }
 ],
 "metadata": {
  "kernelspec": {
   "display_name": "base",
   "language": "python",
   "name": "python3"
  },
  "language_info": {
   "codemirror_mode": {
    "name": "ipython",
    "version": 3
   },
   "file_extension": ".py",
   "mimetype": "text/x-python",
   "name": "python",
   "nbconvert_exporter": "python",
   "pygments_lexer": "ipython3",
   "version": "3.9.12"
  }
 },
 "nbformat": 4,
 "nbformat_minor": 2
}
