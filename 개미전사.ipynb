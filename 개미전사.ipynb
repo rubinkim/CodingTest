{
 "cells": [
  {
   "cell_type": "code",
   "execution_count": 51,
   "metadata": {},
   "outputs": [
    {
     "name": "stdout",
     "output_type": "stream",
     "text": [
      "n : 5,  warehouses : [4, 3, 97, 100, 2]\n"
     ]
    }
   ],
   "source": [
    "n = int(input())     # 창고 갯수  5,  [4, 3, 97, 100, 2]\n",
    "warehouses = list(map(int, input().split()))\n",
    "print(f\"n : {n},  warehouses : {warehouses}\")"
   ]
  },
  {
   "cell_type": "code",
   "execution_count": 52,
   "metadata": {},
   "outputs": [
    {
     "name": "stdout",
     "output_type": "stream",
     "text": [
      "[4, 3, 101, 104, 103]\n",
      "104\n"
     ]
    }
   ],
   "source": [
    "d = [0] * n           # 해당창고까지의 최대 식량값들의 리스트\n",
    "d[0], d[1] = warehouses[0], warehouses[1]\n",
    "\n",
    "for x in range(2, n):\n",
    "    d[x] = warehouses[x] + max(d[:x-1])       # 점화식 : d[x] = warehouses[x] + max(d[:x-2])\n",
    "    \n",
    "ans = max(d)\n",
    "print(d)\n",
    "print(ans)"
   ]
  },
  {
   "cell_type": "code",
   "execution_count": 53,
   "metadata": {},
   "outputs": [
    {
     "name": "stdout",
     "output_type": "stream",
     "text": [
      "n : 5,  warehouses : [4, 3, 97, 100, 2]\n"
     ]
    }
   ],
   "source": [
    "n = int(input())\n",
    "warehouses = list(map(int, input().split()))\n",
    "print(f\"n : {n},  warehouses : {warehouses}\")"
   ]
  },
  {
   "cell_type": "code",
   "execution_count": 54,
   "metadata": {},
   "outputs": [],
   "source": [
    "d = [0] * n\n",
    "d[0], d[1] = warehouses[0], warehouses[1]"
   ]
  },
  {
   "cell_type": "code",
   "execution_count": 55,
   "metadata": {},
   "outputs": [],
   "source": [
    "def find_max(array, x):\n",
    "    if d[x] == 0:\n",
    "        d[x] = array[x] + max([find_max(array, i) for i in range(x-1)])\n",
    "    return d[x]"
   ]
  },
  {
   "cell_type": "code",
   "execution_count": 57,
   "metadata": {},
   "outputs": [
    {
     "data": {
      "text/plain": [
       "103"
      ]
     },
     "execution_count": 57,
     "metadata": {},
     "output_type": "execute_result"
    }
   ],
   "source": [
    "find_max(warehouses, len(warehouses)-1)"
   ]
  },
  {
   "cell_type": "code",
   "execution_count": 59,
   "metadata": {},
   "outputs": [
    {
     "data": {
      "text/plain": [
       "([4, 3, 97, 100, 2], [4, 3, 101, 0, 103])"
      ]
     },
     "execution_count": 59,
     "metadata": {},
     "output_type": "execute_result"
    }
   ],
   "source": [
    "warehouses, d"
   ]
  },
  {
   "cell_type": "code",
   "execution_count": null,
   "metadata": {},
   "outputs": [],
   "source": []
  },
  {
   "cell_type": "code",
   "execution_count": null,
   "metadata": {},
   "outputs": [],
   "source": []
  },
  {
   "cell_type": "code",
   "execution_count": null,
   "metadata": {},
   "outputs": [],
   "source": []
  },
  {
   "cell_type": "code",
   "execution_count": null,
   "metadata": {},
   "outputs": [],
   "source": []
  },
  {
   "cell_type": "code",
   "execution_count": 6,
   "metadata": {},
   "outputs": [
    {
     "name": "stdout",
     "output_type": "stream",
     "text": [
      "n : 5,  warehouses : [4, 3, 97, 100, 2]\n"
     ]
    }
   ],
   "source": [
    "n = int(input())\n",
    "warehouses = list(map(int, input().split()))\n",
    "print(f\"n : {n},  warehouses : {warehouses}\")"
   ]
  },
  {
   "cell_type": "code",
   "execution_count": 22,
   "metadata": {},
   "outputs": [],
   "source": [
    "d = [0] * n\n",
    "d[0], d[1] = warehouses[0], warehouses[1]"
   ]
  },
  {
   "cell_type": "code",
   "execution_count": 12,
   "metadata": {},
   "outputs": [],
   "source": [
    "def find_max(array, x):\n",
    "    if d[x] == 0:\n",
    "        d[x] = max(find_max(array, x-1), find_max(array, x-2) + array[x])\n",
    "    return d[x]"
   ]
  },
  {
   "cell_type": "code",
   "execution_count": 19,
   "metadata": {},
   "outputs": [],
   "source": [
    "def find_max(array, x):\n",
    "    if d[x] == 0:\n",
    "        d[x] = max(find_max(array, x-1), max([find_max(array, i) for i in range(x-1)]) + array[x])\n",
    "    return d[x]"
   ]
  },
  {
   "cell_type": "code",
   "execution_count": 23,
   "metadata": {},
   "outputs": [],
   "source": [
    "def find_max(array, x):\n",
    "    if d[x] == 0:\n",
    "        d[x] = max([find_max(array, i) for i in range(x-1)]) + array[x]\n",
    "    return d[x]"
   ]
  },
  {
   "cell_type": "code",
   "execution_count": 24,
   "metadata": {},
   "outputs": [
    {
     "data": {
      "text/plain": [
       "103"
      ]
     },
     "execution_count": 24,
     "metadata": {},
     "output_type": "execute_result"
    }
   ],
   "source": [
    "find_max(warehouses, len(warehouses)-1)"
   ]
  },
  {
   "cell_type": "code",
   "execution_count": 25,
   "metadata": {},
   "outputs": [
    {
     "data": {
      "text/plain": [
       "[4, 3, 101, 0, 103]"
      ]
     },
     "execution_count": 25,
     "metadata": {},
     "output_type": "execute_result"
    }
   ],
   "source": [
    "d"
   ]
  },
  {
   "cell_type": "markdown",
   "metadata": {},
   "source": [
    "##### 책의 방법"
   ]
  },
  {
   "cell_type": "code",
   "execution_count": 1,
   "metadata": {},
   "outputs": [
    {
     "name": "stdout",
     "output_type": "stream",
     "text": [
      "n : 5,   array : [4, 3, 97, 100, 2]\n"
     ]
    }
   ],
   "source": [
    "n = int(input())\n",
    "array = list(map(int, input().split()))\n",
    "print(f\"n : {n},   array : {array}\")"
   ]
  },
  {
   "cell_type": "code",
   "execution_count": 6,
   "metadata": {},
   "outputs": [
    {
     "name": "stdout",
     "output_type": "stream",
     "text": [
      "[4, 4, 101, 104, 104]\n",
      "104\n"
     ]
    }
   ],
   "source": [
    "d = [0] * n      # d[i] : i번째 식량창고까지의 최적해(얻을 수 있는 식량의 최대값)\n",
    "d[0] = array[0]\n",
    "d[1] = max(array[0], array[1])\n",
    "\n",
    "for i in range(2, n):\n",
    "    d[i] = max(d[i-1], d[i-2] + array[i])\n",
    "\n",
    "print(d)   \n",
    "print(d[n-1])"
   ]
  }
 ],
 "metadata": {
  "kernelspec": {
   "display_name": "base",
   "language": "python",
   "name": "python3"
  },
  "language_info": {
   "codemirror_mode": {
    "name": "ipython",
    "version": 3
   },
   "file_extension": ".py",
   "mimetype": "text/x-python",
   "name": "python",
   "nbconvert_exporter": "python",
   "pygments_lexer": "ipython3",
   "version": "3.9.12"
  }
 },
 "nbformat": 4,
 "nbformat_minor": 2
}
