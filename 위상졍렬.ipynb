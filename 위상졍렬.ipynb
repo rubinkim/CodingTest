{
 "cells": [
  {
   "cell_type": "code",
   "execution_count": 1,
   "metadata": {},
   "outputs": [],
   "source": [
    "from collections import deque"
   ]
  },
  {
   "cell_type": "code",
   "execution_count": null,
   "metadata": {},
   "outputs": [],
   "source": [
    "with open(\"data/topological_sorting.txt\", \"r\") as input:\n",
    "    v, e = map(int, input.readline().split())               # v : 노드수,  e : 간선수\n",
    "    print(f\"노드수 : {v},   간선수 : {e}\")\n",
    "    print()\n",
    "    \n",
    "    indegree = [0] * (v+1)                                  # 모든노드에 대한 진입차수를 0으로 초기화한다. \n",
    "             \n",
    "    graph = [[] for _ in range(v+1)]\n",
    "    for _ in range(e):\n",
    "        a, b = map(int, input.readline().split())\n",
    "        graph[a].append(b)\n",
    "        indegree[b] += 1\n",
    "        \n",
    "    print(f\"진입차수 테이블 : \")\n",
    "    print(indegree)\n",
    "    print()\n",
    "    \n",
    "    "
   ]
  }
 ],
 "metadata": {
  "kernelspec": {
   "display_name": "base",
   "language": "python",
   "name": "python3"
  },
  "language_info": {
   "codemirror_mode": {
    "name": "ipython",
    "version": 3
   },
   "file_extension": ".py",
   "mimetype": "text/x-python",
   "name": "python",
   "nbconvert_exporter": "python",
   "pygments_lexer": "ipython3",
   "version": "3.9.12"
  }
 },
 "nbformat": 4,
 "nbformat_minor": 2
}
