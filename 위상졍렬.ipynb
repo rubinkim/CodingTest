{
 "cells": [
  {
   "cell_type": "code",
   "execution_count": 1,
   "metadata": {},
   "outputs": [],
   "source": [
    "from collections import deque"
   ]
  },
  {
   "cell_type": "code",
   "execution_count": 2,
   "metadata": {},
   "outputs": [
    {
     "name": "stdout",
     "output_type": "stream",
     "text": [
      "노드수 : 7,   간선수 : 8\n",
      "\n",
      "진입차수 테이블 : \n",
      "[0, 0, 1, 1, 2, 1, 2, 1]\n",
      "\n",
      "그래프 : \n",
      "[]\n",
      "[2, 5]\n",
      "[3, 6]\n",
      "[4]\n",
      "[7]\n",
      "[6]\n",
      "[4]\n",
      "[]\n"
     ]
    }
   ],
   "source": [
    "with open(\"data/topological_sorting.txt\", \"r\") as input:\n",
    "    v, e = map(int, input.readline().split())               # v : 노드수,  e : 간선수\n",
    "    print(f\"노드수 : {v},   간선수 : {e}\")\n",
    "    print()\n",
    "    \n",
    "    indegree = [0] * (v+1)                                  # 모든노드에 대한 진입차수를 0으로 초기화한다. \n",
    "             \n",
    "    graph = [[] for _ in range(v+1)]\n",
    "    for _ in range(e):\n",
    "        a, b = map(int, input.readline().split())\n",
    "        graph[a].append(b)\n",
    "        indegree[b] += 1\n",
    "        \n",
    "    print(f\"진입차수 테이블 : \")\n",
    "    print(indegree)\n",
    "    print()\n",
    "    \n",
    "    print(\"그래프 : \")\n",
    "    for row in graph:\n",
    "        print(row)"
   ]
  },
  {
   "cell_type": "code",
   "execution_count": 10,
   "metadata": {},
   "outputs": [],
   "source": [
    "def topological_sort():\n",
    "    result = []\n",
    "    q = deque()\n",
    "    for i in range(1, v+1):\n",
    "        if indegree[i] == 0:\n",
    "            q.append(i)\n",
    "    \n",
    "    while q:\n",
    "        now = q.popleft()\n",
    "        result.append(now)\n",
    "        \n",
    "        for i in graph[now]:\n",
    "            indegree[i] -= 1\n",
    "            if indegree[i] == 0:\n",
    "                q.append(i)\n",
    "                \n",
    "    return result"
   ]
  },
  {
   "cell_type": "code",
   "execution_count": 9,
   "metadata": {},
   "outputs": [
    {
     "data": {
      "text/plain": [
       "deque([])"
      ]
     },
     "execution_count": 9,
     "metadata": {},
     "output_type": "execute_result"
    }
   ],
   "source": [
    "topological_sort()"
   ]
  },
  {
   "cell_type": "code",
   "execution_count": 7,
   "metadata": {},
   "outputs": [
    {
     "ename": "NameError",
     "evalue": "name 'q' is not defined",
     "output_type": "error",
     "traceback": [
      "\u001b[1;31m---------------------------------------------------------------------------\u001b[0m",
      "\u001b[1;31mNameError\u001b[0m                                 Traceback (most recent call last)",
      "Input \u001b[1;32mIn [7]\u001b[0m, in \u001b[0;36m<cell line: 1>\u001b[1;34m()\u001b[0m\n\u001b[1;32m----> 1\u001b[0m \u001b[43mq\u001b[49m\n",
      "\u001b[1;31mNameError\u001b[0m: name 'q' is not defined"
     ]
    }
   ],
   "source": []
  }
 ],
 "metadata": {
  "kernelspec": {
   "display_name": "base",
   "language": "python",
   "name": "python3"
  },
  "language_info": {
   "codemirror_mode": {
    "name": "ipython",
    "version": 3
   },
   "file_extension": ".py",
   "mimetype": "text/x-python",
   "name": "python",
   "nbconvert_exporter": "python",
   "pygments_lexer": "ipython3",
   "version": "3.9.12"
  }
 },
 "nbformat": 4,
 "nbformat_minor": 2
}
