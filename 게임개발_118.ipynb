{
 "cells": [
  {
   "cell_type": "code",
   "execution_count": 16,
   "metadata": {},
   "outputs": [
    {
     "name": "stdout",
     "output_type": "stream",
     "text": [
      "n : 4,  m : 4\n",
      "(x, y, d) : (1, 1, 0)\n"
     ]
    }
   ],
   "source": [
    "n, m = map(int, input().split())    # n : num of rows,  m : num of columns  (4, 4)\n",
    "x, y, d = map(int, input().split()) # x : row coordinate,  y : col coordinate,  d : direction  (1, 1, 0)\n",
    "print(f\"n : {n},  m : {m}\")\n",
    "print(f\"(x, y, d) : {(x, y, d)}\")"
   ]
  },
  {
   "cell_type": "code",
   "execution_count": 17,
   "metadata": {},
   "outputs": [
    {
     "name": "stdout",
     "output_type": "stream",
     "text": [
      "[1, 1, 1, 1]\n",
      "[1, 0, 0, 1]\n",
      "[1, 1, 0, 1]\n",
      "[1, 1, 1, 1]\n"
     ]
    }
   ],
   "source": [
    "array = []\n",
    "for _ in range(n):\n",
    "    array.append(list(map(int, input().split())))\n",
    "    \n",
    "for row in array:\n",
    "    print(row)"
   ]
  },
  {
   "cell_type": "code",
   "execution_count": 18,
   "metadata": {},
   "outputs": [
    {
     "name": "stdout",
     "output_type": "stream",
     "text": [
      "[False, False, False, False]\n",
      "[False, False, False, False]\n",
      "[False, False, False, False]\n",
      "[False, False, False, False]\n"
     ]
    }
   ],
   "source": [
    "chk = [[False] * m for _ in range(n)]\n",
    "\n",
    "for row in chk:\n",
    "    print(row)"
   ]
  },
  {
   "cell_type": "code",
   "execution_count": 19,
   "metadata": {},
   "outputs": [],
   "source": [
    "def is_coord_valid(x, y):\n",
    "    return 0 <= x <= n and 0 <= y <= m    "
   ]
  },
  {
   "cell_type": "code",
   "execution_count": 20,
   "metadata": {},
   "outputs": [],
   "source": [
    "move_types = {0 : (0, -1), 1 : (-1, 0), 2 : (0, 1), 3 : (1, 0)}\n",
    "cnt = 0"
   ]
  },
  {
   "cell_type": "code",
   "execution_count": 21,
   "metadata": {},
   "outputs": [],
   "source": [
    "def move_by_direction(x, y, d):\n",
    "    global cnt\n",
    "    \n",
    "    chk[x][y] = True\n",
    "    \n",
    "    nx = x + move_types[d][0]\n",
    "    ny = y + move_types[d][1]\n",
    "    \n",
    "    if is_coord_valid(nx, ny) and not chk[nx][ny] and array[nx][ny] == 0:\n",
    "        d = d-1 if 1 <= d <= 3 else 3\n",
    "        cnt += 1\n",
    "        chk[nx][ny] = True\n",
    "        move_by_direction(nx, ny, d)\n",
    "    \n",
    "    elif is_coord_valid(nx, ny) and chk[nx][ny]:\n",
    "        d = d-1 if 1 <= d <= 3 else 3\n",
    "        move_by_direction(x, y, d)\n",
    "        \n",
    "    nx_0, ny_0 = x + move_types[0][0], y + move_types[0][1]\n",
    "    nx_1, ny_1 = x + move_types[1][0], y + move_types[1][1]\n",
    "    nx_2, ny_2 = x + move_types[2][0], y + move_types[2][1]\n",
    "    nx_3, ny_3 = x + move_types[3][0], y + move_types[3][1]\n",
    "    \n",
    "    if is_coord_valid(nx_0, ny_0) and is_coord_valid(nx_1, ny_1) and is_coord_valid(nx_2, ny_2) and is_coord_valid(nx_3, ny_3):\n",
    "        if (chk[nx_0][ny_0] and chk[nx_1][ny_1] and chk[nx_2][ny_2] and chk[nx_3][ny_3]) or (array[nx_0][ny_0]==1 and array[nx_1][ny_1]==1 and array[nx_2][ny_2]==1 and array[nx_3][ny_3]==1):\n",
    "            if d == 0:\n",
    "                x += 1\n",
    "                if array[x][y] == 0:\n",
    "                    cnt += 1\n",
    "                    move_by_direction(x, y, d)                \n",
    "            elif d == 1:\n",
    "                y -= 1\n",
    "                if array[x][y] == 0:\n",
    "                    cnt += 1\n",
    "                    move_by_direction(x, y, d)\n",
    "            elif d == 2:\n",
    "                x -= 1\n",
    "                if array[x][y] == 0:\n",
    "                    cnt += 1\n",
    "                    move_by_direction(x, y, d)\n",
    "            else:\n",
    "                y += 1\n",
    "                if array[x][y] == 0:\n",
    "                    cnt += 1\n",
    "                    move_by_direction(x, y, d) \n",
    "                    \n",
    "    return cnt"
   ]
  },
  {
   "cell_type": "code",
   "execution_count": 22,
   "metadata": {},
   "outputs": [
    {
     "data": {
      "text/plain": [
       "0"
      ]
     },
     "execution_count": 22,
     "metadata": {},
     "output_type": "execute_result"
    }
   ],
   "source": [
    "move_by_direction(1, 1, 0)"
   ]
  },
  {
   "cell_type": "markdown",
   "metadata": {},
   "source": [
    "##### 책에 있는 답안"
   ]
  },
  {
   "cell_type": "code",
   "execution_count": 3,
   "metadata": {},
   "outputs": [
    {
     "name": "stdout",
     "output_type": "stream",
     "text": [
      "3\n"
     ]
    }
   ],
   "source": [
    "n, m = map(int, input().split())            # 맵의 로우, 컬럼개수   (4 4)\n",
    "chk = [[False] * m for _ in range(n)]       # 방문여부를 체크하는 2차원 배열\n",
    "x, y, d = map(int, input().split())         # 현재 위치의 x, y 좌표와 방향    (1 1 0)\n",
    "chk[x][y] = True                            # 현재 좌표 방문 처리\n",
    "\n",
    "array = []                                  # 전체 맵정보 입력 받기\n",
    "for i in range(n):\n",
    "    array.append(list(map(int, input().split())))    \n",
    "    \n",
    "# 북,동,남,서 방향에서 이동할 좌표 정의\n",
    "dx = [-1, 0, 1, 0]\n",
    "dy = [0, 1, 0, -1]\n",
    "\n",
    "# 왼쪽으로 회전하는 함수 정의\n",
    "def turn_left():\n",
    "    global d\n",
    "    d -= 1\n",
    "    if d == -1:\n",
    "        d = 3\n",
    "        \n",
    "# 맵밖으로 벗어나지 않는 경우에만 이동이 가능하도록 해주는 함수를 정의\n",
    "def is_coord_valid(x, y):\n",
    "    return 0 <= x <= n and 0 <= y <= m\n",
    "\n",
    "# simulation 시작\n",
    "count = 1                                    # 문제에서 요구하는게 이동한 횟수가 아니라 방문한 칸수이므로 시작좌표도 방문한 칸에 포함시켜야 한다.\n",
    "turn_time = 0                                # 왼쪽으로 돌아선 횟수\n",
    "\n",
    "while True:\n",
    "    # 처음 좌표에 자리잡고 나서 왼쪽으로 돌아서야 한다.\n",
    "    turn_left()\n",
    "    nx = x + dx[d]\n",
    "    ny = y + dy[d]\n",
    "    # 왼쪽으로 회전한 다음 이동해야 할 칸이 맵밖에 위치하지 않고 아직 방문하지 않은 육지라면 그곳으로 이동한다.\n",
    "    if not chk[nx][ny] and array[nx][ny] == 0 and is_coord_valid(nx, ny):        \n",
    "        x, y = nx, ny\n",
    "        chk[nx][ny] = True\n",
    "        count += 1\n",
    "        turn_time = 0\n",
    "        continue\n",
    "    \n",
    "    # 왼쪽으로 회전한 다음 이동해야 할 칸이 이미 방문했거나 혹은 바다라면 다시 왼쪽으로 회전하고 turn_time을 1만큼 증가시킨다.\n",
    "    if chk[nx][ny] or array[nx][ny] == 1 or not(is_coord_valid(nx, ny)):\n",
    "        turn_time += 1\n",
    "        \n",
    "    # 네방향 모두 갈 수 없는 경우에는 원래 바라보고 있던 방향에서 뒤쪽으로 한칸 위치한 칸이 육지라면 이동한다.\n",
    "    if turn_time == 4:\n",
    "        nx = x - dx[d]\n",
    "        ny = y - dy[d]\n",
    "        if array[nx][ny] == 0:\n",
    "            x, y = nx, ny\n",
    "        # 그 칸이 바다라면 움직임을 멈추고 빠져 나온다.\n",
    "        else: break\n",
    "        turn_time = 0\n",
    "        \n",
    "print(count)"
   ]
  },
  {
   "cell_type": "code",
   "execution_count": null,
   "metadata": {},
   "outputs": [],
   "source": []
  }
 ],
 "metadata": {
  "kernelspec": {
   "display_name": "base",
   "language": "python",
   "name": "python3"
  },
  "language_info": {
   "codemirror_mode": {
    "name": "ipython",
    "version": 3
   },
   "file_extension": ".py",
   "mimetype": "text/x-python",
   "name": "python",
   "nbconvert_exporter": "python",
   "pygments_lexer": "ipython3",
   "version": "3.9.12"
  }
 },
 "nbformat": 4,
 "nbformat_minor": 2
}
