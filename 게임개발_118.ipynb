{
 "cells": [
  {
   "cell_type": "code",
   "execution_count": 16,
   "metadata": {},
   "outputs": [
    {
     "name": "stdout",
     "output_type": "stream",
     "text": [
      "n : 4,  m : 4\n",
      "(x, y, d) : (1, 1, 0)\n"
     ]
    }
   ],
   "source": [
    "n, m = map(int, input().split())    # n : num of rows,  m : num of columns  (4, 4)\n",
    "x, y, d = map(int, input().split()) # x : row coordinate,  y : col coordinate,  d : direction  (1, 1, 0)\n",
    "print(f\"n : {n},  m : {m}\")\n",
    "print(f\"(x, y, d) : {(x, y, d)}\")"
   ]
  },
  {
   "cell_type": "code",
   "execution_count": 17,
   "metadata": {},
   "outputs": [
    {
     "name": "stdout",
     "output_type": "stream",
     "text": [
      "[1, 1, 1, 1]\n",
      "[1, 0, 0, 1]\n",
      "[1, 1, 0, 1]\n",
      "[1, 1, 1, 1]\n"
     ]
    }
   ],
   "source": [
    "array = []\n",
    "for _ in range(n):\n",
    "    array.append(list(map(int, input().split())))\n",
    "    \n",
    "for row in array:\n",
    "    print(row)"
   ]
  },
  {
   "cell_type": "code",
   "execution_count": 18,
   "metadata": {},
   "outputs": [
    {
     "name": "stdout",
     "output_type": "stream",
     "text": [
      "[False, False, False, False]\n",
      "[False, False, False, False]\n",
      "[False, False, False, False]\n",
      "[False, False, False, False]\n"
     ]
    }
   ],
   "source": [
    "chk = [[False] * m for _ in range(n)]\n",
    "\n",
    "for row in chk:\n",
    "    print(row)"
   ]
  },
  {
   "cell_type": "code",
   "execution_count": 19,
   "metadata": {},
   "outputs": [],
   "source": [
    "def is_coord_valid(x, y):\n",
    "    return 0 <= x <= n and 0 <= y <= m    "
   ]
  },
  {
   "cell_type": "code",
   "execution_count": 20,
   "metadata": {},
   "outputs": [],
   "source": [
    "move_types = {0 : (0, -1), 1 : (-1, 0), 2 : (0, 1), 3 : (1, 0)}\n",
    "cnt = 0"
   ]
  },
  {
   "cell_type": "code",
   "execution_count": 21,
   "metadata": {},
   "outputs": [],
   "source": [
    "def move_by_direction(x, y, d):\n",
    "    global cnt\n",
    "    \n",
    "    chk[x][y] = True\n",
    "    \n",
    "    nx = x + move_types[d][0]\n",
    "    ny = y + move_types[d][1]\n",
    "    \n",
    "    if is_coord_valid(nx, ny) and not chk[nx][ny] and array[nx][ny] == 0:\n",
    "        d = d-1 if 1 <= d <= 3 else 3\n",
    "        cnt += 1\n",
    "        chk[nx][ny] = True\n",
    "        move_by_direction(nx, ny, d)\n",
    "    \n",
    "    elif is_coord_valid(nx, ny) and chk[nx][ny]:\n",
    "        d = d-1 if 1 <= d <= 3 else 3\n",
    "        move_by_direction(x, y, d)\n",
    "        \n",
    "    nx_0, ny_0 = x + move_types[0][0], y + move_types[0][1]\n",
    "    nx_1, ny_1 = x + move_types[1][0], y + move_types[1][1]\n",
    "    nx_2, ny_2 = x + move_types[2][0], y + move_types[2][1]\n",
    "    nx_3, ny_3 = x + move_types[3][0], y + move_types[3][1]\n",
    "    \n",
    "    if is_coord_valid(nx_0, ny_0) and is_coord_valid(nx_1, ny_1) and is_coord_valid(nx_2, ny_2) and is_coord_valid(nx_3, ny_3):\n",
    "        if (chk[nx_0][ny_0] and chk[nx_1][ny_1] and chk[nx_2][ny_2] and chk[nx_3][ny_3]) or (array[nx_0][ny_0]==1 and array[nx_1][ny_1]==1 and array[nx_2][ny_2]==1 and array[nx_3][ny_3]==1):\n",
    "            if d == 0:\n",
    "                x += 1\n",
    "                if array[x][y] == 0:\n",
    "                    cnt += 1\n",
    "                    move_by_direction(x, y, d)                \n",
    "            elif d == 1:\n",
    "                y -= 1\n",
    "                if array[x][y] == 0:\n",
    "                    cnt += 1\n",
    "                    move_by_direction(x, y, d)\n",
    "            elif d == 2:\n",
    "                x -= 1\n",
    "                if array[x][y] == 0:\n",
    "                    cnt += 1\n",
    "                    move_by_direction(x, y, d)\n",
    "            else:\n",
    "                y += 1\n",
    "                if array[x][y] == 0:\n",
    "                    cnt += 1\n",
    "                    move_by_direction(x, y, d) \n",
    "                    \n",
    "    return cnt"
   ]
  },
  {
   "cell_type": "code",
   "execution_count": 22,
   "metadata": {},
   "outputs": [
    {
     "data": {
      "text/plain": [
       "0"
      ]
     },
     "execution_count": 22,
     "metadata": {},
     "output_type": "execute_result"
    }
   ],
   "source": [
    "move_by_direction(1, 1, 0)"
   ]
  },
  {
   "cell_type": "markdown",
   "metadata": {},
   "source": [
    "##### 책에 있는 답안"
   ]
  },
  {
   "cell_type": "code",
   "execution_count": null,
   "metadata": {},
   "outputs": [],
   "source": []
  }
 ],
 "metadata": {
  "kernelspec": {
   "display_name": "base",
   "language": "python",
   "name": "python3"
  },
  "language_info": {
   "codemirror_mode": {
    "name": "ipython",
    "version": 3
   },
   "file_extension": ".py",
   "mimetype": "text/x-python",
   "name": "python",
   "nbconvert_exporter": "python",
   "pygments_lexer": "ipython3",
   "version": "3.9.12"
  }
 },
 "nbformat": 4,
 "nbformat_minor": 2
}
