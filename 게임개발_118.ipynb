{
 "cells": [
  {
   "cell_type": "code",
   "execution_count": 2,
   "metadata": {},
   "outputs": [
    {
     "name": "stdout",
     "output_type": "stream",
     "text": [
      "n : 4,  m : 4\n",
      "(x, y, d) : (1, 1, 0)\n"
     ]
    }
   ],
   "source": [
    "n, m = map(int, input().split())    # n : num of rows,  m : num of columns  (4, 4)\n",
    "x, y, d = map(int, input().split()) # x : row coordinate,  y : col coordinate,  d : direction  (1, 1, 0)\n",
    "print(f\"n : {n},  m : {m}\")\n",
    "print(f\"(x, y, d) : {(x, y, d)}\")"
   ]
  },
  {
   "cell_type": "code",
   "execution_count": 4,
   "metadata": {},
   "outputs": [
    {
     "name": "stdout",
     "output_type": "stream",
     "text": [
      "[1, 1, 1, 1]\n",
      "[1, 0, 0, 1]\n",
      "[1, 1, 0, 1]\n",
      "[1, 1, 1, 1]\n"
     ]
    }
   ],
   "source": [
    "array = []\n",
    "for _ in range(n):\n",
    "    array.append(list(map(int, input().split())))\n",
    "    \n",
    "for row in array:\n",
    "    print(row)"
   ]
  },
  {
   "cell_type": "code",
   "execution_count": 5,
   "metadata": {},
   "outputs": [
    {
     "name": "stdout",
     "output_type": "stream",
     "text": [
      "[False, False, False, False]\n",
      "[False, False, False, False]\n",
      "[False, False, False, False]\n",
      "[False, False, False, False]\n"
     ]
    }
   ],
   "source": [
    "chk = [[False] * m for _ in range(n)]\n",
    "\n",
    "for row in chk:\n",
    "    print(row)"
   ]
  },
  {
   "cell_type": "code",
   "execution_count": 6,
   "metadata": {},
   "outputs": [],
   "source": [
    "def is_coord_valid(x, y, d):\n",
    "    return 0 <= x <= n and 0 <= y <= m    "
   ]
  },
  {
   "cell_type": "code",
   "execution_count": null,
   "metadata": {},
   "outputs": [],
   "source": []
  }
 ],
 "metadata": {
  "kernelspec": {
   "display_name": "base",
   "language": "python",
   "name": "python3"
  },
  "language_info": {
   "codemirror_mode": {
    "name": "ipython",
    "version": 3
   },
   "file_extension": ".py",
   "mimetype": "text/x-python",
   "name": "python",
   "nbconvert_exporter": "python",
   "pygments_lexer": "ipython3",
   "version": "3.9.12"
  }
 },
 "nbformat": 4,
 "nbformat_minor": 2
}
