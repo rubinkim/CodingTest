{
 "cells": [
  {
   "cell_type": "code",
   "execution_count": 17,
   "metadata": {},
   "outputs": [
    {
     "name": "stdout",
     "output_type": "stream",
     "text": [
      "number of nodes : 6,  number of edges : 11\n",
      "node to start : 0\n",
      "\n",
      "[]\n",
      "[(4, 1), (2, 2), (3, 5)]\n",
      "[(3, 3), (4, 2)]\n",
      "[(2, 3), (6, 5)]\n",
      "[(3, 3), (5, 1)]\n",
      "[(3, 1), (6, 2)]\n",
      "[]\n"
     ]
    }
   ],
   "source": [
    "with open(\"data/dijkstra.txt\", \"r\") as input:\n",
    "    n, m = map(int, input.readline().split())\n",
    "    start = int(input.readline())\n",
    "    graph = [[] for _ in range(n+1)]\n",
    "    for _ in range(m):\n",
    "        a, b, c = map(int, input.readline().split())\n",
    "        graph[a].append((b, c))\n",
    "    \n",
    "print(f\"number of nodes : {n},  number of edges : {m}\")\n",
    "print(f\"node to start : {start}\")\n",
    "print()\n",
    "\n",
    "for row in graph:\n",
    "    print(row)"
   ]
  },
  {
   "cell_type": "code",
   "execution_count": 18,
   "metadata": {},
   "outputs": [],
   "source": [
    "visited = [False] * (n+1)\n",
    "INF = 1e9\n",
    "distance = [INF] * (n+1)\n",
    "path = [[] for _ in range(n+1)]"
   ]
  },
  {
   "cell_type": "code",
   "execution_count": 19,
   "metadata": {},
   "outputs": [
    {
     "name": "stdout",
     "output_type": "stream",
     "text": [
      "[False, False, False, False, False, False, False]\n",
      "[1000000000.0, 1000000000.0, 1000000000.0, 1000000000.0, 1000000000.0, 1000000000.0, 1000000000.0]\n",
      "[[], [], [], [], [], [], []]\n"
     ]
    }
   ],
   "source": [
    "print(visited)\n",
    "print(distance)\n",
    "print(path)"
   ]
  },
  {
   "cell_type": "code",
   "execution_count": 20,
   "metadata": {},
   "outputs": [],
   "source": [
    "def get_smallest_node():\n",
    "    min_value = INF\n",
    "    index = 0\n",
    "    for i in range(1, n+1):\n",
    "        if distance[i] < min_value and not visited[i]:\n",
    "            min_value = distance[i]\n",
    "            index = i\n",
    "    return index"
   ]
  },
  {
   "cell_type": "code",
   "execution_count": 36,
   "metadata": {},
   "outputs": [],
   "source": [
    "def dijkstra(start):\n",
    "    distance[start] = 0\n",
    "    visited[start] = True\n",
    "    \n",
    "    for j in graph[start]:\n",
    "        distance[j[0]] = j[1]\n",
    "        \n",
    "    for i in range(n-1):\n",
    "        now = get_smallest_node()  \n",
    "        visited[now] = True\n",
    "        for j in graph[now]:\n",
    "            cost = distance[now] + j[1]\n",
    "            if distance[j[0]] > cost:\n",
    "                distance[j[0]] = cost"
   ]
  },
  {
   "cell_type": "code",
   "execution_count": 38,
   "metadata": {},
   "outputs": [
    {
     "data": {
      "text/plain": [
       "[0,\n",
       " 1000000000.0,\n",
       " 1000000000.0,\n",
       " 1000000000.0,\n",
       " 1000000000.0,\n",
       " 1000000000.0,\n",
       " 1000000000.0]"
      ]
     },
     "execution_count": 38,
     "metadata": {},
     "output_type": "execute_result"
    }
   ],
   "source": [
    "distance"
   ]
  },
  {
   "cell_type": "code",
   "execution_count": 37,
   "metadata": {},
   "outputs": [
    {
     "ename": "IndexError",
     "evalue": "list index out of range",
     "output_type": "error",
     "traceback": [
      "\u001b[1;31m---------------------------------------------------------------------------\u001b[0m",
      "\u001b[1;31mIndexError\u001b[0m                                Traceback (most recent call last)",
      "\u001b[1;32me:\\나동빈\\다잌스트라.ipynb Cell 6\u001b[0m line \u001b[0;36m<cell line: 1>\u001b[1;34m()\u001b[0m\n\u001b[1;32m----> <a href='vscode-notebook-cell:/e%3A/%EB%82%98%EB%8F%99%EB%B9%88/%EB%8B%A4%EC%9E%8C%EC%8A%A4%ED%8A%B8%EB%9D%BC.ipynb#X12sZmlsZQ%3D%3D?line=0'>1</a>\u001b[0m dijkstra(start)\n",
      "\u001b[1;32me:\\나동빈\\다잌스트라.ipynb Cell 6\u001b[0m line \u001b[0;36mdijkstra\u001b[1;34m(start)\u001b[0m\n\u001b[0;32m      <a href='vscode-notebook-cell:/e%3A/%EB%82%98%EB%8F%99%EB%B9%88/%EB%8B%A4%EC%9E%8C%EC%8A%A4%ED%8A%B8%EB%9D%BC.ipynb#X12sZmlsZQ%3D%3D?line=0'>1</a>\u001b[0m \u001b[39mdef\u001b[39;00m \u001b[39mdijkstra\u001b[39m(start):\n\u001b[0;32m      <a href='vscode-notebook-cell:/e%3A/%EB%82%98%EB%8F%99%EB%B9%88/%EB%8B%A4%EC%9E%8C%EC%8A%A4%ED%8A%B8%EB%9D%BC.ipynb#X12sZmlsZQ%3D%3D?line=1'>2</a>\u001b[0m     distance[start] \u001b[39m=\u001b[39m \u001b[39m0\u001b[39m\n\u001b[1;32m----> <a href='vscode-notebook-cell:/e%3A/%EB%82%98%EB%8F%99%EB%B9%88/%EB%8B%A4%EC%9E%8C%EC%8A%A4%ED%8A%B8%EB%9D%BC.ipynb#X12sZmlsZQ%3D%3D?line=2'>3</a>\u001b[0m     \u001b[39mprint\u001b[39m(distance[start\u001b[39m+\u001b[39;49m\u001b[39m7\u001b[39;49m])\n\u001b[0;32m      <a href='vscode-notebook-cell:/e%3A/%EB%82%98%EB%8F%99%EB%B9%88/%EB%8B%A4%EC%9E%8C%EC%8A%A4%ED%8A%B8%EB%9D%BC.ipynb#X12sZmlsZQ%3D%3D?line=3'>4</a>\u001b[0m     visited[start] \u001b[39m=\u001b[39m \u001b[39mTrue\u001b[39;00m\n\u001b[0;32m      <a href='vscode-notebook-cell:/e%3A/%EB%82%98%EB%8F%99%EB%B9%88/%EB%8B%A4%EC%9E%8C%EC%8A%A4%ED%8A%B8%EB%9D%BC.ipynb#X12sZmlsZQ%3D%3D?line=5'>6</a>\u001b[0m     \u001b[39mfor\u001b[39;00m j \u001b[39min\u001b[39;00m graph[start]:\n",
      "\u001b[1;31mIndexError\u001b[0m: list index out of range"
     ]
    }
   ],
   "source": [
    "dijkstra(start)"
   ]
  },
  {
   "cell_type": "code",
   "execution_count": 23,
   "metadata": {},
   "outputs": [
    {
     "name": "stdout",
     "output_type": "stream",
     "text": [
      "INFINITY\n",
      "INFINITY\n",
      "INFINITY\n",
      "INFINITY\n",
      "INFINITY\n",
      "INFINITY\n"
     ]
    }
   ],
   "source": [
    "for i in range(1, n+1):\n",
    "    if distance[i] == INF:\n",
    "        print(\"INFINITY\")\n",
    "    else:\n",
    "        print(distance[i])"
   ]
  }
 ],
 "metadata": {
  "kernelspec": {
   "display_name": "base",
   "language": "python",
   "name": "python3"
  },
  "language_info": {
   "codemirror_mode": {
    "name": "ipython",
    "version": 3
   },
   "file_extension": ".py",
   "mimetype": "text/x-python",
   "name": "python",
   "nbconvert_exporter": "python",
   "pygments_lexer": "ipython3",
   "version": "3.9.12"
  }
 },
 "nbformat": 4,
 "nbformat_minor": 2
}
