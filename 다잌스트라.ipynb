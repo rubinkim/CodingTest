{
 "cells": [
  {
   "cell_type": "code",
   "execution_count": 11,
   "metadata": {},
   "outputs": [
    {
     "name": "stdout",
     "output_type": "stream",
     "text": [
      "number of nodes : 6,  number of edges : 11\n",
      "node to start : 1\n",
      "\n",
      "[]\n",
      "[(4, 1), (2, 2), (3, 5)]\n",
      "[(3, 3), (4, 2)]\n",
      "[(2, 3), (6, 5)]\n",
      "[(3, 3), (5, 1)]\n",
      "[(3, 1), (6, 2)]\n",
      "[]\n"
     ]
    }
   ],
   "source": [
    "with open(\"data/dijkstra.txt\", \"r\") as input:\n",
    "    n, m = map(int, input.readline().split())\n",
    "    start = int(input.readline())\n",
    "    graph = [[] for _ in range(n+1)]\n",
    "    for _ in range(m):\n",
    "        a, b, c = map(int, input.readline().split())\n",
    "        graph[a].append((b, c))\n",
    "    \n",
    "print(f\"number of nodes : {n},  number of edges : {m}\")\n",
    "print(f\"node to start : {start}\")\n",
    "print()\n",
    "\n",
    "for row in graph:\n",
    "    print(row)"
   ]
  },
  {
   "cell_type": "code",
   "execution_count": 12,
   "metadata": {},
   "outputs": [],
   "source": [
    "visited = [False] * (n+1)\n",
    "INF = 1e9\n",
    "distance = [INF] * (n+1)\n",
    "path = [[] for _ in range(n+1)]"
   ]
  },
  {
   "cell_type": "code",
   "execution_count": 13,
   "metadata": {},
   "outputs": [
    {
     "name": "stdout",
     "output_type": "stream",
     "text": [
      "[False, False, False, False, False, False, False]\n",
      "[1000000000.0, 1000000000.0, 1000000000.0, 1000000000.0, 1000000000.0, 1000000000.0, 1000000000.0]\n",
      "[[], [], [], [], [], [], []]\n"
     ]
    }
   ],
   "source": [
    "print(visited)\n",
    "print(distance)\n",
    "print(path)"
   ]
  },
  {
   "cell_type": "code",
   "execution_count": 4,
   "metadata": {},
   "outputs": [],
   "source": [
    "def get_smallest_node():\n",
    "    min_value = INF\n",
    "    index = 0\n",
    "    for i in range(1, n+1):\n",
    "        if distance[i] < min_value and not visited[i]:\n",
    "            min_value = distance[i]\n",
    "            index = i\n",
    "    return index"
   ]
  },
  {
   "cell_type": "code",
   "execution_count": 5,
   "metadata": {},
   "outputs": [],
   "source": [
    "def dijkstra(start):\n",
    "    distance[start] = 0\n",
    "    visited[start] = True\n",
    "    \n",
    "    for j in graph[start]:\n",
    "        distance[j[0]] = j[1]\n",
    "        \n",
    "    for i in range(n-1):\n",
    "        now = get_smallest_node()  \n",
    "        visited[now] = True\n",
    "        for j in graph[now]:\n",
    "            cost = distance[now] + j[1]\n",
    "            if distance[j[0]] > cost:\n",
    "                distance[j[0]] = cost"
   ]
  },
  {
   "cell_type": "code",
   "execution_count": 6,
   "metadata": {},
   "outputs": [],
   "source": [
    "dijkstra(start)"
   ]
  },
  {
   "cell_type": "code",
   "execution_count": 7,
   "metadata": {},
   "outputs": [
    {
     "name": "stdout",
     "output_type": "stream",
     "text": [
      "0\n",
      "2\n",
      "3\n",
      "1\n",
      "2\n",
      "4\n"
     ]
    }
   ],
   "source": [
    "for i in range(1, n+1):\n",
    "    if distance[i] == INF:\n",
    "        print(\"INFINITY\")\n",
    "    else:\n",
    "        print(distance[i])"
   ]
  },
  {
   "cell_type": "code",
   "execution_count": 8,
   "metadata": {},
   "outputs": [],
   "source": [
    "def dijkstra_path(start):\n",
    "    distance[start] = 0\n",
    "    visited[start] = True\n",
    "    path[start] = str(start) + \" -> \"\n",
    "    \n",
    "    for j in graph[start]:\n",
    "        distance[j[0]] = j[1]\n",
    "        path[j[0]] = path[start] + str(j[0]) + \" -> \"\n",
    "        \n",
    "    for i in range(n):\n",
    "        now = get_smallest_node()  \n",
    "        visited[now] = True\n",
    "        for j in graph[now]:\n",
    "            cost = distance[now] + j[1]\n",
    "            new_path = path[now] + str(j[0]) + \" -> \"\n",
    "            if distance[j[0]] > cost:\n",
    "                distance[j[0]] = cost\n",
    "                path[j[0]] = new_path"
   ]
  },
  {
   "cell_type": "code",
   "execution_count": 14,
   "metadata": {},
   "outputs": [],
   "source": [
    "dijkstra_path(start)"
   ]
  },
  {
   "cell_type": "code",
   "execution_count": 15,
   "metadata": {},
   "outputs": [
    {
     "name": "stdout",
     "output_type": "stream",
     "text": [
      "INFINITY\n",
      "0\n",
      "2\n",
      "3\n",
      "1\n",
      "2\n",
      "4\n"
     ]
    }
   ],
   "source": [
    "for i in range(n+1):\n",
    "    if distance[i] == INF:\n",
    "        print(\"INFINITY\")\n",
    "    else:\n",
    "        print(distance[i])"
   ]
  },
  {
   "cell_type": "code",
   "execution_count": 16,
   "metadata": {},
   "outputs": [
    {
     "name": "stdout",
     "output_type": "stream",
     "text": [
      "No path to find\n",
      "1\n",
      "1 -> 2\n",
      "1 -> 4 -> 5 -> 3\n",
      "1 -> 4\n",
      "1 -> 4 -> 5\n",
      "1 -> 4 -> 5 -> 6\n"
     ]
    }
   ],
   "source": [
    "for i in range(n+1):\n",
    "    if path[i] == []:\n",
    "        print(\"No path to find\")\n",
    "    else:\n",
    "        print(path[i].rstrip(' -> '))"
   ]
  },
  {
   "cell_type": "markdown",
   "metadata": {},
   "source": [
    "##### 딕셔너리를 이용해서 데이터를 저장해보자"
   ]
  },
  {
   "cell_type": "code",
   "execution_count": 20,
   "metadata": {},
   "outputs": [
    {
     "name": "stdout",
     "output_type": "stream",
     "text": [
      "number of nodes : 6,  number of edges : 11\n",
      "start node number : 1\n",
      "\n",
      "[]\n",
      "[(4, 1), (2, 2), (3, 5)]\n",
      "[(3, 3), (4, 2)]\n",
      "[(2, 3), (6, 5)]\n",
      "[(3, 3), (5, 1)]\n",
      "[(3, 1), (6, 2)]\n",
      "[]\n"
     ]
    }
   ],
   "source": [
    "with open(\"data/dijkstra.txt\", \"r\") as input:\n",
    "    n, m = map(int, input.readline().split())        # n : 노드수,   m : 간선수\n",
    "    start = int(input.readline())                    # start : 시작하는 노드번호 \n",
    "    linked_nodes = [[] for _ in range(n+1)]\n",
    "    for _ in range(m):\n",
    "        a, b, c = map(int, input.readline().split()) # a : 출발노드,  b : 도착노드,  c : 둘사이의 거리\n",
    "        linked_nodes[a].append((b, c))\n",
    "        \n",
    "visited = [False] * (n+1)\n",
    "INF = 1e9\n",
    "distances = [INF] * (n+1)\n",
    "paths = [[] for _ in range(n+1)]\n",
    "        \n",
    "print(f\"number of nodes : {n},  number of edges : {m}\")\n",
    "print(f\"start node number : {start}\")\n",
    "print()\n",
    "for row in linked_nodes:\n",
    "    print(row)         "
   ]
  },
  {
   "cell_type": "code",
   "execution_count": 21,
   "metadata": {},
   "outputs": [
    {
     "name": "stdout",
     "output_type": "stream",
     "text": [
      "linked_node : [[], [(4, 1), (2, 2), (3, 5)], [(3, 3), (4, 2)], [(2, 3), (6, 5)], [(3, 3), (5, 1)], [(3, 1), (6, 2)], []]\n",
      "visited : [False, False, False, False, False, False, False]\n",
      "distance : [1000000000.0, 1000000000.0, 1000000000.0, 1000000000.0, 1000000000.0, 1000000000.0, 1000000000.0]\n",
      "path : [[], [], [], [], [], [], []]\n"
     ]
    }
   ],
   "source": [
    "names = ['linked_node', 'visited', 'distance', 'path']\n",
    "values = [linked_nodes, visited, distances, paths]\n",
    "\n",
    "graph_dict = dict(zip(names, values))\n",
    "\n",
    "for k, v in graph_dict.items():\n",
    "    print(f\"{k} : {v}\")"
   ]
  },
  {
   "cell_type": "code",
   "execution_count": 22,
   "metadata": {},
   "outputs": [],
   "source": [
    "def get_shortest_node():\n",
    "    index = 0\n",
    "    min_value = INF    \n",
    "    for i in range(1, n+1):\n",
    "        if graph_dict['distance'][i] < min_value and not graph_dict['visited'][i]:\n",
    "            min_value = graph_dict['distance'][i]\n",
    "            index = i\n",
    "    return index"
   ]
  },
  {
   "cell_type": "code",
   "execution_count": 23,
   "metadata": {},
   "outputs": [],
   "source": [
    "def dijkstra_dict(start):    \n",
    "    graph_dict['distance'][start] = 0\n",
    "    graph_dict['visited'][start] = True\n",
    "    graph_dict['path'][start] = str(start) + \" -> \"\n",
    "    \n",
    "    for end_node, dist in graph_dict['linked_node'][start]:\n",
    "        graph_dict['distance'][end_node] = dist\n",
    "        graph_dict['path'][end_node] = graph_dict['path'][start] + str(end_node) + \" -> \"\n",
    "        \n",
    "    for i in range(n):\n",
    "        now = get_shortest_node()\n",
    "        graph_dict['visited'][now] = True\n",
    "        \n",
    "        for end_node, dist in graph_dict['linked_node'][now]:\n",
    "            cost = graph_dict['distance'][now] + dist\n",
    "            new_path = graph_dict['path'][now] + str(end_node) + \" -> \"\n",
    "            if graph_dict['distance'][end_node] > cost:\n",
    "                graph_dict['distance'][end_node] = cost\n",
    "                graph_dict['path'][end_node] = new_path"
   ]
  },
  {
   "cell_type": "code",
   "execution_count": 24,
   "metadata": {},
   "outputs": [],
   "source": [
    "dijkstra_dict(start)"
   ]
  },
  {
   "cell_type": "code",
   "execution_count": 27,
   "metadata": {},
   "outputs": [
    {
     "name": "stdout",
     "output_type": "stream",
     "text": [
      "INFINITY\n",
      "0\n",
      "2\n",
      "3\n",
      "1\n",
      "2\n",
      "4\n"
     ]
    }
   ],
   "source": [
    "for i in range(n+1):\n",
    "    if graph_dict['distance'][i] == INF:\n",
    "        print(\"INFINITY\")\n",
    "    else:\n",
    "        print(graph_dict['distance'][i])"
   ]
  },
  {
   "cell_type": "code",
   "execution_count": 28,
   "metadata": {},
   "outputs": [
    {
     "name": "stdout",
     "output_type": "stream",
     "text": [
      "No path to find\n",
      "1\n",
      "1 -> 2\n",
      "1 -> 4 -> 5 -> 3\n",
      "1 -> 4\n",
      "1 -> 4 -> 5\n",
      "1 -> 4 -> 5 -> 6\n"
     ]
    }
   ],
   "source": [
    "for i in range(n+1):\n",
    "    if graph_dict['path'][i] == []:\n",
    "        print(\"No path to find\")\n",
    "    else:\n",
    "        print(graph_dict['path'][i].rstrip(\" -> \"))"
   ]
  },
  {
   "cell_type": "markdown",
   "metadata": {},
   "source": [
    "##### 우선순위큐를 이용한 다잌스트라 알고리즘"
   ]
  },
  {
   "cell_type": "code",
   "execution_count": 1,
   "metadata": {},
   "outputs": [
    {
     "name": "stdout",
     "output_type": "stream",
     "text": [
      "number of nodes : 6,  number of edges : 11\n",
      "node to start : 1\n",
      "\n",
      "[]\n",
      "[(4, 1), (2, 2), (3, 5)]\n",
      "[(3, 3), (4, 2)]\n",
      "[(2, 3), (6, 5)]\n",
      "[(3, 3), (5, 1)]\n",
      "[(3, 1), (6, 2)]\n",
      "[]\n"
     ]
    }
   ],
   "source": [
    "# 매상황마다 거리가 가장 짧은 노드를 선택하는 과정에서 get_smallest_node()함수대신 heap자료구조를 이용해서 시간복잡도를 O(v**2)에서 O(vlogv)로 줄일 수 있다.\n",
    "with open(\"data/dijkstra.txt\", \"r\") as input:\n",
    "    n, m = map(int, input.readline().split())\n",
    "    start = int(input.readline())\n",
    "    graph = [[] for _ in range(n+1)]\n",
    "    for _ in range(m):\n",
    "        a, b, c = map(int, input.readline().split())\n",
    "        graph[a].append((b, c))\n",
    "    \n",
    "print(f\"number of nodes : {n},  number of edges : {m}\")\n",
    "print(f\"node to start : {start}\")\n",
    "print()\n",
    "\n",
    "for row in graph:\n",
    "    print(row)"
   ]
  },
  {
   "cell_type": "code",
   "execution_count": 2,
   "metadata": {},
   "outputs": [
    {
     "name": "stdout",
     "output_type": "stream",
     "text": [
      "[1000000000.0, 1000000000.0, 1000000000.0, 1000000000.0, 1000000000.0, 1000000000.0, 1000000000.0]\n",
      "[False, False, False, False, False, False, False]\n",
      "['', '', '', '', '', '', '']\n"
     ]
    }
   ],
   "source": [
    "# 별도로 방문처리가 되었는지 여부를 확인하는 table이 필요하지 않기 때문에 visited라는 table을 사용하지 않는다.\n",
    "INF = 1e9\n",
    "distance = [INF] * (n+1)\n",
    "visited = [False] * (n+1)\n",
    "route = [\"\" for _ in range(n+1)]\n",
    "print(distance)\n",
    "print(visited)\n",
    "print(route)"
   ]
  },
  {
   "cell_type": "code",
   "execution_count": 3,
   "metadata": {},
   "outputs": [],
   "source": [
    "import heapq\n",
    "\n",
    "def dijkstra_heap(start):\n",
    "    q = []\n",
    "    heapq.heappush(q, (0, start))\n",
    "    distance[start] = 0\n",
    "    while q:\n",
    "        dist, now = heapq.heappop(q)\n",
    "        if distance[now] < dist:\n",
    "            continue\n",
    "        \n",
    "        for i in graph[now]:\n",
    "            cost = dist + i[1]\n",
    "            if cost < distance[i[0]]:\n",
    "                distance[i[0]] = cost\n",
    "                heapq.heappush(q, (cost, i[0]))            "
   ]
  },
  {
   "cell_type": "code",
   "execution_count": 15,
   "metadata": {},
   "outputs": [],
   "source": [
    "import heapq\n",
    "\n",
    "def dijkstra_heap_path(start):\n",
    "    q = []\n",
    "    heapq.heappush(q, (0, start))\n",
    "    visited[start] = True\n",
    "    distance[start] = 0    \n",
    "    route[start] = str(start) + \" -> \"\n",
    "    while q:\n",
    "        dist, now = heapq.heappop(q)\n",
    "        if distance[now] < dist:\n",
    "            continue\n",
    "        else:\n",
    "            visited[now] = True\n",
    "        \n",
    "        \n",
    "        for i in graph[now]:\n",
    "            cost = dist + i[1]\n",
    "            if now == start:\n",
    "                new_route = route[start] + str(i[0]) + \" -> \"\n",
    "            else:\n",
    "                new_route += str(i[0]) + \" -> \"\n",
    "            if cost < distance[i[0]]:\n",
    "                visited[i[0]] = True\n",
    "                distance[i[0]] = cost\n",
    "                route[i[0]] = new_route\n",
    "                heapq.heappush(q, (cost, i[0]))  "
   ]
  },
  {
   "cell_type": "code",
   "execution_count": 11,
   "metadata": {},
   "outputs": [],
   "source": [
    "def dijkstra_path(start):\n",
    "    distance[start] = 0\n",
    "    visited[start] = True\n",
    "    path[start] = str(start) + \" -> \"\n",
    "    \n",
    "    for j in graph[start]:\n",
    "        distance[j[0]] = j[1]\n",
    "        path[j[0]] = path[start] + str(j[0]) + \" -> \"\n",
    "        \n",
    "    for i in range(n):\n",
    "        now = get_smallest_node()  \n",
    "        visited[now] = True\n",
    "        for j in graph[now]:\n",
    "            cost = distance[now] + j[1]\n",
    "            new_path = route[now] + str(j[0]) + \" -> \"\n",
    "            if distance[j[0]] > cost:\n",
    "                distance[j[0]] = cost\n",
    "                path[j[0]] = new_path"
   ]
  },
  {
   "cell_type": "code",
   "execution_count": 4,
   "metadata": {},
   "outputs": [],
   "source": [
    "dijkstra_heap(start)"
   ]
  },
  {
   "cell_type": "code",
   "execution_count": 16,
   "metadata": {},
   "outputs": [],
   "source": [
    "dijkstra_heap_path(start)"
   ]
  },
  {
   "cell_type": "code",
   "execution_count": 5,
   "metadata": {},
   "outputs": [
    {
     "name": "stdout",
     "output_type": "stream",
     "text": [
      "INFINITY\n",
      "0\n",
      "2\n",
      "3\n",
      "1\n",
      "2\n",
      "4\n"
     ]
    }
   ],
   "source": [
    "for i in range(n+1):\n",
    "    if distance[i] == INF:\n",
    "        print(\"INFINITY\")\n",
    "    else:\n",
    "        print(distance[i])"
   ]
  },
  {
   "cell_type": "code",
   "execution_count": 18,
   "metadata": {},
   "outputs": [
    {
     "name": "stdout",
     "output_type": "stream",
     "text": [
      "\n",
      "1\n",
      "1 -> 2\n",
      "1 -> 3 -> 3 -> 5 -> 3 -> 4 -> 3\n",
      "1 -> 4\n",
      "1 -> 3 -> 3 -> 5\n",
      "1 -> 3 -> 3 -> 5 -> 3 -> 4 -> 3 -> 6\n"
     ]
    }
   ],
   "source": [
    "for i in range(n+1):\n",
    "    if route[i] == []:\n",
    "        print(\"No path to find\")\n",
    "    else:\n",
    "        print(route[i].rstrip(' -> '))"
   ]
  },
  {
   "cell_type": "markdown",
   "metadata": {},
   "source": [
    "##### dijkstra algorithm using priority queue"
   ]
  },
  {
   "cell_type": "code",
   "execution_count": 1,
   "metadata": {},
   "outputs": [
    {
     "name": "stdout",
     "output_type": "stream",
     "text": [
      "노드의 개수 : {n},  간선의 개수 : {m}\n",
      "출발노드 : 1\n",
      "\n",
      "[1000000000, 1000000000, 1000000000, 1000000000, 1000000000, 1000000000, 1000000000]\n",
      "['', '', '', '', '', '', '']\n",
      "[]\n",
      "[(4, 1), (2, 2), (3, 5)]\n",
      "[(3, 3), (4, 2)]\n",
      "[(2, 3), (6, 5)]\n",
      "[(3, 3), (5, 1)]\n",
      "[(3, 1), (6, 2)]\n",
      "[]\n"
     ]
    }
   ],
   "source": [
    "n, m = map(int, input().split())\n",
    "print(\"노드의 개수 : {n},  간선의 개수 : {m}\")\n",
    "\n",
    "start = int(input())\n",
    "print(f\"출발노드 : {start}\")\n",
    "print()\n",
    "\n",
    "INF = int(1e9)\n",
    "distance = [INF] * (n+1)\n",
    "route = [\"\"] * (n+1)\n",
    "print(distance)\n",
    "print(route)\n",
    "\n",
    "graph = [[] for _ in range(n+1)]\n",
    "for _ in range(m):\n",
    "    a, b, c = map(int, input().split())   # a : 출발노드,  b : 도착노드,  c : 거리\n",
    "    graph[a].append((b, c))\n",
    "    \n",
    "for row in graph:\n",
    "    print(row)"
   ]
  },
  {
   "cell_type": "code",
   "execution_count": 2,
   "metadata": {},
   "outputs": [],
   "source": [
    "import heapq\n",
    "\n",
    "def dijkstra_pq(start):\n",
    "    q = []\n",
    "    distance[start] = 0\n",
    "    route[start] = str(start) + \" -> \"\n",
    "    heapq.heappush(q, (0, start, str(start)+\" -> \"))\n",
    "    \n",
    "    while q:\n",
    "        dist, now, path = heapq.heappop(q)\n",
    "        if distance[now] < dist:\n",
    "            continue\n",
    "        for n, d in graph[now]:\n",
    "            cost = dist + d\n",
    "            path_to_i = path + str(n) + \" -> \"\n",
    "            if cost < distance[n]:\n",
    "                distance[n] = cost\n",
    "                route[n] = path_to_i\n",
    "                heapq.heappush(q, (cost, n, path_to_i))"
   ]
  },
  {
   "cell_type": "code",
   "execution_count": 3,
   "metadata": {},
   "outputs": [],
   "source": [
    "dijkstra_pq(start)"
   ]
  },
  {
   "cell_type": "code",
   "execution_count": 4,
   "metadata": {},
   "outputs": [
    {
     "name": "stdout",
     "output_type": "stream",
     "text": [
      "0\n",
      "2\n",
      "3\n",
      "1\n",
      "2\n",
      "4\n"
     ]
    }
   ],
   "source": [
    "for i in range(1, n+1):\n",
    "    if distance[i] == INF:\n",
    "        print(\"INFINITY\")\n",
    "    else:\n",
    "        print(distance[i])"
   ]
  }
 ],
 "metadata": {
  "kernelspec": {
   "display_name": "base",
   "language": "python",
   "name": "python3"
  },
  "language_info": {
   "codemirror_mode": {
    "name": "ipython",
    "version": 3
   },
   "file_extension": ".py",
   "mimetype": "text/x-python",
   "name": "python",
   "nbconvert_exporter": "python",
   "pygments_lexer": "ipython3",
   "version": "3.9.12"
  }
 },
 "nbformat": 4,
 "nbformat_minor": 2
}
