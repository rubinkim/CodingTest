{
 "cells": [
  {
   "cell_type": "code",
   "execution_count": 1,
   "metadata": {},
   "outputs": [
    {
     "name": "stdout",
     "output_type": "stream",
     "text": [
      "number of nodes : 6,  number of edges : 11\n",
      "node to start : 0\n",
      "\n",
      "[]\n",
      "[(4, 1), (2, 2), (3, 5)]\n",
      "[(3, 3), (4, 2)]\n",
      "[(2, 3), (6, 5)]\n",
      "[(3, 3), (5, 1)]\n",
      "[(3, 1), (6, 2)]\n",
      "[]\n"
     ]
    }
   ],
   "source": [
    "with open(\"data/dijkstra.txt\", \"r\") as input:\n",
    "    n, m = map(int, input.readline().split())\n",
    "    start = int(input.readline())\n",
    "    graph = [[] for _ in range(n+1)]\n",
    "    for _ in range(m):\n",
    "        a, b, c = map(int, input.readline().split())\n",
    "        graph[a].append((b, c))\n",
    "    \n",
    "print(f\"number of nodes : {n},  number of edges : {m}\")\n",
    "print(f\"node to start : {start}\")\n",
    "print()\n",
    "\n",
    "for row in graph:\n",
    "    print(row)"
   ]
  },
  {
   "cell_type": "code",
   "execution_count": 7,
   "metadata": {},
   "outputs": [],
   "source": [
    "visited = [False] * (n+1)\n",
    "INF = 1e9\n",
    "distance = [INF] * (n+1)\n",
    "path = [[] for _ in range(n+1)]"
   ]
  },
  {
   "cell_type": "code",
   "execution_count": 8,
   "metadata": {},
   "outputs": [
    {
     "name": "stdout",
     "output_type": "stream",
     "text": [
      "[False, False, False, False, False, False, False]\n",
      "[1000000000.0, 1000000000.0, 1000000000.0, 1000000000.0, 1000000000.0, 1000000000.0, 1000000000.0]\n",
      "[[], [], [], [], [], [], []]\n"
     ]
    }
   ],
   "source": [
    "print(visited)\n",
    "print(distance)\n",
    "print(path)"
   ]
  },
  {
   "cell_type": "code",
   "execution_count": 9,
   "metadata": {},
   "outputs": [],
   "source": [
    "def get_smallest_node():\n",
    "    min_value = INF\n",
    "    index = 0\n",
    "    for i in range(1, n+1):\n",
    "        if distance[i] < min_value and not visited[i]:\n",
    "            min_value = distance[i]\n",
    "            index = i\n",
    "    return index"
   ]
  },
  {
   "cell_type": "code",
   "execution_count": null,
   "metadata": {},
   "outputs": [],
   "source": [
    "def dijksta(start):\n",
    "    distance[start] = 0\n",
    "    visited[start] = True\n",
    "    \n",
    "    for j in graph[start]:\n",
    "        distance[j[0]] = j[1]\n",
    "        \n",
    "      "
   ]
  }
 ],
 "metadata": {
  "kernelspec": {
   "display_name": "base",
   "language": "python",
   "name": "python3"
  },
  "language_info": {
   "codemirror_mode": {
    "name": "ipython",
    "version": 3
   },
   "file_extension": ".py",
   "mimetype": "text/x-python",
   "name": "python",
   "nbconvert_exporter": "python",
   "pygments_lexer": "ipython3",
   "version": "3.9.12"
  }
 },
 "nbformat": 4,
 "nbformat_minor": 2
}
