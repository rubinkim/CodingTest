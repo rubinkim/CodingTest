{
 "cells": [
  {
   "cell_type": "code",
   "execution_count": 1,
   "metadata": {},
   "outputs": [],
   "source": [
    "import sys\n",
    "input = sys.stdin.readline\n",
    "\n",
    "INF = int(1e9)"
   ]
  },
  {
   "cell_type": "code",
   "execution_count": 20,
   "metadata": {},
   "outputs": [],
   "source": [
    "input = open(\"data/dijkstra.txt\", \"r\")\n",
    "\n",
    "n, m = map(int, input.readline().split())      # n : 노드수,  m : 간선수\n",
    "start = int(input.readline())\n",
    "\n",
    "graph = [[] for _ in range(n+1)]\n",
    "visited = [False] * (n+1)\n",
    "\n",
    "INF = int(1e9)\n",
    "distance = [INF] * (n+1)\n",
    "\n",
    "for _ in range(m):\n",
    "    a, b, c = map(int, input.readline().split())     # a : 출발노드,   b : 도착노드,   c : a부터 b까지의 거리\n",
    "    graph[a].append((b, c))"
   ]
  },
  {
   "cell_type": "code",
   "execution_count": 24,
   "metadata": {},
   "outputs": [
    {
     "data": {
      "text/plain": [
       "(6, int, 11, int, 0, int)"
      ]
     },
     "execution_count": 24,
     "metadata": {},
     "output_type": "execute_result"
    }
   ],
   "source": [
    "n, type(n), m, type(m), start, type(start)"
   ]
  },
  {
   "cell_type": "code",
   "execution_count": 25,
   "metadata": {},
   "outputs": [
    {
     "name": "stdout",
     "output_type": "stream",
     "text": [
      "[]\n",
      "[(4, 1), (2, 2), (3, 5)]\n",
      "[(3, 3), (4, 2)]\n",
      "[(2, 3), (6, 5)]\n",
      "[(3, 3), (5, 1)]\n",
      "[(3, 1), (6, 2)]\n",
      "[]\n"
     ]
    }
   ],
   "source": [
    "for row in graph:\n",
    "    print(row)"
   ]
  }
 ],
 "metadata": {
  "kernelspec": {
   "display_name": "base",
   "language": "python",
   "name": "python3"
  },
  "language_info": {
   "codemirror_mode": {
    "name": "ipython",
    "version": 3
   },
   "file_extension": ".py",
   "mimetype": "text/x-python",
   "name": "python",
   "nbconvert_exporter": "python",
   "pygments_lexer": "ipython3",
   "version": "3.9.12"
  }
 },
 "nbformat": 4,
 "nbformat_minor": 2
}
