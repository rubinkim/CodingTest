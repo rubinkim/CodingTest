{
 "cells": [
  {
   "cell_type": "code",
   "execution_count": null,
   "metadata": {},
   "outputs": [],
   "source": [
    "# 화폐 단위에서 큰 단위가 작은 단위의 배수가 아닐 경우도 풀어 내려면 Greedy알고리즘은 안되고 Dynamic Programming을 이용해야 한다.\n",
    "# 금액 i를 만들 수 있는 최소한의 화폐 개수를 a(i)로 정의하고 화폐의 단위를 k라고 할 때 점화식은 \n",
    "# 1) a(i-k)를 만드는 방법이 존재하는 경우 a(i) = min(a(i), a(i-k)+1)\n",
    "# 2) a(i-k)를 만드는 방법이 존재하지 않는 경우 a(i) = 10001   # 문제에서 거스름돈의 최대 크기는 10000으로 정해져 있으므로 실현불가능한 화폐 개수를 10001로 했다.\n",
    "# 로 정의해야 한다."
   ]
  },
  {
   "cell_type": "code",
   "execution_count": 38,
   "metadata": {},
   "outputs": [],
   "source": [
    "# n : 화폐 종류의 개수,  m : 거스름 돈\n",
    "n, m = map(int, input().split())       # n : 5,  m : 21\n",
    "\n",
    "# n종류의 화폐단위로 구성된 리스트 만들기\n",
    "coins = []\n",
    "for i in range(n):\n",
    "    coins.append(int(input()))       # 2, 3, 5, 7, 8"
   ]
  },
  {
   "cell_type": "code",
   "execution_count": 39,
   "metadata": {},
   "outputs": [
    {
     "name": "stdout",
     "output_type": "stream",
     "text": [
      "화페종류 : 5,   거스름 돈 : 21\n",
      "coins : [2, 3, 5, 7, 8]\n"
     ]
    }
   ],
   "source": [
    "print(f\"화페종류 : {n},   거스름 돈 : {m}\")\n",
    "print(f\"coins : {coins}\")"
   ]
  },
  {
   "cell_type": "code",
   "execution_count": 40,
   "metadata": {},
   "outputs": [
    {
     "name": "stdout",
     "output_type": "stream",
     "text": [
      "[0, 10001, 10001, 10001, 10001, 10001, 10001, 10001, 10001, 10001, 10001, 10001, 10001, 10001, 10001, 10001, 10001, 10001, 10001, 10001, 10001, 10001]\n"
     ]
    }
   ],
   "source": [
    "# 한 번 계산된 결과를 저장하기 위한 DP테이블(d)는  화폐단위를 인덱스, 사용개수를 그 값으로 구성하고 사용개수 초기값을 실현불가능한 개수 10001로 한다. 다만 화폐단위가 0이면 개수는 0으로 한다.\n",
    "d = [10001] * (m+1)\n",
    "d[0] = 0\n",
    "print(d)"
   ]
  },
  {
   "cell_type": "code",
   "execution_count": 41,
   "metadata": {},
   "outputs": [
    {
     "name": "stdout",
     "output_type": "stream",
     "text": [
      "   0      1      2      3      4      5      6      7      8      9      10  \\\n",
      "0   0  10001  10001  10001  10001  10001  10001  10001  10001  10001  10001   \n",
      "\n",
      "      11     12     13     14     15     16     17     18     19     20     21  \n",
      "0  10001  10001  10001  10001  10001  10001  10001  10001  10001  10001  10001  \n"
     ]
    }
   ],
   "source": [
    "import pandas as pd\n",
    "pd.set_option('display.max_colwidth', 3000)\n",
    "\n",
    "coins_df = pd.DataFrame(data=d, index=range(m+1)).T\n",
    "print(coins_df)"
   ]
  },
  {
   "cell_type": "code",
   "execution_count": 42,
   "metadata": {},
   "outputs": [
    {
     "data": {
      "text/plain": [
       "[2, 3, 5, 7, 8]"
      ]
     },
     "execution_count": 42,
     "metadata": {},
     "output_type": "execute_result"
    }
   ],
   "source": [
    "coins"
   ]
  },
  {
   "cell_type": "code",
   "execution_count": 43,
   "metadata": {},
   "outputs": [
    {
     "name": "stdout",
     "output_type": "stream",
     "text": [
      "i : 0,   j :  2,   coins[0] : 2,   d[2-coins[0]]+1 : 1\n",
      "i : 0,   j :  4,   coins[0] : 2,   d[4-coins[0]]+1 : 2\n",
      "i : 0,   j :  6,   coins[0] : 2,   d[6-coins[0]]+1 : 3\n",
      "i : 0,   j :  8,   coins[0] : 2,   d[8-coins[0]]+1 : 4\n",
      "i : 0,   j : 10,   coins[0] : 2,   d[10-coins[0]]+1 : 5\n",
      "i : 0,   j : 12,   coins[0] : 2,   d[12-coins[0]]+1 : 6\n",
      "i : 0,   j : 14,   coins[0] : 2,   d[14-coins[0]]+1 : 7\n",
      "i : 0,   j : 16,   coins[0] : 2,   d[16-coins[0]]+1 : 8\n",
      "i : 0,   j : 18,   coins[0] : 2,   d[18-coins[0]]+1 : 9\n",
      "i : 0,   j : 20,   coins[0] : 2,   d[20-coins[0]]+1 : 10\n",
      "i : 1,   j :  3,   coins[1] : 3,   d[3-coins[1]]+1 : 1\n",
      "i : 1,   j :  5,   coins[1] : 3,   d[5-coins[1]]+1 : 2\n",
      "i : 1,   j :  6,   coins[1] : 3,   d[6-coins[1]]+1 : 2\n",
      "i : 1,   j :  7,   coins[1] : 3,   d[7-coins[1]]+1 : 3\n",
      "i : 1,   j :  8,   coins[1] : 3,   d[8-coins[1]]+1 : 3\n",
      "i : 1,   j :  9,   coins[1] : 3,   d[9-coins[1]]+1 : 3\n",
      "i : 1,   j : 10,   coins[1] : 3,   d[10-coins[1]]+1 : 4\n",
      "i : 1,   j : 11,   coins[1] : 3,   d[11-coins[1]]+1 : 4\n",
      "i : 1,   j : 12,   coins[1] : 3,   d[12-coins[1]]+1 : 4\n",
      "i : 1,   j : 13,   coins[1] : 3,   d[13-coins[1]]+1 : 5\n",
      "i : 1,   j : 14,   coins[1] : 3,   d[14-coins[1]]+1 : 5\n",
      "i : 1,   j : 15,   coins[1] : 3,   d[15-coins[1]]+1 : 5\n",
      "i : 1,   j : 16,   coins[1] : 3,   d[16-coins[1]]+1 : 6\n",
      "i : 1,   j : 17,   coins[1] : 3,   d[17-coins[1]]+1 : 6\n",
      "i : 1,   j : 18,   coins[1] : 3,   d[18-coins[1]]+1 : 6\n",
      "i : 1,   j : 19,   coins[1] : 3,   d[19-coins[1]]+1 : 7\n",
      "i : 1,   j : 20,   coins[1] : 3,   d[20-coins[1]]+1 : 7\n",
      "i : 1,   j : 21,   coins[1] : 3,   d[21-coins[1]]+1 : 7\n",
      "i : 2,   j :  5,   coins[2] : 5,   d[5-coins[2]]+1 : 1\n",
      "i : 2,   j :  7,   coins[2] : 5,   d[7-coins[2]]+1 : 2\n",
      "i : 2,   j :  8,   coins[2] : 5,   d[8-coins[2]]+1 : 2\n",
      "i : 2,   j :  9,   coins[2] : 5,   d[9-coins[2]]+1 : 3\n",
      "i : 2,   j : 10,   coins[2] : 5,   d[10-coins[2]]+1 : 2\n",
      "i : 2,   j : 11,   coins[2] : 5,   d[11-coins[2]]+1 : 3\n",
      "i : 2,   j : 12,   coins[2] : 5,   d[12-coins[2]]+1 : 3\n",
      "i : 2,   j : 13,   coins[2] : 5,   d[13-coins[2]]+1 : 3\n",
      "i : 2,   j : 14,   coins[2] : 5,   d[14-coins[2]]+1 : 4\n",
      "i : 2,   j : 15,   coins[2] : 5,   d[15-coins[2]]+1 : 3\n",
      "i : 2,   j : 16,   coins[2] : 5,   d[16-coins[2]]+1 : 4\n",
      "i : 2,   j : 17,   coins[2] : 5,   d[17-coins[2]]+1 : 4\n",
      "i : 2,   j : 18,   coins[2] : 5,   d[18-coins[2]]+1 : 4\n",
      "i : 2,   j : 19,   coins[2] : 5,   d[19-coins[2]]+1 : 5\n",
      "i : 2,   j : 20,   coins[2] : 5,   d[20-coins[2]]+1 : 4\n",
      "i : 2,   j : 21,   coins[2] : 5,   d[21-coins[2]]+1 : 5\n",
      "i : 3,   j :  7,   coins[3] : 7,   d[7-coins[3]]+1 : 1\n",
      "i : 3,   j :  9,   coins[3] : 7,   d[9-coins[3]]+1 : 2\n",
      "i : 3,   j : 10,   coins[3] : 7,   d[10-coins[3]]+1 : 2\n",
      "i : 3,   j : 11,   coins[3] : 7,   d[11-coins[3]]+1 : 3\n",
      "i : 3,   j : 12,   coins[3] : 7,   d[12-coins[3]]+1 : 2\n",
      "i : 3,   j : 13,   coins[3] : 7,   d[13-coins[3]]+1 : 3\n",
      "i : 3,   j : 14,   coins[3] : 7,   d[14-coins[3]]+1 : 2\n",
      "i : 3,   j : 15,   coins[3] : 7,   d[15-coins[3]]+1 : 3\n",
      "i : 3,   j : 16,   coins[3] : 7,   d[16-coins[3]]+1 : 3\n",
      "i : 3,   j : 17,   coins[3] : 7,   d[17-coins[3]]+1 : 3\n",
      "i : 3,   j : 18,   coins[3] : 7,   d[18-coins[3]]+1 : 4\n",
      "i : 3,   j : 19,   coins[3] : 7,   d[19-coins[3]]+1 : 3\n",
      "i : 3,   j : 20,   coins[3] : 7,   d[20-coins[3]]+1 : 4\n",
      "i : 3,   j : 21,   coins[3] : 7,   d[21-coins[3]]+1 : 3\n",
      "i : 4,   j :  8,   coins[4] : 8,   d[8-coins[4]]+1 : 1\n",
      "i : 4,   j : 10,   coins[4] : 8,   d[10-coins[4]]+1 : 2\n",
      "i : 4,   j : 11,   coins[4] : 8,   d[11-coins[4]]+1 : 2\n",
      "i : 4,   j : 12,   coins[4] : 8,   d[12-coins[4]]+1 : 3\n",
      "i : 4,   j : 13,   coins[4] : 8,   d[13-coins[4]]+1 : 2\n",
      "i : 4,   j : 14,   coins[4] : 8,   d[14-coins[4]]+1 : 3\n",
      "i : 4,   j : 15,   coins[4] : 8,   d[15-coins[4]]+1 : 2\n",
      "i : 4,   j : 16,   coins[4] : 8,   d[16-coins[4]]+1 : 2\n",
      "i : 4,   j : 17,   coins[4] : 8,   d[17-coins[4]]+1 : 3\n",
      "i : 4,   j : 18,   coins[4] : 8,   d[18-coins[4]]+1 : 3\n",
      "i : 4,   j : 19,   coins[4] : 8,   d[19-coins[4]]+1 : 3\n",
      "i : 4,   j : 20,   coins[4] : 8,   d[20-coins[4]]+1 : 3\n",
      "i : 4,   j : 21,   coins[4] : 8,   d[21-coins[4]]+1 : 3\n"
     ]
    }
   ],
   "source": [
    "for i in range(n):\n",
    "    for j in range(coins[i], m+1):\n",
    "        if d[j - coins[i]] != 10001:\n",
    "            #print(f\"i : {i},   j : {j:>2},   coins[{i}] : {coins[i]},   d[{j}-coins[{i}]] : {d[j-coins[i]]}\")\n",
    "            \n",
    "            d[j] = min(d[j], d[j-coins[i]]+1)            \n",
    "            print(f\"i : {i},   j : {j:>2},   coins[{i}] : {coins[i]},   d[{j}-coins[{i}]]+1 : {d[j-coins[i]]+1}\")                 "
   ]
  },
  {
   "cell_type": "code",
   "execution_count": 44,
   "metadata": {},
   "outputs": [
    {
     "name": "stdout",
     "output_type": "stream",
     "text": [
      "3\n"
     ]
    }
   ],
   "source": [
    "# 계산된 결과 출력\n",
    "if d[m] == 10001:     # 최종적으로 m원을 만들 수 없는 경우\n",
    "    print(-1)  \n",
    "else:\n",
    "    print(d[m])   "
   ]
  }
 ],
 "metadata": {
  "kernelspec": {
   "display_name": "base",
   "language": "python",
   "name": "python3"
  },
  "language_info": {
   "codemirror_mode": {
    "name": "ipython",
    "version": 3
   },
   "file_extension": ".py",
   "mimetype": "text/x-python",
   "name": "python",
   "nbconvert_exporter": "python",
   "pygments_lexer": "ipython3",
   "version": "3.9.12"
  }
 },
 "nbformat": 4,
 "nbformat_minor": 2
}
