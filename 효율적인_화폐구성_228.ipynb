{
 "cells": [
  {
   "cell_type": "code",
   "execution_count": null,
   "metadata": {},
   "outputs": [],
   "source": [
    "# 화폐 단위에서 큰 단위가 작은 단위의 배수가 아닐 경우도 풀어 내려면 Greedy알고리즘은 안되고 Dynamic Programming을 이용해야 한다.\n",
    "# 금액 i를 만들 수 있는 최소한의 화폐 개수를 a(i)로 정의하고 화폐의 단위를 k라고 할 때 점화식은 \n",
    "# 1) a(i-k)를 만드는 방법이 존재하는 경우 a(i) = min(a(i), a(i-k)+1)\n",
    "# 2) a(i-k)를 만드는 방법이 존재하지 않는 경우 a(i) = 10001\n",
    "# 로 정의해야 한다."
   ]
  }
 ],
 "metadata": {
  "language_info": {
   "name": "python"
  }
 },
 "nbformat": 4,
 "nbformat_minor": 2
}
