{
 "cells": [
  {
   "cell_type": "code",
   "execution_count": null,
   "metadata": {},
   "outputs": [],
   "source": [
    "# 화폐 단위에서 큰 단위가 작은 단위의 배수가 아닐 경우도 풀어 내려면 Greedy알고리즘은 안되고 Dynamic Programming을 이용해야 한다.\n",
    "# 금액 i를 만들 수 있는 최소한의 화폐 개수를 a(i)로 정의하고 화폐의 단위를 k라고 할 때 점화식은 \n",
    "# 1) a(i-k)를 만드는 방법이 존재하는 경우 a(i) = min(a(i), a(i-k)+1)\n",
    "# 2) a(i-k)를 만드는 방법이 존재하지 않는 경우 a(i) = 10001   # 문제에서 거스름돈의 최대 크기는 10000으로 정해져 있으므로 실현불가능한 화폐 개수를 10001로 했다.\n",
    "# 로 정의해야 한다."
   ]
  },
  {
   "cell_type": "code",
   "execution_count": 1,
   "metadata": {},
   "outputs": [],
   "source": [
    "# n : 화폐 종류의 개수,  m : 거스름 돈\n",
    "n, m = map(int, input().split())       # n : 5,  m : 2400\n",
    "\n",
    "# n종류의 화폐단위로 구성된 리스트 만들기\n",
    "coins = []\n",
    "for i in range(n):\n",
    "    coins.append(int(input()))       # 10, 50, 100, 400, 500"
   ]
  },
  {
   "cell_type": "code",
   "execution_count": 2,
   "metadata": {},
   "outputs": [
    {
     "name": "stdout",
     "output_type": "stream",
     "text": [
      "화페종류 : 5,   거스름 돈 : 2400\n",
      "coins : [10, 50, 100, 400, 500]\n"
     ]
    }
   ],
   "source": [
    "print(f\"화페종류 : {n},   거스름 돈 : {m}\")\n",
    "print(f\"coins : {coins}\")"
   ]
  }
 ],
 "metadata": {
  "kernelspec": {
   "display_name": "base",
   "language": "python",
   "name": "python3"
  },
  "language_info": {
   "codemirror_mode": {
    "name": "ipython",
    "version": 3
   },
   "file_extension": ".py",
   "mimetype": "text/x-python",
   "name": "python",
   "nbconvert_exporter": "python",
   "pygments_lexer": "ipython3",
   "version": "3.9.12"
  }
 },
 "nbformat": 4,
 "nbformat_minor": 2
}
