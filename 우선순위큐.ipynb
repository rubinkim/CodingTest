{
 "cells": [
  {
   "cell_type": "code",
   "execution_count": 23,
   "metadata": {},
   "outputs": [
    {
     "name": "stdout",
     "output_type": "stream",
     "text": [
      "[13, 0, 9, 11, 6, 8, 18, 13, 5, 11, 3, 13, 8, 17, 20, 5, 19, 17, 5, 11]\n"
     ]
    }
   ],
   "source": [
    "import heapq\n",
    "import random\n",
    "random.seed(12345)\n",
    "my_nums = [random.randint(0, 20) for _ in range(20)]\n",
    "print(my_nums)"
   ]
  },
  {
   "cell_type": "code",
   "execution_count": 18,
   "metadata": {},
   "outputs": [
    {
     "name": "stdout",
     "output_type": "stream",
     "text": [
      "[0, 1, 2, 9, 7, 5, 3]\n"
     ]
    }
   ],
   "source": [
    "h1 = []\n",
    "for val in [7, 2, 0, 9, 1, 5, 3]:\n",
    "    heapq.heappush(h1, val)\n",
    "    \n",
    "print(h1)"
   ]
  },
  {
   "cell_type": "code",
   "execution_count": 19,
   "metadata": {},
   "outputs": [
    {
     "name": "stdout",
     "output_type": "stream",
     "text": [
      "[0, 1, 2, 3, 5, 7, 9]\n"
     ]
    }
   ],
   "source": [
    "h2, ans2 = [], []\n",
    "for val in [7, 2, 0, 9, 1, 5, 3]:\n",
    "    heapq.heappush(h2, val)\n",
    "    \n",
    "for x in range(len(h2)):\n",
    "    ans2.append(heapq.heappop(h2))\n",
    "    \n",
    "print(ans2)"
   ]
  },
  {
   "cell_type": "code",
   "execution_count": 24,
   "metadata": {},
   "outputs": [],
   "source": [
    "def heapsort_asc(iterable):\n",
    "    h, result = [], []\n",
    "    for value in iterable:\n",
    "        heapq.heappush(h, value)\n",
    "    for _ in range(len(h)):\n",
    "        result.append(heapq.heappop(h))\n",
    "        \n",
    "    return result        "
   ]
  },
  {
   "cell_type": "code",
   "execution_count": 25,
   "metadata": {},
   "outputs": [],
   "source": [
    "def heapsort_desc(iterable):\n",
    "    h, result = [], []\n",
    "    for value in iterable:\n",
    "        heapq.heappush(h, -value)\n",
    "    for _ in range(len(h)):\n",
    "        result.append(-heapq.heappop(h))\n",
    "        \n",
    "    return result"
   ]
  },
  {
   "cell_type": "code",
   "execution_count": 26,
   "metadata": {},
   "outputs": [
    {
     "name": "stdout",
     "output_type": "stream",
     "text": [
      "[0, 3, 5, 5, 5, 6, 8, 8, 9, 11, 11, 11, 13, 13, 13, 17, 17, 18, 19, 20]\n"
     ]
    },
    {
     "ename": "NameError",
     "evalue": "name 'v' is not defined",
     "output_type": "error",
     "traceback": [
      "\u001b[1;31m---------------------------------------------------------------------------\u001b[0m",
      "\u001b[1;31mNameError\u001b[0m                                 Traceback (most recent call last)",
      "\u001b[1;32me:\\나동빈\\우선순위큐.ipynb Cell 6\u001b[0m line \u001b[0;36m<cell line: 2>\u001b[1;34m()\u001b[0m\n\u001b[0;32m      <a href='vscode-notebook-cell:/e%3A/%EB%82%98%EB%8F%99%EB%B9%88/%EC%9A%B0%EC%84%A0%EC%88%9C%EC%9C%84%ED%81%90.ipynb#W5sZmlsZQ%3D%3D?line=0'>1</a>\u001b[0m \u001b[39mprint\u001b[39m(heapsort_asc(my_nums))\n\u001b[1;32m----> <a href='vscode-notebook-cell:/e%3A/%EB%82%98%EB%8F%99%EB%B9%88/%EC%9A%B0%EC%84%A0%EC%88%9C%EC%9C%84%ED%81%90.ipynb#W5sZmlsZQ%3D%3D?line=1'>2</a>\u001b[0m \u001b[39mprint\u001b[39m(heapsort_desc(my_nums))\n",
      "\u001b[1;32me:\\나동빈\\우선순위큐.ipynb Cell 6\u001b[0m line \u001b[0;36mheapsort_desc\u001b[1;34m(iterable)\u001b[0m\n\u001b[0;32m      <a href='vscode-notebook-cell:/e%3A/%EB%82%98%EB%8F%99%EB%B9%88/%EC%9A%B0%EC%84%A0%EC%88%9C%EC%9C%84%ED%81%90.ipynb#W5sZmlsZQ%3D%3D?line=1'>2</a>\u001b[0m h, result \u001b[39m=\u001b[39m [], []\n\u001b[0;32m      <a href='vscode-notebook-cell:/e%3A/%EB%82%98%EB%8F%99%EB%B9%88/%EC%9A%B0%EC%84%A0%EC%88%9C%EC%9C%84%ED%81%90.ipynb#W5sZmlsZQ%3D%3D?line=2'>3</a>\u001b[0m \u001b[39mfor\u001b[39;00m value \u001b[39min\u001b[39;00m iterable:\n\u001b[1;32m----> <a href='vscode-notebook-cell:/e%3A/%EB%82%98%EB%8F%99%EB%B9%88/%EC%9A%B0%EC%84%A0%EC%88%9C%EC%9C%84%ED%81%90.ipynb#W5sZmlsZQ%3D%3D?line=3'>4</a>\u001b[0m     heapq\u001b[39m.\u001b[39mheappush(h, \u001b[39m-\u001b[39mv)\n\u001b[0;32m      <a href='vscode-notebook-cell:/e%3A/%EB%82%98%EB%8F%99%EB%B9%88/%EC%9A%B0%EC%84%A0%EC%88%9C%EC%9C%84%ED%81%90.ipynb#W5sZmlsZQ%3D%3D?line=4'>5</a>\u001b[0m \u001b[39mfor\u001b[39;00m _ \u001b[39min\u001b[39;00m \u001b[39mrange\u001b[39m(\u001b[39mlen\u001b[39m(h)):\n\u001b[0;32m      <a href='vscode-notebook-cell:/e%3A/%EB%82%98%EB%8F%99%EB%B9%88/%EC%9A%B0%EC%84%A0%EC%88%9C%EC%9C%84%ED%81%90.ipynb#W5sZmlsZQ%3D%3D?line=5'>6</a>\u001b[0m     result\u001b[39m.\u001b[39mappend(\u001b[39m-\u001b[39mheapq\u001b[39m.\u001b[39mheappop(h))\n",
      "\u001b[1;31mNameError\u001b[0m: name 'v' is not defined"
     ]
    }
   ],
   "source": [
    "print(heapsort_asc(my_nums))\n",
    "print(heapsort_desc(my_nums))"
   ]
  }
 ],
 "metadata": {
  "kernelspec": {
   "display_name": "base",
   "language": "python",
   "name": "python3"
  },
  "language_info": {
   "codemirror_mode": {
    "name": "ipython",
    "version": 3
   },
   "file_extension": ".py",
   "mimetype": "text/x-python",
   "name": "python",
   "nbconvert_exporter": "python",
   "pygments_lexer": "ipython3",
   "version": "3.9.12"
  }
 },
 "nbformat": 4,
 "nbformat_minor": 2
}
