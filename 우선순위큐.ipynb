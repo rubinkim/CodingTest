{
 "cells": [
  {
   "cell_type": "code",
   "execution_count": 27,
   "metadata": {},
   "outputs": [
    {
     "name": "stdout",
     "output_type": "stream",
     "text": [
      "[13, 0, 9, 11, 6, 8, 18, 13, 5, 11, 3, 13, 8, 17, 20, 5, 19, 17, 5, 11]\n"
     ]
    }
   ],
   "source": [
    "import heapq\n",
    "import random\n",
    "random.seed(12345)\n",
    "my_nums = [random.randint(0, 20) for _ in range(20)]\n",
    "print(my_nums)"
   ]
  },
  {
   "cell_type": "code",
   "execution_count": 18,
   "metadata": {},
   "outputs": [
    {
     "name": "stdout",
     "output_type": "stream",
     "text": [
      "[0, 1, 2, 9, 7, 5, 3]\n"
     ]
    }
   ],
   "source": [
    "h1 = []\n",
    "for val in [7, 2, 0, 9, 1, 5, 3]:\n",
    "    heapq.heappush(h1, val)\n",
    "    \n",
    "print(h1)"
   ]
  },
  {
   "cell_type": "code",
   "execution_count": 19,
   "metadata": {},
   "outputs": [
    {
     "name": "stdout",
     "output_type": "stream",
     "text": [
      "[0, 1, 2, 3, 5, 7, 9]\n"
     ]
    }
   ],
   "source": [
    "h2, ans2 = [], []\n",
    "for val in [7, 2, 0, 9, 1, 5, 3]:\n",
    "    heapq.heappush(h2, val)\n",
    "    \n",
    "for x in range(len(h2)):\n",
    "    ans2.append(heapq.heappop(h2))\n",
    "    \n",
    "print(ans2)"
   ]
  },
  {
   "cell_type": "code",
   "execution_count": 28,
   "metadata": {},
   "outputs": [],
   "source": [
    "def heapsort_asc(iterable):\n",
    "    h, result = [], []\n",
    "    for value in iterable:\n",
    "        heapq.heappush(h, value)\n",
    "    for _ in range(len(h)):\n",
    "        result.append(heapq.heappop(h))\n",
    "        \n",
    "    return result        "
   ]
  },
  {
   "cell_type": "code",
   "execution_count": 29,
   "metadata": {},
   "outputs": [],
   "source": [
    "def heapsort_desc(iterable):\n",
    "    h, result = [], []\n",
    "    for value in iterable:\n",
    "        heapq.heappush(h, -value)\n",
    "    for _ in range(len(h)):\n",
    "        result.append(-heapq.heappop(h))\n",
    "        \n",
    "    return result"
   ]
  },
  {
   "cell_type": "code",
   "execution_count": 30,
   "metadata": {},
   "outputs": [
    {
     "name": "stdout",
     "output_type": "stream",
     "text": [
      "[0, 3, 5, 5, 5, 6, 8, 8, 9, 11, 11, 11, 13, 13, 13, 17, 17, 18, 19, 20]\n",
      "[20, 19, 18, 17, 17, 13, 13, 13, 11, 11, 11, 9, 8, 8, 6, 5, 5, 5, 3, 0]\n"
     ]
    }
   ],
   "source": [
    "print(heapsort_asc(my_nums))\n",
    "print(heapsort_desc(my_nums))"
   ]
  }
 ],
 "metadata": {
  "kernelspec": {
   "display_name": "base",
   "language": "python",
   "name": "python3"
  },
  "language_info": {
   "codemirror_mode": {
    "name": "ipython",
    "version": 3
   },
   "file_extension": ".py",
   "mimetype": "text/x-python",
   "name": "python",
   "nbconvert_exporter": "python",
   "pygments_lexer": "ipython3",
   "version": "3.9.12"
  }
 },
 "nbformat": 4,
 "nbformat_minor": 2
}
