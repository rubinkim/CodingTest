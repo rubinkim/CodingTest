{
 "cells": [
  {
   "cell_type": "code",
   "execution_count": null,
   "metadata": {},
   "outputs": [],
   "source": [
    "n, m = map(int, input().split())    # n : num of rows,   m : num of columns\n",
    "min_value = 10001\n",
    "\n",
    "for _ in range(n):\n",
    "    row_vals = list(map(int, input().split()))\n",
    "    min_value = min(min_value,  min(row_vals))\n",
    "    \n",
    "print(min_value)"
   ]
  }
 ],
 "metadata": {
  "kernelspec": {
   "display_name": "base",
   "language": "python",
   "name": "python3"
  },
  "language_info": {
   "name": "python",
   "version": "3.9.12"
  }
 },
 "nbformat": 4,
 "nbformat_minor": 2
}
