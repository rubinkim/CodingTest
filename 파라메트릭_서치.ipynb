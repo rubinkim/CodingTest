{
 "cells": [
  {
   "cell_type": "code",
   "execution_count": 2,
   "metadata": {},
   "outputs": [
    {
     "name": "stdout",
     "output_type": "stream",
     "text": [
      "n : 4,   m : 6\n",
      "heights : [19, 15, 10, 17]\n"
     ]
    }
   ],
   "source": [
    "n, m = map(int, input().split())        # n : 떡의 개수,   m : 요청한 떡의 길이\n",
    "heights = list(map(int, input().split()))       # 개별 떡들의 길이\n",
    "\n",
    "print(f\"n : {n},   m : {m}\")\n",
    "print(f\"heights : {heights}\")"
   ]
  },
  {
   "cell_type": "code",
   "execution_count": 3,
   "metadata": {},
   "outputs": [],
   "source": [
    "# 고객이 가져가는 떡의 총길이가 적어도 m이 되는 제약조건하에서 절단기의 높이(h)의 최대값을 구하는 optimization under constraint유형의 문제이다. 우리는 이문제를 절단기의 높이(h)의 범위인 0부터\n",
    "# max(heights)(개별 떡들의 길이중 최대값)까지에서 위의 제약조건이 만족하는지 안하는지 여부에 따라 h의 탐색범위를 좁혀가는 결정의 문제로 바꿔서 풀어야 한다.\n",
    "\n",
    "def find_max_height(array, low, high):\n",
    "    if low > high : return None\n",
    "    mid = (low + high) // 2\n",
    "    result = sum([max(x - mid, 0) for x in array])\n",
    "    if result == m: return mid\n",
    "    elif result < m:\n",
    "        return find_max_height(array, low, mid-1)\n",
    "    else:\n",
    "        return find_max_height(array, mid+1, high)"
   ]
  },
  {
   "cell_type": "code",
   "execution_count": null,
   "metadata": {},
   "outputs": [],
   "source": [
    "find_max_height(heights, 0, max(heights))"
   ]
  }
 ],
 "metadata": {
  "kernelspec": {
   "display_name": "base",
   "language": "python",
   "name": "python3"
  },
  "language_info": {
   "codemirror_mode": {
    "name": "ipython",
    "version": 3
   },
   "file_extension": ".py",
   "mimetype": "text/x-python",
   "name": "python",
   "nbconvert_exporter": "python",
   "pygments_lexer": "ipython3",
   "version": "3.9.12"
  }
 },
 "nbformat": 4,
 "nbformat_minor": 2
}
