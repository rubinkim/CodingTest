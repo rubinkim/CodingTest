{
 "cells": [
  {
   "cell_type": "code",
   "execution_count": 2,
   "metadata": {},
   "outputs": [
    {
     "name": "stdout",
     "output_type": "stream",
     "text": [
      "n : 4,   m : 6\n",
      "heights : [19, 15, 10, 17]\n"
     ]
    }
   ],
   "source": [
    "n, m = map(int, input().split())        # n : 떡의 개수,   m : 요청한 떡의 길이\n",
    "heights = list(map(int, input().split()))       # 개별 떡들의 길이\n",
    "\n",
    "print(f\"n : {n},   m : {m}\")\n",
    "print(f\"heights : {heights}\")"
   ]
  },
  {
   "cell_type": "code",
   "execution_count": 18,
   "metadata": {},
   "outputs": [],
   "source": [
    "# 고객이 가져가는 떡의 총길이가 적어도 m이 되는 제약조건하에서 절단기의 높이(h)의 최대값을 구하는 optimization under constraint유형의 문제이다. 우리는 이문제를 절단기의 높이(h)의 범위인 0부터\n",
    "# max(heights)(개별 떡들의 길이중 최대값)까지에서 위의 제약조건이 만족하는지 안하는지 여부에 따라 h의 탐색범위를 좁혀가는 결정의 문제로 바꿔서 풀어야 한다.\n",
    "\n",
    "def find_max_height(array, low, high):\n",
    "    if low > high : return None\n",
    "    mid = (low + high) // 2\n",
    "    result = sum([max(x - mid, 0) for x in array])\n",
    "    if result == m: return mid\n",
    "    elif result < m:\n",
    "        return find_max_height(array, low, mid-1)\n",
    "    else:\n",
    "        return find_max_height(array, mid+1, high)"
   ]
  },
  {
   "cell_type": "code",
   "execution_count": 20,
   "metadata": {},
   "outputs": [],
   "source": [
    "# 고객이 가져가는 떡의 총길이가 적어도 m이 되는 제약조건하에서 절단기의 높이(h)의 최대값을 구하는 optimization under constraint유형의 문제이다. 우리는 이문제를 절단기의 높이(h)의 범위인 0부터\n",
    "# max(heights)(개별 떡들의 길이중 최대값)까지에서 위의 제약조건이 만족하는지 안하는지 여부에 따라 h의 탐색범위를 좁혀가는 결정의 문제로 바꿔서 풀어야 한다.\n",
    "\n",
    "def find_max_height(array, low, high):\n",
    "    if low > high : return None\n",
    "    mid = (low + high) // 2    \n",
    "    result = sum([max(x - mid, 0) for x in array])\n",
    "    if result == m: return mid\n",
    "    elif result < m:\n",
    "        return find_max_height(array, low, mid-1)\n",
    "    else:\n",
    "        return find_max_height(array, mid+1, high)\n",
    "    print(f\"mid : {mid},  result : {result}\")    "
   ]
  },
  {
   "cell_type": "code",
   "execution_count": 4,
   "metadata": {},
   "outputs": [
    {
     "data": {
      "text/plain": [
       "15"
      ]
     },
     "execution_count": 4,
     "metadata": {},
     "output_type": "execute_result"
    }
   ],
   "source": [
    "find_max_height(heights, 0, max(heights))"
   ]
  },
  {
   "cell_type": "markdown",
   "metadata": {},
   "source": [
    "##### 책의 방법"
   ]
  },
  {
   "cell_type": "code",
   "execution_count": 6,
   "metadata": {},
   "outputs": [
    {
     "name": "stdout",
     "output_type": "stream",
     "text": [
      "n : 4,  m : 6,  start : 0,  end : 19\n"
     ]
    }
   ],
   "source": [
    "n, m = list(map(int, input().split()))\n",
    "array = list(map(int, input().split()))\n",
    "start, end = 0, max(array)\n",
    "\n",
    "print(f\"n : {n},  m : {m},  start : {start},  end : {end}\")"
   ]
  },
  {
   "cell_type": "code",
   "execution_count": 7,
   "metadata": {},
   "outputs": [
    {
     "name": "stdout",
     "output_type": "stream",
     "text": [
      "15\n"
     ]
    }
   ],
   "source": [
    "result = 0\n",
    "while start <= end:\n",
    "    total = 0\n",
    "    mid = (start + end) // 2\n",
    "    for x in array:\n",
    "        if x > mid:\n",
    "            total += x - mid\n",
    "    if total < m:\n",
    "        end = mid - 1\n",
    "    else:\n",
    "        result = mid\n",
    "        start = mid + 1        \n",
    "        \n",
    "print(result)"
   ]
  },
  {
   "cell_type": "code",
   "execution_count": 15,
   "metadata": {},
   "outputs": [
    {
     "name": "stdout",
     "output_type": "stream",
     "text": [
      "n : 15,   m : 45\n",
      "heights : [17, 11, 18, 20, 14, 21, 15, 12, 19, 22, 9, 23, 20, 19, 17]\n"
     ]
    }
   ],
   "source": [
    "n, m = map(int, input().split())        # n : 떡의 개수,   m : 요청한 떡의 길이   (15 45)\n",
    "heights = list(map(int, input().split()))       # 개별 떡들의 길이               (17 11 18 20 14 21 15 12 19 22 9 23 20 19 17)\n",
    "\n",
    "print(f\"n : {n},   m : {m}\")\n",
    "print(f\"heights : {heights}\")"
   ]
  },
  {
   "cell_type": "code",
   "execution_count": 21,
   "metadata": {},
   "outputs": [
    {
     "name": "stdout",
     "output_type": "stream",
     "text": [
      "mid : 11\n",
      "mid : 17\n",
      "mid : 14\n",
      "mid : 15\n",
      "mid : 16\n"
     ]
    }
   ],
   "source": [
    "find_max_height(heights, 0, max(heights))"
   ]
  },
  {
   "cell_type": "code",
   "execution_count": 13,
   "metadata": {},
   "outputs": [
    {
     "name": "stdout",
     "output_type": "stream",
     "text": [
      "n : 15,  m : 45,  start : 0,  end : 23\n",
      "15\n"
     ]
    }
   ],
   "source": [
    "n, m = list(map(int, input().split()))\n",
    "array = list(map(int, input().split()))\n",
    "start, end = 0, max(array)\n",
    "\n",
    "print(f\"n : {n},  m : {m},  start : {start},  end : {end}\")\n",
    "\n",
    "result = 0\n",
    "while start <= end:\n",
    "    total = 0\n",
    "    mid = (start + end) // 2\n",
    "    for x in array:\n",
    "        if x > mid:\n",
    "            total += x - mid\n",
    "    if total < m:\n",
    "        end = mid - 1\n",
    "    else:\n",
    "        result = mid\n",
    "        start = mid + 1        \n",
    "        \n",
    "print(result)"
   ]
  }
 ],
 "metadata": {
  "kernelspec": {
   "display_name": "base",
   "language": "python",
   "name": "python3"
  },
  "language_info": {
   "codemirror_mode": {
    "name": "ipython",
    "version": 3
   },
   "file_extension": ".py",
   "mimetype": "text/x-python",
   "name": "python",
   "nbconvert_exporter": "python",
   "pygments_lexer": "ipython3",
   "version": "3.9.12"
  }
 },
 "nbformat": 4,
 "nbformat_minor": 2
}
