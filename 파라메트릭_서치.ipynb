{
 "cells": [
  {
   "cell_type": "code",
   "execution_count": 2,
   "metadata": {},
   "outputs": [
    {
     "name": "stdout",
     "output_type": "stream",
     "text": [
      "n : 4,   m : 6\n",
      "heights : [19, 15, 10, 17]\n"
     ]
    }
   ],
   "source": [
    "n, m = map(int, input().split())        # n : 떡의 개수,   m : 요청한 떡의 길이\n",
    "heights = list(map(int, input().split()))       # 개별 떡들의 길이\n",
    "\n",
    "print(f\"n : {n},   m : {m}\")\n",
    "print(f\"heights : {heights}\")"
   ]
  }
 ],
 "metadata": {
  "kernelspec": {
   "display_name": "base",
   "language": "python",
   "name": "python3"
  },
  "language_info": {
   "codemirror_mode": {
    "name": "ipython",
    "version": 3
   },
   "file_extension": ".py",
   "mimetype": "text/x-python",
   "name": "python",
   "nbconvert_exporter": "python",
   "pygments_lexer": "ipython3",
   "version": "3.9.12"
  }
 },
 "nbformat": 4,
 "nbformat_minor": 2
}
