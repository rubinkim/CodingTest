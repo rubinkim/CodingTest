{
 "cells": [
  {
   "cell_type": "code",
   "execution_count": 1,
   "metadata": {},
   "outputs": [
    {
     "name": "stdout",
     "output_type": "stream",
     "text": [
      "노드수 : 6,  간선수 : 11\n",
      "출발노드 : 1\n",
      "\n",
      "[1000000000, 1000000000, 1000000000, 1000000000, 1000000000, 1000000000, 1000000000]\n",
      "[1000000000, 0, 2, 5, 1, 1000000000, 1000000000]\n",
      "[1000000000, 1000000000, 0, 3, 2, 1000000000, 1000000000]\n",
      "[1000000000, 1000000000, 3, 0, 1000000000, 1000000000, 5]\n",
      "[1000000000, 1000000000, 1000000000, 3, 0, 1, 1000000000]\n",
      "[1000000000, 1000000000, 1000000000, 1, 1000000000, 0, 2]\n",
      "[1000000000, 1000000000, 1000000000, 1000000000, 1000000000, 1000000000, 0]\n"
     ]
    }
   ],
   "source": [
    "with open(\"data/dijkstra.txt\", \"r\") as input:\n",
    "    n, m = map(int, input.readline().split())\n",
    "    print(f\"노드수 : {n},  간선수 : {m}\")\n",
    "    \n",
    "    start = int(input.readline())   \n",
    "    print(f\"출발노드 : {start}\")\n",
    "    print()\n",
    "    \n",
    "    INF = int(1e9)\n",
    "    graph = [[INF] * (n+1) for _ in range(n+1)]\n",
    "    for a in range(1, n+1):\n",
    "        for b in range(1, n+1):\n",
    "            if a == b:\n",
    "                graph[a][b] = 0\n",
    "                \n",
    "    for _ in range(m):\n",
    "        a, b, c = map(int, input.readline().split())\n",
    "        graph[a][b] = c\n",
    "        \n",
    "    for row in graph:\n",
    "        print(row)"
   ]
  }
 ],
 "metadata": {
  "kernelspec": {
   "display_name": "base",
   "language": "python",
   "name": "python3"
  },
  "language_info": {
   "codemirror_mode": {
    "name": "ipython",
    "version": 3
   },
   "file_extension": ".py",
   "mimetype": "text/x-python",
   "name": "python",
   "nbconvert_exporter": "python",
   "pygments_lexer": "ipython3",
   "version": "3.9.12"
  }
 },
 "nbformat": 4,
 "nbformat_minor": 2
}
