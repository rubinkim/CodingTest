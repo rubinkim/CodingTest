{
 "cells": [
  {
   "cell_type": "code",
   "execution_count": 2,
   "metadata": {},
   "outputs": [
    {
     "name": "stdout",
     "output_type": "stream",
     "text": [
      "노드수 : {n},  간선수 : {m}\n"
     ]
    },
    {
     "ename": "TypeError",
     "evalue": "'_io.TextIOWrapper' object is not callable",
     "output_type": "error",
     "traceback": [
      "\u001b[1;31m---------------------------------------------------------------------------\u001b[0m",
      "\u001b[1;31mTypeError\u001b[0m                                 Traceback (most recent call last)",
      "\u001b[1;32me:\\나동빈\\플로이드워셜.ipynb Cell 1\u001b[0m line \u001b[0;36m<cell line: 1>\u001b[1;34m()\u001b[0m\n\u001b[0;32m      <a href='vscode-notebook-cell:/e%3A/%EB%82%98%EB%8F%99%EB%B9%88/%ED%94%8C%EB%A1%9C%EC%9D%B4%EB%93%9C%EC%9B%8C%EC%85%9C.ipynb#W0sZmlsZQ%3D%3D?line=1'>2</a>\u001b[0m n, m \u001b[39m=\u001b[39m \u001b[39mmap\u001b[39m(\u001b[39mint\u001b[39m, \u001b[39minput\u001b[39m\u001b[39m.\u001b[39mreadline()\u001b[39m.\u001b[39msplit())\n\u001b[0;32m      <a href='vscode-notebook-cell:/e%3A/%EB%82%98%EB%8F%99%EB%B9%88/%ED%94%8C%EB%A1%9C%EC%9D%B4%EB%93%9C%EC%9B%8C%EC%85%9C.ipynb#W0sZmlsZQ%3D%3D?line=2'>3</a>\u001b[0m \u001b[39mprint\u001b[39m(\u001b[39m\"\u001b[39m\u001b[39m노드수 : \u001b[39m\u001b[39m{n}\u001b[39;00m\u001b[39m,  간선수 : \u001b[39m\u001b[39m{m}\u001b[39;00m\u001b[39m\"\u001b[39m)\n\u001b[1;32m----> <a href='vscode-notebook-cell:/e%3A/%EB%82%98%EB%8F%99%EB%B9%88/%ED%94%8C%EB%A1%9C%EC%9D%B4%EB%93%9C%EC%9B%8C%EC%85%9C.ipynb#W0sZmlsZQ%3D%3D?line=4'>5</a>\u001b[0m start \u001b[39m=\u001b[39m \u001b[39mint\u001b[39m(\u001b[39minput\u001b[39;49m())   \n\u001b[0;32m      <a href='vscode-notebook-cell:/e%3A/%EB%82%98%EB%8F%99%EB%B9%88/%ED%94%8C%EB%A1%9C%EC%9D%B4%EB%93%9C%EC%9B%8C%EC%85%9C.ipynb#W0sZmlsZQ%3D%3D?line=5'>6</a>\u001b[0m \u001b[39mprint\u001b[39m(\u001b[39m\"\u001b[39m\u001b[39m출발노드 : \u001b[39m\u001b[39m{start}\u001b[39;00m\u001b[39m\"\u001b[39m)\n\u001b[0;32m      <a href='vscode-notebook-cell:/e%3A/%EB%82%98%EB%8F%99%EB%B9%88/%ED%94%8C%EB%A1%9C%EC%9D%B4%EB%93%9C%EC%9B%8C%EC%85%9C.ipynb#W0sZmlsZQ%3D%3D?line=6'>7</a>\u001b[0m \u001b[39mprint\u001b[39m()\n",
      "\u001b[1;31mTypeError\u001b[0m: '_io.TextIOWrapper' object is not callable"
     ]
    }
   ],
   "source": [
    "with open(\"data/dijkstra.txt\", \"r\") as input:\n",
    "    n, m = map(int, input.readline().split())\n",
    "    print(f\"노드수 : {n},  간선수 : {m}\")\n",
    "    \n",
    "    start = int(input())   \n",
    "    print(f\"출발노드 : {start}\")\n",
    "    print()\n",
    "    \n",
    "    INF = int(1e9)\n",
    "    graph = [[INF] * (n+1) for _ in range(n+1)]\n",
    "    for a in range(1, n+1):\n",
    "        for b in range(1, n+1):\n",
    "            if a == b:\n",
    "                graph[a][b] = 0\n",
    "                \n",
    "    for _ in range(m):\n",
    "        a, b, c = map(int, input().split())\n",
    "        graph[a][b] = c\n",
    "        \n",
    "    for row in graph:\n",
    "        print(row)"
   ]
  }
 ],
 "metadata": {
  "kernelspec": {
   "display_name": "base",
   "language": "python",
   "name": "python3"
  },
  "language_info": {
   "codemirror_mode": {
    "name": "ipython",
    "version": 3
   },
   "file_extension": ".py",
   "mimetype": "text/x-python",
   "name": "python",
   "nbconvert_exporter": "python",
   "pygments_lexer": "ipython3",
   "version": "3.9.12"
  }
 },
 "nbformat": 4,
 "nbformat_minor": 2
}
