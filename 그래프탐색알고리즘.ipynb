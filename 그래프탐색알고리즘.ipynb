{
 "cells": [
  {
   "cell_type": "code",
   "execution_count": 5,
   "metadata": {},
   "outputs": [
    {
     "name": "stdout",
     "output_type": "stream",
     "text": [
      "[14, 20, 17, 21, 8, 15, 6, 4, 7, 1, 18, 12, 2, 19, 22, 3, 16, 10, 13, 5, 9, 11]\n"
     ]
    }
   ],
   "source": [
    "import random\n",
    "x = list(range(1, 23))\n",
    "random.shuffle(x)\n",
    "print(x)"
   ]
  },
  {
   "cell_type": "code",
   "execution_count": 14,
   "metadata": {},
   "outputs": [
    {
     "data": {
      "text/plain": [
       "22"
      ]
     },
     "execution_count": 14,
     "metadata": {},
     "output_type": "execute_result"
    }
   ],
   "source": [
    "# 인접 리스트로 그래프를 표현\n",
    "n = 23\n",
    "adj = [[0] * n for _ in range(n)]\n",
    "edges = [(0,14),(0,20),(0,17),(14,21),(20,8),(20,15),(20,6),(17,4),(21,7),(21,1),(15,18),(15,12),(4,2),(4,19),(1,22),(1,3),(12,16),(19,10),(19,13),(19,5),(13,9),(13,11)]\n",
    "\n",
    "len(edges)"
   ]
  },
  {
   "cell_type": "code",
   "execution_count": 15,
   "metadata": {},
   "outputs": [
    {
     "name": "stdout",
     "output_type": "stream",
     "text": [
      "[0, 0, 0, 0, 0, 0, 0, 0, 0, 0, 0, 0, 0, 0, 1, 0, 0, 1, 0, 0, 1, 0, 0]\n",
      "[0, 0, 0, 1, 0, 0, 0, 0, 0, 0, 0, 0, 0, 0, 0, 0, 0, 0, 0, 0, 0, 0, 1]\n",
      "[0, 0, 0, 0, 0, 0, 0, 0, 0, 0, 0, 0, 0, 0, 0, 0, 0, 0, 0, 0, 0, 0, 0]\n",
      "[0, 0, 0, 0, 0, 0, 0, 0, 0, 0, 0, 0, 0, 0, 0, 0, 0, 0, 0, 0, 0, 0, 0]\n",
      "[0, 0, 1, 0, 0, 0, 0, 0, 0, 0, 0, 0, 0, 0, 0, 0, 0, 0, 0, 1, 0, 0, 0]\n",
      "[0, 0, 0, 0, 0, 0, 0, 0, 0, 0, 0, 0, 0, 0, 0, 0, 0, 0, 0, 0, 0, 0, 0]\n",
      "[0, 0, 0, 0, 0, 0, 0, 0, 0, 0, 0, 0, 0, 0, 0, 0, 0, 0, 0, 0, 0, 0, 0]\n",
      "[0, 0, 0, 0, 0, 0, 0, 0, 0, 0, 0, 0, 0, 0, 0, 0, 0, 0, 0, 0, 0, 0, 0]\n",
      "[0, 0, 0, 0, 0, 0, 0, 0, 0, 0, 0, 0, 0, 0, 0, 0, 0, 0, 0, 0, 0, 0, 0]\n",
      "[0, 0, 0, 0, 0, 0, 0, 0, 0, 0, 0, 0, 0, 0, 0, 0, 0, 0, 0, 0, 0, 0, 0]\n",
      "[0, 0, 0, 0, 0, 0, 0, 0, 0, 0, 0, 0, 0, 0, 0, 0, 0, 0, 0, 0, 0, 0, 0]\n",
      "[0, 0, 0, 0, 0, 0, 0, 0, 0, 0, 0, 0, 0, 0, 0, 0, 0, 0, 0, 0, 0, 0, 0]\n",
      "[0, 0, 0, 0, 0, 0, 0, 0, 0, 0, 0, 0, 0, 0, 0, 0, 1, 0, 0, 0, 0, 0, 0]\n",
      "[0, 0, 0, 0, 0, 0, 0, 0, 0, 1, 0, 1, 0, 0, 0, 0, 0, 0, 0, 0, 0, 0, 0]\n",
      "[0, 0, 0, 0, 0, 0, 0, 0, 0, 0, 0, 0, 0, 0, 0, 0, 0, 0, 0, 0, 0, 1, 0]\n",
      "[0, 0, 0, 0, 0, 0, 0, 0, 0, 0, 0, 0, 1, 0, 0, 0, 0, 0, 1, 0, 0, 0, 0]\n",
      "[0, 0, 0, 0, 0, 0, 0, 0, 0, 0, 0, 0, 0, 0, 0, 0, 0, 0, 0, 0, 0, 0, 0]\n",
      "[0, 0, 0, 0, 1, 0, 0, 0, 0, 0, 0, 0, 0, 0, 0, 0, 0, 0, 0, 0, 0, 0, 0]\n",
      "[0, 0, 0, 0, 0, 0, 0, 0, 0, 0, 0, 0, 0, 0, 0, 0, 0, 0, 0, 0, 0, 0, 0]\n",
      "[0, 0, 0, 0, 0, 1, 0, 0, 0, 0, 1, 0, 0, 1, 0, 0, 0, 0, 0, 0, 0, 0, 0]\n",
      "[0, 0, 0, 0, 0, 0, 1, 0, 1, 0, 0, 0, 0, 0, 0, 1, 0, 0, 0, 0, 0, 0, 0]\n",
      "[0, 1, 0, 0, 0, 0, 0, 1, 0, 0, 0, 0, 0, 0, 0, 0, 0, 0, 0, 0, 0, 0, 0]\n",
      "[0, 0, 0, 0, 0, 0, 0, 0, 0, 0, 0, 0, 0, 0, 0, 0, 0, 0, 0, 0, 0, 0, 0]\n"
     ]
    }
   ],
   "source": [
    "for x, y in edges:\n",
    "    adj[x][y] = 1\n",
    "    \n",
    "for row in adj:\n",
    "    print(row)"
   ]
  },
  {
   "cell_type": "code",
   "execution_count": 16,
   "metadata": {},
   "outputs": [],
   "source": [
    "def dfs(now):\n",
    "    global n\n",
    "    print(f\"{now} --> \", end='')    \n",
    "    for nxt in range(n):\n",
    "        if adj[now][nxt] == 1:            \n",
    "            dfs(nxt)"
   ]
  },
  {
   "cell_type": "code",
   "execution_count": 17,
   "metadata": {},
   "outputs": [
    {
     "name": "stdout",
     "output_type": "stream",
     "text": [
      "0 --> 14 --> 21 --> 1 --> 3 --> 22 --> 7 --> 17 --> 4 --> 2 --> 19 --> 5 --> 10 --> 13 --> 9 --> 11 --> 20 --> 6 --> 8 --> 15 --> 12 --> 16 --> 18 --> "
     ]
    }
   ],
   "source": [
    "dfs(0)"
   ]
  },
  {
   "cell_type": "code",
   "execution_count": 18,
   "metadata": {},
   "outputs": [],
   "source": [
    "from collections import deque\n",
    "\n",
    "def bfs(x):\n",
    "    global n\n",
    "    dq = deque()\n",
    "    dq.append(x)\n",
    "    print(f\"{x} -->\", end='')\n",
    "    while dq:\n",
    "        now = dq.popleft()\n",
    "        for nxt in range(n):\n",
    "            if adj[now][nxt] == 1:\n",
    "                dq.append(nxt)\n",
    "                print(f\"{nxt} -->\", end='')"
   ]
  },
  {
   "cell_type": "code",
   "execution_count": 19,
   "metadata": {},
   "outputs": [
    {
     "name": "stdout",
     "output_type": "stream",
     "text": [
      "0 -->14 -->17 -->20 -->21 -->4 -->6 -->8 -->15 -->1 -->7 -->2 -->19 -->12 -->18 -->3 -->22 -->5 -->10 -->13 -->16 -->9 -->11 -->"
     ]
    }
   ],
   "source": [
    "bfs(0)"
   ]
  },
  {
   "cell_type": "code",
   "execution_count": 24,
   "metadata": {},
   "outputs": [],
   "source": [
    "# 어떤 노드부터 다른 어떤 노ㄷ까지 최단거리가 얼마나 되는가를 계산해주는 함수를 정의하라.\n",
    "def shortest_path(start, end):\n",
    "    global n\n",
    "    cnt = 0\n",
    "    \n",
    "    dq = deque()\n",
    "    dq.append((start, cnt))\n",
    "    print(f\"{start} -->\", end='')\n",
    "    \n",
    "    while dq:\n",
    "        now, cnt = dq.popleft()\n",
    "        for nxt in range(n):\n",
    "            if adj[now][nxt] == 1:\n",
    "                #cnt +=1\n",
    "                print(f\"{nxt, cnt} -->\", end='')\n",
    "                dq.append((nxt, cnt))\n",
    "            cnt += 1\n",
    "            if nxt == end:\n",
    "                return cnt   "
   ]
  },
  {
   "cell_type": "code",
   "execution_count": 23,
   "metadata": {},
   "outputs": [
    {
     "name": "stdout",
     "output_type": "stream",
     "text": [
      "0 -->(14, 1) -->(17, 2) -->(20, 3) -->(21, 2) -->(4, 3) -->(6, 4) -->(8, 5) -->(15, 6) -->(1, 3) -->(7, 4) -->(2, 4) -->(19, 5) -->(12, 7) -->(18, 8) -->(3, 4) -->(22, 5) -->(5, 6) -->(10, 7) -->(13, 8) -->(16, 8) -->"
     ]
    },
    {
     "data": {
      "text/plain": [
       "8"
      ]
     },
     "execution_count": 23,
     "metadata": {},
     "output_type": "execute_result"
    }
   ],
   "source": [
    "shortest_path(0, 16)"
   ]
  }
 ],
 "metadata": {
  "kernelspec": {
   "display_name": "base",
   "language": "python",
   "name": "python3"
  },
  "language_info": {
   "codemirror_mode": {
    "name": "ipython",
    "version": 3
   },
   "file_extension": ".py",
   "mimetype": "text/x-python",
   "name": "python",
   "nbconvert_exporter": "python",
   "pygments_lexer": "ipython3",
   "version": "3.9.12"
  }
 },
 "nbformat": 4,
 "nbformat_minor": 2
}
