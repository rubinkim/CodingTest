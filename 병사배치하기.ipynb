{
 "cells": [
  {
   "cell_type": "code",
   "execution_count": 9,
   "metadata": {},
   "outputs": [
    {
     "name": "stdout",
     "output_type": "stream",
     "text": [
      "n : 7,  soldiers : [15, 11, 4, 8, 5, 2, 4]\n"
     ]
    }
   ],
   "source": [
    "n = int(input())\n",
    "soldiers = list(map(int, input().split()))\n",
    "print(f\"n : {n},  soldiers : {soldiers}\")"
   ]
  },
  {
   "cell_type": "code",
   "execution_count": 4,
   "metadata": {},
   "outputs": [],
   "source": [
    "def count_removals(array, x):   # Define the number of soldiers removed to maximize the number of remaining soldiers\n",
    "    cnt_left = cnt_right = 0\n",
    "    for i in range(x):\n",
    "        if array[i] > array[x]:\n",
    "            cnt_left += 1\n",
    "    for i in range(x+1, len(array)):\n",
    "        if array[i] < array[x]:\n",
    "            cnt_right += 1\n",
    "    return cnt_left + cnt_right"
   ]
  },
  {
   "cell_type": "code",
   "execution_count": 8,
   "metadata": {},
   "outputs": [
    {
     "data": {
      "text/plain": [
       "46"
      ]
     },
     "execution_count": 8,
     "metadata": {},
     "output_type": "execute_result"
    }
   ],
   "source": [
    "count_removals(soldiers, 0)"
   ]
  },
  {
   "cell_type": "code",
   "execution_count": 7,
   "metadata": {},
   "outputs": [
    {
     "name": "stdout",
     "output_type": "stream",
     "text": [
      "[12, 18, 21, 26, 31, 36, 40]\n"
     ]
    }
   ],
   "source": [
    "result = []\n",
    "\n",
    "for i in range(n):\n",
    "    result.append(count_removals(soldiers, i))\n",
    "\n",
    "print(result)"
   ]
  }
 ],
 "metadata": {
  "kernelspec": {
   "display_name": "base",
   "language": "python",
   "name": "python3"
  },
  "language_info": {
   "codemirror_mode": {
    "name": "ipython",
    "version": 3
   },
   "file_extension": ".py",
   "mimetype": "text/x-python",
   "name": "python",
   "nbconvert_exporter": "python",
   "pygments_lexer": "ipython3",
   "version": "3.9.12"
  }
 },
 "nbformat": 4,
 "nbformat_minor": 2
}
