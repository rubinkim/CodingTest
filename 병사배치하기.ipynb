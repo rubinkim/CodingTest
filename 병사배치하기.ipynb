{
 "cells": [
  {
   "cell_type": "code",
   "execution_count": 20,
   "metadata": {},
   "outputs": [
    {
     "name": "stdout",
     "output_type": "stream",
     "text": [
      "n : 7,  soldiers : [15, 11, 4, 8, 5, 2, 4]\n"
     ]
    }
   ],
   "source": [
    "n = int(input())\n",
    "soldiers = list(map(int, input().split()))\n",
    "print(f\"n : {n},  soldiers : {soldiers}\")"
   ]
  },
  {
   "cell_type": "code",
   "execution_count": 21,
   "metadata": {},
   "outputs": [
    {
     "name": "stdout",
     "output_type": "stream",
     "text": [
      "[4, 2, 5, 8, 4, 11, 15]\n"
     ]
    }
   ],
   "source": [
    "soldiers.reverse()     # LIS(Longest Increasing Sequence)로 문제를 변환시킨다.\n",
    "print(soldiers)"
   ]
  },
  {
   "cell_type": "code",
   "execution_count": 19,
   "metadata": {},
   "outputs": [
    {
     "name": "stdout",
     "output_type": "stream",
     "text": [
      "dp : [1, 1, 1, 2, 2, 1, 2]\n",
      "열외해야 할 최소 병사들의 수 : 5\n"
     ]
    }
   ],
   "source": [
    "dp = [1] * n    # d[i] : array[i]를 마지막 원소로 가지는 부분수열의 최대길이로 정의한다.\n",
    "\n",
    "# 점화식은 모든 0 <= j < i에 대하여, if array[j] < array[i]: dp[i] = max(dp[i], dp[j] + 1)\n",
    "for i in range(1, n):\n",
    "    for j in range(0, i):\n",
    "        if soldiers[j] < soldiers[i]:\n",
    "            dp[i] = max(dp[i], dp[j] + 1)\n",
    "            \n",
    "print(f\"dp : {dp}\")\n",
    "print(f\"열외해야 할 최소 병사들의 수 : {n - max(dp)}\")           "
   ]
  }
 ],
 "metadata": {
  "kernelspec": {
   "display_name": "base",
   "language": "python",
   "name": "python3"
  },
  "language_info": {
   "codemirror_mode": {
    "name": "ipython",
    "version": 3
   },
   "file_extension": ".py",
   "mimetype": "text/x-python",
   "name": "python",
   "nbconvert_exporter": "python",
   "pygments_lexer": "ipython3",
   "version": "3.9.12"
  }
 },
 "nbformat": 4,
 "nbformat_minor": 2
}
