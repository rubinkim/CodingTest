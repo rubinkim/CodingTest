{
 "cells": [
  {
   "cell_type": "code",
   "execution_count": 1,
   "metadata": {},
   "outputs": [],
   "source": [
    "def find_parent(parent, x):\n",
    "    if parent[x] != x:\n",
    "        parent[x] = find_parent(parent, parent[x])\n",
    "    return parent[x]\n",
    "\n",
    "def union_parent(parent, a, b):\n",
    "    a = find_parent(parent, a)\n",
    "    b = find_parent(parent, b)\n",
    "    if a < b:\n",
    "        parent[b] = a\n",
    "    else:\n",
    "        parent[a] = b"
   ]
  },
  {
   "cell_type": "code",
   "execution_count": 4,
   "metadata": {},
   "outputs": [
    {
     "name": "stdout",
     "output_type": "stream",
     "text": [
      "노드수 : 7, 간선수 : 9\n",
      "\n",
      "[(7, 3, 4), (13, 4, 7), (23, 4, 6), (25, 6, 7), (29, 1, 2), (34, 2, 6), (35, 2, 3), (53, 5, 6), (75, 1, 5)]\n",
      "\n",
      "159\n"
     ]
    }
   ],
   "source": [
    "with open(\"data/kruskal.txt\", \"r\") as input:\n",
    "    v, e = map(int, input.readline().split())\n",
    "    print(f\"노드수 : {v}, 간선수 : {e}\")\n",
    "    print()\n",
    "    \n",
    "    parent = [0] * (v+1)\n",
    "    for i in range(1, v+1):\n",
    "        parent[i] = i\n",
    "       \n",
    "    edges = []\n",
    "    result = 0\n",
    "    \n",
    "    for _ in range(e):\n",
    "        a, b, cost = map(int, input.readline().split()) \n",
    "        edges.append((cost, a, b))\n",
    "        \n",
    "    edges.sort()\n",
    "    print(edges)\n",
    "    print()\n",
    "    \n",
    "    for edge in edges:\n",
    "        cost, a, b = edge\n",
    "        if find_parent(parent, a) != find_parent(parent, b):\n",
    "            union_parent(parent, a, b)\n",
    "            result += cost\n",
    "    print(result)"
   ]
  },
  {
   "cell_type": "code",
   "execution_count": 5,
   "metadata": {},
   "outputs": [
    {
     "data": {
      "text/plain": [
       "159"
      ]
     },
     "execution_count": 5,
     "metadata": {},
     "output_type": "execute_result"
    }
   ],
   "source": [
    "29 + 53 + 34 + 23 + 7 + 13"
   ]
  }
 ],
 "metadata": {
  "kernelspec": {
   "display_name": "base",
   "language": "python",
   "name": "python3"
  },
  "language_info": {
   "codemirror_mode": {
    "name": "ipython",
    "version": 3
   },
   "file_extension": ".py",
   "mimetype": "text/x-python",
   "name": "python",
   "nbconvert_exporter": "python",
   "pygments_lexer": "ipython3",
   "version": "3.9.12"
  }
 },
 "nbformat": 4,
 "nbformat_minor": 2
}
