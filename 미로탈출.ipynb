{
 "cells": [
  {
   "cell_type": "code",
   "execution_count": 1,
   "metadata": {},
   "outputs": [
    {
     "name": "stdout",
     "output_type": "stream",
     "text": [
      "n : 3,  m : 3\n"
     ]
    }
   ],
   "source": [
    "n, m = map(int, input().split())\n",
    "print(f\"n : {n},  m : {m}\")\n",
    "\n",
    "graph = []\n",
    "for _ in range(n):\n",
    "    data = list(map(int, input()))\n",
    "    graph.append(data)\n",
    "    \n",
    "for row in graph:\n",
    "    print(row)"
   ]
  }
 ],
 "metadata": {
  "kernelspec": {
   "display_name": "base",
   "language": "python",
   "name": "python3"
  },
  "language_info": {
   "codemirror_mode": {
    "name": "ipython",
    "version": 3
   },
   "file_extension": ".py",
   "mimetype": "text/x-python",
   "name": "python",
   "nbconvert_exporter": "python",
   "pygments_lexer": "ipython3",
   "version": "3.9.12"
  }
 },
 "nbformat": 4,
 "nbformat_minor": 2
}
