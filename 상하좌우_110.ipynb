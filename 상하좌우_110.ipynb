{
 "cells": [
  {
   "cell_type": "markdown",
   "metadata": {},
   "source": [
    "##### 원래 답안"
   ]
  },
  {
   "cell_type": "code",
   "execution_count": 2,
   "metadata": {},
   "outputs": [
    {
     "name": "stdout",
     "output_type": "stream",
     "text": [
      "plan : R,  nx : 1,  ny : 2\n",
      "plan : R,  nx : 1,  ny : 3\n",
      "plan : R,  nx : 1,  ny : 4\n",
      "plan : U,  nx : 0,  ny : 4\n",
      "plan : D,  nx : 2,  ny : 4\n",
      "plan : D,  nx : 3,  ny : 4\n",
      "3 4\n"
     ]
    }
   ],
   "source": [
    "n = int(input())           # 정사각형의 크기 n : 5\n",
    "x, y = 1, 1                # 출발좌표\n",
    "plans = input().split()    # 이동계획    R R R U D D\n",
    "\n",
    "# L R U D\n",
    "dx = [ 0, 0, -1, 1]\n",
    "dy = [-1, 1,  0, 0]\n",
    "move_types = ['L', 'R', 'U', 'D']\n",
    "\n",
    "# 이동 계획을 하나씩 확인한다.\n",
    "for plan in plans:\n",
    "    for i in range(len(move_types)):      # 이동 후 좌표 구하기\n",
    "        if plan == move_types[i]:\n",
    "            nx = x + dx[i]\n",
    "            ny = y + dy[i]\n",
    "            print(f\"plan : {plan},  nx : {nx},  ny : {ny}\")\n",
    "    # 공간을 벗어나는 경우에는 무시한다.\n",
    "    if nx<1 or ny<1 or nx>n or ny>n:\n",
    "        continue\n",
    "    x, y = nx, ny\n",
    "    \n",
    "print(x, y)"
   ]
  },
  {
   "cell_type": "code",
   "execution_count": 3,
   "metadata": {},
   "outputs": [
    {
     "name": "stdout",
     "output_type": "stream",
     "text": [
      "plan : R,  nx : 1,  ny : 2\n",
      "plan : R,  nx : 1,  ny : 3\n",
      "plan : R,  nx : 1,  ny : 4\n",
      "plan : D,  nx : 2,  ny : 4\n",
      "plan : D,  nx : 3,  ny : 4\n",
      "3 4\n"
     ]
    }
   ],
   "source": [
    "n = int(input())           # 정사각형의 크기 n : 5\n",
    "x, y = 1, 1                # 출발좌표\n",
    "plans = input().split()    # 이동계획    R R R U D D\n",
    "\n",
    "# L R U D\n",
    "dx = [ 0, 0, -1, 1]\n",
    "dy = [-1, 1,  0, 0]\n",
    "move_types = ['L', 'R', 'U', 'D']\n",
    "\n",
    "# 이동 계획을 하나씩 확인한다.\n",
    "for plan in plans:\n",
    "    for i in range(len(move_types)):      # 이동 후 좌표 구하기\n",
    "        if plan == move_types[i]:\n",
    "            nx = x + dx[i]\n",
    "            ny = y + dy[i]            \n",
    "    # 공간을 벗어나는 경우에는 무시한다.\n",
    "    if nx<1 or ny<1 or nx>n or ny>n:\n",
    "        continue\n",
    "    print(f\"plan : {plan},  nx : {nx},  ny : {ny}\")\n",
    "    x, y = nx, ny\n",
    "    \n",
    "print(x, y)"
   ]
  },
  {
   "cell_type": "code",
   "execution_count": 5,
   "metadata": {},
   "outputs": [
    {
     "name": "stdout",
     "output_type": "stream",
     "text": [
      "3 4\n"
     ]
    }
   ],
   "source": [
    "n = int(input())           # 정사각형의 크기 n : 5\n",
    "x, y = 1, 1                # 출발좌표\n",
    "plans = input().split()    # 이동계획    R R R U D D\n",
    "\n",
    "# L R U D\n",
    "dx = [ 0, 0, -1, 1]\n",
    "dy = [-1, 1,  0, 0]\n",
    "move_types = ['L', 'R', 'U', 'D']\n",
    "\n",
    "# 이동 계획을 하나씩 확인한다.\n",
    "for plan in plans:\n",
    "    for i in range(len(move_types)):      # 이동 후 좌표 구하는데 공간을 벗어나지 않는 경우에만 좌표가 이동한다.\n",
    "        if plan == move_types[i] and 1 <= x+dx[i] >=n and 1 <= y+dy[i] >=n:            \n",
    "            nx = x + dx[i]\n",
    "            ny = y + dy[i]\n",
    "        print(f\"plan : {plan},  nx : {nx},  ny : {ny}\")\n",
    "    x, y = nx, ny\n",
    "    \n",
    "print(x, y)"
   ]
  }
 ],
 "metadata": {
  "kernelspec": {
   "display_name": "base",
   "language": "python",
   "name": "python3"
  },
  "language_info": {
   "codemirror_mode": {
    "name": "ipython",
    "version": 3
   },
   "file_extension": ".py",
   "mimetype": "text/x-python",
   "name": "python",
   "nbconvert_exporter": "python",
   "pygments_lexer": "ipython3",
   "version": "3.9.12"
  }
 },
 "nbformat": 4,
 "nbformat_minor": 2
}
