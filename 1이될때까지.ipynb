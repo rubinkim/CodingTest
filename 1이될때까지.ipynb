{
 "cells": [
  {
   "cell_type": "markdown",
   "metadata": {},
   "source": [
    "##### 내가 푸는 방식"
   ]
  },
  {
   "cell_type": "code",
   "execution_count": 2,
   "metadata": {},
   "outputs": [
    {
     "name": "stdout",
     "output_type": "stream",
     "text": [
      "6\n"
     ]
    }
   ],
   "source": [
    "n, k = map(int, input().split())   # 17 3\n",
    "cnt = 0\n",
    "\n",
    "while n > 1:\n",
    "    if n % k != 0:\n",
    "        n -= 1\n",
    "        cnt += 1\n",
    "    else:\n",
    "        n //= k\n",
    "        cnt += 1\n",
    "        \n",
    "print(cnt)"
   ]
  },
  {
   "cell_type": "markdown",
   "metadata": {},
   "source": [
    "##### 잘못된 방식"
   ]
  },
  {
   "cell_type": "code",
   "execution_count": 3,
   "metadata": {},
   "outputs": [
    {
     "name": "stdout",
     "output_type": "stream",
     "text": [
      "4\n"
     ]
    }
   ],
   "source": [
    "n, k = map(int,input().split())\n",
    "temp = (n//k) * k\n",
    "count = n - temp\n",
    "while True:\n",
    "    if temp < k:\n",
    "        break\n",
    "    count += 1\n",
    "    temp //= k\n",
    "\n",
    "result = count + temp-1\n",
    "print(result)"
   ]
  },
  {
   "cell_type": "markdown",
   "metadata": {},
   "source": [
    "##### 책에서의 단순하게 푸는 방식"
   ]
  },
  {
   "cell_type": "code",
   "execution_count": 4,
   "metadata": {},
   "outputs": [
    {
     "name": "stdout",
     "output_type": "stream",
     "text": [
      "6\n"
     ]
    }
   ],
   "source": [
    "n, k = map(int, input().split())\n",
    "result = 0\n",
    "\n",
    "# n이 k이상이라면 k로 계속 나누기\n",
    "while n >= k:\n",
    "    # n이 k로 나누어 떨어지지 않으면 n에서 1씩 빼기\n",
    "    while n % k != 0:\n",
    "        n -= 1\n",
    "        result += 1\n",
    "    # k로 나누기\n",
    "    n //= k\n",
    "    result += 1\n",
    "    \n",
    "# 마지막으로 남은 수에 대하여 1씩 빼기\n",
    "while n > 1:\n",
    "    n -= 1\n",
    "    result += 1\n",
    "\n",
    "print(result)"
   ]
  },
  {
   "cell_type": "markdown",
   "metadata": {},
   "source": [
    "##### 책에서의 n이 100억이상일 경우 n이 k의 배수가 되도록 효율적으로 한번에 빼는 방식"
   ]
  },
  {
   "cell_type": "code",
   "execution_count": 1,
   "metadata": {},
   "outputs": [
    {
     "name": "stdout",
     "output_type": "stream",
     "text": [
      "data : 9,  target : 7\n"
     ]
    }
   ],
   "source": [
    "# while에 조건식 대신 True를 지정하면 무한히 반복하는 무한 루프가 만들어집니다. 따라서 무한반복이 생기지 않도록 빠져나오는 코드를 함께 수행해줘야 합니다.\n",
    "while True:\n",
    "    data = int(input())\n",
    "    target = 7\n",
    "    if data > target:\n",
    "        print(f\"data : {data},  target : {target}\")\n",
    "    else:\n",
    "        break"
   ]
  },
  {
   "cell_type": "code",
   "execution_count": null,
   "metadata": {},
   "outputs": [],
   "source": [
    "while True:\n",
    "    for i in range(10):\n",
    "        if i >= 9:\n",
    "            print(f\"{i} is too big so I gotta go out!\")\n",
    "            break\n",
    "        elif i % 2 != 0:\n",
    "            print(f\"{i} is an odd number which is less than 10.\")\n",
    "        else:\n",
    "            print(f\"{i} is an even number so I should pass.\")\n",
    "            continue       "
   ]
  },
  {
   "cell_type": "code",
   "execution_count": null,
   "metadata": {},
   "outputs": [],
   "source": [
    "n, k = map(int, input().split())\n",
    "result = 0\n",
    "\n",
    "while True:\n",
    "    target = "
   ]
  }
 ],
 "metadata": {
  "kernelspec": {
   "display_name": "base",
   "language": "python",
   "name": "python3"
  },
  "language_info": {
   "codemirror_mode": {
    "name": "ipython",
    "version": 3
   },
   "file_extension": ".py",
   "mimetype": "text/x-python",
   "name": "python",
   "nbconvert_exporter": "python",
   "pygments_lexer": "ipython3",
   "version": "3.9.12"
  }
 },
 "nbformat": 4,
 "nbformat_minor": 2
}
