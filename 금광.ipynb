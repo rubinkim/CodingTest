{
 "cells": [
  {
   "cell_type": "code",
   "execution_count": 21,
   "metadata": {},
   "outputs": [
    {
     "name": "stdout",
     "output_type": "stream",
     "text": [
      "n : 3,  m : 4\n"
     ]
    }
   ],
   "source": [
    "n, m = map(int, input().split())   # n : 행의 갯수,  m : 열의 갯수  (3 4)(1 3 3 2 2 1 4 1 0 6 4 7)\n",
    "print(f\"n : {n},  m : {m}\")"
   ]
  },
  {
   "cell_type": "code",
   "execution_count": 22,
   "metadata": {},
   "outputs": [
    {
     "name": "stdout",
     "output_type": "stream",
     "text": [
      "[1, 3, 3, 2, 2, 1, 4, 1, 0, 6, 4, 7]\n",
      "[1, 3, 3, 2]\n",
      "[2, 1, 4, 1]\n",
      "[0, 6, 4, 7]\n"
     ]
    }
   ],
   "source": [
    "array = list(map(int, input().split()))\n",
    "print(array)\n",
    "\n",
    "new_array = []\n",
    "for i in range(len(array)):\n",
    "    if i % m == 0:\n",
    "         new_array.append(array[i:i+4])\n",
    "         \n",
    "for row in new_array:\n",
    "    print(row)"
   ]
  },
  {
   "cell_type": "code",
   "execution_count": 23,
   "metadata": {},
   "outputs": [
    {
     "name": "stdout",
     "output_type": "stream",
     "text": [
      "[0, 0, 0, 0]\n",
      "[0, 0, 0, 0]\n",
      "[0, 0, 0, 0]\n"
     ]
    }
   ],
   "source": [
    "# a[i, j] : [i, j]위치에서의 최대값\n",
    "a = [[0] * m for _ in range(n)]\n",
    "for row in a:\n",
    "    print(row)"
   ]
  },
  {
   "cell_type": "code",
   "execution_count": 24,
   "metadata": {},
   "outputs": [
    {
     "name": "stdout",
     "output_type": "stream",
     "text": [
      "[1, 0, 0, 0]\n",
      "[2, 0, 0, 0]\n",
      "[0, 0, 0, 0]\n"
     ]
    }
   ],
   "source": [
    "for i in range(len(a)):\n",
    "    a[i][0] = new_array[i][0]\n",
    "    \n",
    "for row in a:\n",
    "    print(row)"
   ]
  },
  {
   "cell_type": "code",
   "execution_count": 25,
   "metadata": {},
   "outputs": [],
   "source": [
    "for i in range(n):\n",
    "    for j in range(1, m):\n",
    "        if i == 0:\n",
    "            a[i][j] = max(a[i][j-1], a[i+1][j-1]) + new_array[i][j]\n",
    "        elif 1 <= i <= n-2:\n",
    "            a[i][j] = max(a[i-1][j-1], a[i][j-1], a[i+1][j-1]) + new_array[i][j]\n",
    "        else:\n",
    "            a[i][j] = max(a[i-1][j-1], a[i][j-1]) + new_array[i][j]"
   ]
  },
  {
   "cell_type": "code",
   "execution_count": 26,
   "metadata": {},
   "outputs": [
    {
     "name": "stdout",
     "output_type": "stream",
     "text": [
      "[1, 5, 8, 10]\n",
      "[2, 3, 9, 10]\n",
      "[0, 8, 12, 19]\n"
     ]
    }
   ],
   "source": [
    "for row in a:\n",
    "    print(row)"
   ]
  },
  {
   "cell_type": "code",
   "execution_count": 28,
   "metadata": {},
   "outputs": [
    {
     "name": "stdout",
     "output_type": "stream",
     "text": [
      "채굴자가 채굴할 수 있는 금의 최대값 : 19\n"
     ]
    }
   ],
   "source": [
    "ans = max([a[i][-1] for i in range(len(a))])\n",
    "print(f\"채굴자가 채굴할 수 있는 금의 최대값 : {ans}\")"
   ]
  },
  {
   "cell_type": "code",
   "execution_count": 30,
   "metadata": {},
   "outputs": [
    {
     "name": "stdout",
     "output_type": "stream",
     "text": [
      "n : 4,  m : 4\n"
     ]
    }
   ],
   "source": [
    "n, m = map(int, input().split())   # n : 행의 갯수,  m : 열의 갯수 (4 4)(1 3 1 5 2 2 4 1 5 0 2 3 0 6 1 2)\n",
    "print(f\"n : {n},  m : {m}\")"
   ]
  },
  {
   "cell_type": "code",
   "execution_count": 31,
   "metadata": {},
   "outputs": [
    {
     "name": "stdout",
     "output_type": "stream",
     "text": [
      "[1, 3, 1, 5, 2, 2, 4, 1, 5, 0, 2, 3, 0, 6, 1, 2]\n",
      "[1, 3, 1, 5]\n",
      "[2, 2, 4, 1]\n",
      "[5, 0, 2, 3]\n",
      "[0, 6, 1, 2]\n"
     ]
    }
   ],
   "source": [
    "array = list(map(int, input().split()))\n",
    "print(array)\n",
    "\n",
    "new_array = []\n",
    "for i in range(len(array)):\n",
    "    if i % m == 0:\n",
    "         new_array.append(array[i:i+4])\n",
    "         \n",
    "for row in new_array:\n",
    "    print(row)"
   ]
  },
  {
   "cell_type": "code",
   "execution_count": 32,
   "metadata": {},
   "outputs": [
    {
     "name": "stdout",
     "output_type": "stream",
     "text": [
      "[0, 0, 0, 0]\n",
      "[0, 0, 0, 0]\n",
      "[0, 0, 0, 0]\n",
      "[0, 0, 0, 0]\n"
     ]
    }
   ],
   "source": [
    "# a[i, j] : [i, j]위치에서의 최대값\n",
    "a = [[0] * m for _ in range(n)]\n",
    "for row in a:\n",
    "    print(row)"
   ]
  },
  {
   "cell_type": "code",
   "execution_count": null,
   "metadata": {},
   "outputs": [],
   "source": [
    "for i in range(len(a)):\n",
    "    a[i][0] = new_array[i][0]\n",
    "    \n",
    "for row in a:\n",
    "    print(row)"
   ]
  },
  {
   "cell_type": "code",
   "execution_count": 33,
   "metadata": {},
   "outputs": [],
   "source": [
    "for i in range(n):\n",
    "    for j in range(1, m):\n",
    "        if i == 0:\n",
    "            a[i][j] = max(a[i][j-1], a[i+1][j-1]) + new_array[i][j]\n",
    "        elif 1 <= i <= n-2:\n",
    "            a[i][j] = max(a[i-1][j-1], a[i][j-1], a[i+1][j-1]) + new_array[i][j]\n",
    "        else:\n",
    "            a[i][j] = max(a[i-1][j-1], a[i][j-1]) + new_array[i][j]"
   ]
  },
  {
   "cell_type": "code",
   "execution_count": 34,
   "metadata": {},
   "outputs": [
    {
     "name": "stdout",
     "output_type": "stream",
     "text": [
      "[0, 3, 4, 9]\n",
      "[0, 2, 7, 8]\n",
      "[0, 0, 4, 10]\n",
      "[0, 6, 7, 9]\n"
     ]
    }
   ],
   "source": [
    "for row in a:\n",
    "    print(row)"
   ]
  },
  {
   "cell_type": "code",
   "execution_count": null,
   "metadata": {},
   "outputs": [],
   "source": [
    "n, m = map(int, input().split())   # n : 행의 갯수,  m : 열의 갯수 (4 4)(1 3 1 5 2 2 4 1 5 0 2 3 0 6 1 2)\n",
    "print(f\"n : {n},  m : {m}\")"
   ]
  }
 ],
 "metadata": {
  "kernelspec": {
   "display_name": "base",
   "language": "python",
   "name": "python3"
  },
  "language_info": {
   "codemirror_mode": {
    "name": "ipython",
    "version": 3
   },
   "file_extension": ".py",
   "mimetype": "text/x-python",
   "name": "python",
   "nbconvert_exporter": "python",
   "pygments_lexer": "ipython3",
   "version": "3.9.12"
  }
 },
 "nbformat": 4,
 "nbformat_minor": 2
}
