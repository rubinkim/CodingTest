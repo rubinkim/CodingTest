{
 "cells": [
  {
   "cell_type": "code",
   "execution_count": 1,
   "metadata": {},
   "outputs": [
    {
     "name": "stdout",
     "output_type": "stream",
     "text": [
      "n : 4,  m : 4\n"
     ]
    }
   ],
   "source": [
    "n, m = map(int, input().split())   # n : 행의 갯수,  m : 열의 갯수\n",
    "print(f\"n : {n},  m : {m}\")"
   ]
  },
  {
   "cell_type": "code",
   "execution_count": 3,
   "metadata": {},
   "outputs": [
    {
     "name": "stdout",
     "output_type": "stream",
     "text": [
      "[1, 3, 1, 5, 2, 2, 4, 1, 5, 0, 2, 3, 0, 6, 1, 2]\n",
      "[1, 3, 1, 5]\n",
      "[2, 2, 4, 1]\n",
      "[5, 0, 2, 3]\n",
      "[0, 6, 1, 2]\n"
     ]
    }
   ],
   "source": [
    "array = list(map(int, input().split()))\n",
    "print(array)\n",
    "\n",
    "new_array = []\n",
    "for i in range(len(array)):\n",
    "    if i % m == 0:\n",
    "         new_array.append(array[i:i+4])\n",
    "         \n",
    "for row in new_array:\n",
    "    print(row)"
   ]
  }
 ],
 "metadata": {
  "kernelspec": {
   "display_name": "base",
   "language": "python",
   "name": "python3"
  },
  "language_info": {
   "codemirror_mode": {
    "name": "ipython",
    "version": 3
   },
   "file_extension": ".py",
   "mimetype": "text/x-python",
   "name": "python",
   "nbconvert_exporter": "python",
   "pygments_lexer": "ipython3",
   "version": "3.9.12"
  }
 },
 "nbformat": 4,
 "nbformat_minor": 2
}
