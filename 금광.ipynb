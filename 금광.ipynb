{
 "cells": [
  {
   "cell_type": "code",
   "execution_count": 1,
   "metadata": {},
   "outputs": [
    {
     "name": "stdout",
     "output_type": "stream",
     "text": [
      "n : 4,  m : 4\n"
     ]
    }
   ],
   "source": [
    "n, m = map(int, input().split())   # n : 행의 갯수,  m : 열의 갯수\n",
    "print(f\"n : {n},  m : {m}\")"
   ]
  },
  {
   "cell_type": "code",
   "execution_count": 3,
   "metadata": {},
   "outputs": [
    {
     "name": "stdout",
     "output_type": "stream",
     "text": [
      "[1, 3, 1, 5, 2, 2, 4, 1, 5, 0, 2, 3, 0, 6, 1, 2]\n",
      "[1, 3, 1, 5]\n",
      "[2, 2, 4, 1]\n",
      "[5, 0, 2, 3]\n",
      "[0, 6, 1, 2]\n"
     ]
    }
   ],
   "source": [
    "array = list(map(int, input().split()))\n",
    "print(array)\n",
    "\n",
    "new_array = []\n",
    "for i in range(len(array)):\n",
    "    if i % m == 0:\n",
    "         new_array.append(array[i:i+4])\n",
    "         \n",
    "for row in new_array:\n",
    "    print(row)"
   ]
  },
  {
   "cell_type": "code",
   "execution_count": 4,
   "metadata": {},
   "outputs": [
    {
     "name": "stdout",
     "output_type": "stream",
     "text": [
      "[0, 0, 0, 0]\n",
      "[0, 0, 0, 0]\n",
      "[0, 0, 0, 0]\n",
      "[0, 0, 0, 0]\n"
     ]
    }
   ],
   "source": [
    "# a[i, j] : [i, j]위치에서의 최대값\n",
    "a = [[0] * m for _ in range(n)]\n",
    "for row in a:\n",
    "    print(row)"
   ]
  },
  {
   "cell_type": "code",
   "execution_count": 6,
   "metadata": {},
   "outputs": [
    {
     "name": "stdout",
     "output_type": "stream",
     "text": [
      "[1, 0, 0, 0]\n",
      "[2, 0, 0, 0]\n",
      "[5, 0, 0, 0]\n",
      "[0, 0, 0, 0]\n"
     ]
    }
   ],
   "source": [
    "for i in range(len(a)):\n",
    "    a[i][0] = new_array[i][0]\n",
    "    \n",
    "for row in a:\n",
    "    print(row)"
   ]
  },
  {
   "cell_type": "code",
   "execution_count": null,
   "metadata": {},
   "outputs": [],
   "source": [
    "for i in range(n):\n",
    "    for j in range(1, m):\n",
    "        if i == 0:\n",
    "            a[i][j] = max(a[i][j-1], a[i+1][j-1]) + array[i][j]\n",
    "        elif i == n-1:\n",
    "            a[i][j] = max(a[i-1][j-1], a[i][j-1]) + array[i][j]\n",
    "        else:\n",
    "            a[i][j] = max(a[i-1][j-1], a[i][j-1], a[i+1][j-1]) + array[i][j]"
   ]
  }
 ],
 "metadata": {
  "kernelspec": {
   "display_name": "base",
   "language": "python",
   "name": "python3"
  },
  "language_info": {
   "codemirror_mode": {
    "name": "ipython",
    "version": 3
   },
   "file_extension": ".py",
   "mimetype": "text/x-python",
   "name": "python",
   "nbconvert_exporter": "python",
   "pygments_lexer": "ipython3",
   "version": "3.9.12"
  }
 },
 "nbformat": 4,
 "nbformat_minor": 2
}
