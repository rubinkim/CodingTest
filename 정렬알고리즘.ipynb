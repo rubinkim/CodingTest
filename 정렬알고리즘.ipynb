{
 "cells": [
  {
   "cell_type": "markdown",
   "metadata": {},
   "source": [
    "##### 선택정렬(selective sorting)"
   ]
  },
  {
   "cell_type": "code",
   "execution_count": 21,
   "metadata": {},
   "outputs": [],
   "source": [
    "array = [7, 5, 9, 0, 3, 1, 6, 2, 4, 8]"
   ]
  },
  {
   "cell_type": "code",
   "execution_count": 22,
   "metadata": {},
   "outputs": [
    {
     "name": "stdout",
     "output_type": "stream",
     "text": [
      "[0, 5, 9, 7, 3, 1, 6, 2, 4, 8]\n",
      "[0, 1, 9, 7, 3, 5, 6, 2, 4, 8]\n",
      "[0, 1, 2, 7, 3, 5, 6, 9, 4, 8]\n",
      "[0, 1, 2, 3, 7, 5, 6, 9, 4, 8]\n",
      "[0, 1, 2, 3, 4, 5, 6, 9, 7, 8]\n",
      "[0, 1, 2, 3, 4, 5, 6, 9, 7, 8]\n",
      "[0, 1, 2, 3, 4, 5, 6, 9, 7, 8]\n",
      "[0, 1, 2, 3, 4, 5, 6, 7, 9, 8]\n",
      "[0, 1, 2, 3, 4, 5, 6, 7, 8, 9]\n",
      "[0, 1, 2, 3, 4, 5, 6, 7, 8, 9]\n",
      "\n",
      "[0, 1, 2, 3, 4, 5, 6, 7, 8, 9]\n"
     ]
    }
   ],
   "source": [
    "for i in range(len(array)):\n",
    "    min_index = i\n",
    "    for j in range(i+1, len(array)):\n",
    "        if array[min_index] > array[j]:\n",
    "            min_index = j\n",
    "    array[i], array[min_index] = array[min_index], array[i]\n",
    "    print(array)\n",
    "    \n",
    "print()\n",
    "print(array)"
   ]
  },
  {
   "cell_type": "markdown",
   "metadata": {},
   "source": [
    "##### 삽입정렬(Insertion sorting)"
   ]
  },
  {
   "cell_type": "code",
   "execution_count": 23,
   "metadata": {},
   "outputs": [],
   "source": [
    "array = [7, 5, 9, 0, 3, 1, 6, 2, 4, 8]"
   ]
  },
  {
   "cell_type": "code",
   "execution_count": 24,
   "metadata": {},
   "outputs": [
    {
     "name": "stdout",
     "output_type": "stream",
     "text": [
      "[7, 5, 9, 0, 3, 1, 6, 2, 4, 8]\n",
      "[5, 7, 9, 0, 3, 1, 6, 2, 4, 8]\n",
      "[5, 7, 9, 0, 3, 1, 6, 2, 4, 8]\n",
      "[0, 5, 7, 9, 3, 1, 6, 2, 4, 8]\n",
      "[0, 3, 5, 7, 9, 1, 6, 2, 4, 8]\n",
      "[0, 1, 3, 5, 7, 9, 6, 2, 4, 8]\n",
      "[0, 1, 3, 5, 6, 7, 9, 2, 4, 8]\n",
      "[0, 1, 2, 3, 5, 6, 7, 9, 4, 8]\n",
      "[0, 1, 2, 3, 4, 5, 6, 7, 9, 8]\n",
      "[0, 1, 2, 3, 4, 5, 6, 7, 8, 9]\n",
      "\n",
      "[0, 1, 2, 3, 4, 5, 6, 7, 8, 9]\n"
     ]
    }
   ],
   "source": [
    "for i in range(len(array)):\n",
    "    for j in range(i, 0, -1):\n",
    "        if array[j] < array[j-1]:\n",
    "            array[j-1], array[j] = array[j], array[j-1]\n",
    "        else: break\n",
    "    print(array)\n",
    "    \n",
    "print()\n",
    "print(array)"
   ]
  }
 ],
 "metadata": {
  "kernelspec": {
   "display_name": "base",
   "language": "python",
   "name": "python3"
  },
  "language_info": {
   "codemirror_mode": {
    "name": "ipython",
    "version": 3
   },
   "file_extension": ".py",
   "mimetype": "text/x-python",
   "name": "python",
   "nbconvert_exporter": "python",
   "pygments_lexer": "ipython3",
   "version": "3.9.12"
  }
 },
 "nbformat": 4,
 "nbformat_minor": 2
}
