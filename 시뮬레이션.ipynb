{
 "cells": [
  {
   "cell_type": "markdown",
   "metadata": {},
   "source": [
    "##### 상하좌우"
   ]
  },
  {
   "cell_type": "code",
   "execution_count": 3,
   "metadata": {},
   "outputs": [
    {
     "name": "stdout",
     "output_type": "stream",
     "text": [
      "3 4\n"
     ]
    }
   ],
   "source": [
    "n = int(input())                # 정사각형 한변의 크기\n",
    "x, y = 1, 1                     # 출발할 x, y 위치\n",
    "plans = input().split()         # 이동하는 방향을 말해주는 R, U, L, D (동, 북, 서, 남)\n",
    "dx = [0, -1, 0, 1]\n",
    "dy = [1, 0, -1, 0]\n",
    "move_types = ['R', 'U', 'L', 'D']\n",
    "\n",
    "for plan in plans:\n",
    "    for i in range(len(move_types)):\n",
    "        if plan == move_types[i]:\n",
    "            nx = x + dx[i]\n",
    "            ny = y + dy[i]\n",
    "    if nx < 1 or nx > n or ny < 1 or ny > n:\n",
    "        continue\n",
    "    x, y = nx, ny\n",
    "        \n",
    "print(x, y)"
   ]
  },
  {
   "cell_type": "markdown",
   "metadata": {},
   "source": [
    "##### 시각"
   ]
  },
  {
   "cell_type": "code",
   "execution_count": 5,
   "metadata": {},
   "outputs": [
    {
     "name": "stdout",
     "output_type": "stream",
     "text": [
      "11475\n"
     ]
    }
   ],
   "source": [
    "# 00시 00분 00초부터 n시 59분 59초까지의 모든 시각중에서 3이 하나라도 포함되는 모든 경우의 수를 구하는 프로그램을 작성하라.\n",
    "h = int(input())\n",
    "cnt = 0\n",
    "\n",
    "for i in range(h+1):\n",
    "    for j in range(60):\n",
    "        for k in range(60):\n",
    "            if '3' in str(i) + str(j) + str(k):\n",
    "                cnt += 1\n",
    "print(cnt)"
   ]
  },
  {
   "cell_type": "markdown",
   "metadata": {},
   "source": [
    "##### 왕실의 나이트"
   ]
  },
  {
   "cell_type": "code",
   "execution_count": 6,
   "metadata": {},
   "outputs": [
    {
     "name": "stdout",
     "output_type": "stream",
     "text": [
      "input data : e3\n"
     ]
    }
   ],
   "source": [
    "input_data = input()\n",
    "print(f\"input data : {input_data}\")"
   ]
  },
  {
   "cell_type": "code",
   "execution_count": 7,
   "metadata": {},
   "outputs": [
    {
     "name": "stdout",
     "output_type": "stream",
     "text": [
      "행위치 : 3,  열위치 : 5\n"
     ]
    }
   ],
   "source": [
    "row = int(input_data[1])      # g2 : 4,    e3 : 8\n",
    "col = int(ord(input_data[0])) - int(ord('a')) + 1\n",
    "print(f\"행위치 : {row},  열위치 : {col}\")"
   ]
  },
  {
   "cell_type": "code",
   "execution_count": 8,
   "metadata": {},
   "outputs": [
    {
     "name": "stdout",
     "output_type": "stream",
     "text": [
      "나이트가 ('3', 'e')위치에 있을 때 이동할 수 있는 경우의 수는 8개이다.\n"
     ]
    }
   ],
   "source": [
    "steps = [(-2,-1), (-2,1), (2,-1), (2,1), (-1,-2), (-1,2), (1,-2), (1,2)]\n",
    "result = 0\n",
    "\n",
    "for step in steps:\n",
    "    new_row = row + step[0]\n",
    "    new_col = col + step[1]\n",
    "    if 1 <= new_row <= 8 and 1 <= new_col <= 8:\n",
    "        result += 1\n",
    "        \n",
    "print(f\"나이트가 {(input_data[1], input_data[0])}위치에 있을 때 이동할 수 있는 경우의 수는 {result}개이다.\")"
   ]
  },
  {
   "cell_type": "markdown",
   "metadata": {},
   "source": [
    "##### 문자열 재정렬"
   ]
  },
  {
   "cell_type": "code",
   "execution_count": 15,
   "metadata": {},
   "outputs": [
    {
     "name": "stdout",
     "output_type": "stream",
     "text": [
      "input data : AJKDLSI412K4JSJ9D\n"
     ]
    }
   ],
   "source": [
    "input_data = input()\n",
    "print(f\"input data : {input_data}\")       # ZAJKDLSI412K4JSJ9D8"
   ]
  },
  {
   "cell_type": "code",
   "execution_count": 12,
   "metadata": {},
   "outputs": [
    {
     "name": "stdout",
     "output_type": "stream",
     "text": [
      "[(65, 'A'), (68, 'D'), (68, 'D'), (73, 'I'), (74, 'J'), (74, 'J'), (74, 'J'), (75, 'K'), (75, 'K'), (76, 'L'), (83, 'S'), (83, 'S')]\n",
      "\n",
      "['A', 'D', 'D', 'I', 'J', 'J', 'J', 'K', 'K', 'L', 'S', 'S']\n",
      "20\n"
     ]
    }
   ],
   "source": [
    "result = []\n",
    "num_sum = 0\n",
    "\n",
    "for i in range(len(input_data)):\n",
    "    if input_data[i] in 'ABCDEFGHIJKLMNOPQRSTUVWXYZ':\n",
    "        data_to_num = ord(input_data[i])\n",
    "        result.append((data_to_num, input_data[i]))\n",
    "    else:\n",
    "        num_sum += int(input_data[i])\n",
    "        \n",
    "result.sort()\n",
    "print(result)\n",
    "print()\n",
    "\n",
    "new_result = []\n",
    "for x, y in result:\n",
    "    new_result.append(y)    \n",
    "\n",
    "print(new_result)\n",
    "print(num_sum)\n",
    "print(\"\".join(new_result) + str(num_sum))"
   ]
  },
  {
   "cell_type": "code",
   "execution_count": 14,
   "metadata": {},
   "outputs": [
    {
     "data": {
      "text/plain": [
       "'ADDIJJJKKLSS20'"
      ]
     },
     "execution_count": 14,
     "metadata": {},
     "output_type": "execute_result"
    }
   ],
   "source": [
    "\"\".join(new_result) + str(num_sum)"
   ]
  }
 ],
 "metadata": {
  "kernelspec": {
   "display_name": "base",
   "language": "python",
   "name": "python3"
  },
  "language_info": {
   "codemirror_mode": {
    "name": "ipython",
    "version": 3
   },
   "file_extension": ".py",
   "mimetype": "text/x-python",
   "name": "python",
   "nbconvert_exporter": "python",
   "pygments_lexer": "ipython3",
   "version": "3.9.12"
  }
 },
 "nbformat": 4,
 "nbformat_minor": 2
}
