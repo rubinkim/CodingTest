{
 "cells": [
  {
   "cell_type": "code",
   "execution_count": 34,
   "metadata": {},
   "outputs": [
    {
     "name": "stdout",
     "output_type": "stream",
     "text": [
      "x : 26\n"
     ]
    }
   ],
   "source": [
    "# Bottom up\n",
    "x = int(input())\n",
    "d = [0] * 30001          # 0 <= x <= 30000\n",
    "print(f\"x : {x}\")"
   ]
  },
  {
   "cell_type": "code",
   "execution_count": 35,
   "metadata": {},
   "outputs": [
    {
     "name": "stdout",
     "output_type": "stream",
     "text": [
      "3\n"
     ]
    }
   ],
   "source": [
    "# a[i] : i를 1로 만들기 위한 연산의 최소횟수\n",
    "# 점화식 : a[i] = min(a[i-1], a[i/2], a[i/3], a[i/5]) + 1, 단 1을 빼는 연산을 제외하고는 해당하는 수로 나누어서 떨어질 때만 해당 점화식을 사용할 수가 있다.\n",
    "\n",
    "for i in range(2, x+1):\n",
    "    d[i] = d[i-1] + 1\n",
    "    if i % 2 == 0: d[i] = min(d[i],  d[i//2] + 1)\n",
    "    if i % 3 == 0: d[i] = min(d[i],  d[i//3] + 1)\n",
    "    if i % 5 == 0: d[i] = min(d[i],  d[i//5] + 1)\n",
    "    \n",
    "print(d[x])"
   ]
  },
  {
   "cell_type": "code",
   "execution_count": 1,
   "metadata": {},
   "outputs": [
    {
     "name": "stdout",
     "output_type": "stream",
     "text": [
      "x : 26\n"
     ]
    }
   ],
   "source": [
    "# Top down\n",
    "x = int(input())  \n",
    "d = [0] * 30001\n",
    "d[2] = 1\n",
    "\n",
    "print(f\"x : {x}\")"
   ]
  },
  {
   "cell_type": "code",
   "execution_count": 21,
   "metadata": {},
   "outputs": [],
   "source": [
    "def get_min_count(x):           \n",
    "    if x % 2 == 0:\n",
    "        d[x] = min(get_min_count(x-1),  get_min_count(x//2)) + 1\n",
    "    if x % 3 == 0:\n",
    "        d[x] = min(get_min_count(x-1),  get_min_count(x//3)) + 1\n",
    "    if x % 5 == 0:\n",
    "        d[x] = min(get_min_count(x-1),  get_min_count(x//5)) + 1\n",
    "    return d[x]"
   ]
  },
  {
   "cell_type": "code",
   "execution_count": 3,
   "metadata": {},
   "outputs": [],
   "source": [
    "def get_min_count(x):\n",
    "    print('f(' + str(x) + ')', end=' ')\n",
    "    if d[x] != 0:\n",
    "        return d[x] \n",
    "    else:          \n",
    "        if x % 5 == 0:\n",
    "            d[x] = min(get_min_count(x-1),  get_min_count(x//5)) + 1\n",
    "        if x % 3 == 0:\n",
    "            d[x] = min(get_min_count(x-1),  get_min_count(x//3)) + 1\n",
    "        if x % 2 == 0:\n",
    "            d[x] = min(get_min_count(x-1),  get_min_count(x//2)) + 1\n",
    "        if x >= 3 and not((x % 5 == 0) or (x % 3 == 0) or (x % 2 == 0)):\n",
    "            d[x] = get_min_count(x-1) + 1\n",
    "    return d[x]"
   ]
  },
  {
   "cell_type": "code",
   "execution_count": null,
   "metadata": {},
   "outputs": [],
   "source": [
    "# Bottom up\n",
    "x = int(input())\n",
    "d = [0] * 30001          # 0 <= x <= 30000\n",
    "print(f\"x : {x}\")"
   ]
  },
  {
   "cell_type": "code",
   "execution_count": null,
   "metadata": {},
   "outputs": [],
   "source": [
    "def get_mit_count(x):\n",
    "    "
   ]
  },
  {
   "cell_type": "code",
   "execution_count": 4,
   "metadata": {},
   "outputs": [
    {
     "name": "stdout",
     "output_type": "stream",
     "text": [
      "f(26) f(25) f(24) f(23) f(22) f(21) f(20) f(19) f(18) f(17) f(16) f(15) f(14) f(13) f(12) f(11) f(10) f(9) f(8) f(7) f(6) f(5) f(4) f(3) f(2) f(1) f(2) f(1) f(2) f(5) f(3) f(4) f(3) f(2) f(9) f(5) f(4) f(11) f(6) f(7) f(3) f(14) f(5) f(8) f(6) f(17) f(9) f(4) f(19) f(10) f(7) f(11) f(8) f(23) f(12) f(5) f(13) 3\n"
     ]
    }
   ],
   "source": [
    "print(get_min_count(x))"
   ]
  },
  {
   "cell_type": "code",
   "execution_count": 15,
   "metadata": {},
   "outputs": [
    {
     "name": "stdout",
     "output_type": "stream",
     "text": [
      "[0, 0, 1, 1, 2, 1, 2, 0, 1, 0, 0, 0, 1, 0, 0, 0, 0, 0, 0, 0, 0, 0, 0, 0, 1, 2, 1]\n"
     ]
    }
   ],
   "source": [
    "print(d[:27])"
   ]
  },
  {
   "cell_type": "code",
   "execution_count": 24,
   "metadata": {},
   "outputs": [],
   "source": [
    "def get_min_count(x):\n",
    "    if d[x] != 0:\n",
    "        return d[x] \n",
    "    else:\n",
    "        d[x] = d[x-1] + 1          \n",
    "        if x % 2 == 0:\n",
    "            d[x] = min(get_min_count(x-1),  get_min_count(x//2) + 1)\n",
    "        if x % 3 == 0:\n",
    "            d[x] = min(get_min_count(x-1),  get_min_count(x//3) + 1)\n",
    "        if x % 5 == 0:\n",
    "            d[x] = min(get_min_count(x-1),  get_min_count(x//5) + 1)\n",
    "    return d[x]"
   ]
  },
  {
   "cell_type": "code",
   "execution_count": 32,
   "metadata": {},
   "outputs": [],
   "source": [
    "def get_min_count(x):\n",
    "    d[x] = d[x-1] + 1          \n",
    "    if x % 2 == 0:\n",
    "        d[x] = min(get_min_count(x-1),  get_min_count(x//2) + 1)\n",
    "    if x % 3 == 0:\n",
    "        d[x] = min(get_min_count(x-1),  get_min_count(x//3) + 1)\n",
    "    if x % 5 == 0:\n",
    "        d[x] = min(get_min_count(x-1),  get_min_count(x//5) + 1)\n",
    "    return d[x]"
   ]
  },
  {
   "cell_type": "code",
   "execution_count": 37,
   "metadata": {},
   "outputs": [],
   "source": [
    "def get_min_count(x):\n",
    "    d[x] = get_min_count(x-1) + 1          \n",
    "    if x % 2 == 0:\n",
    "        d[x] = min(d[x],  get_min_count(x//2) + 1)\n",
    "    if x % 3 == 0:\n",
    "        d[x] = min(d[x],  get_min_count(x//3) + 1)\n",
    "    if x % 5 == 0:\n",
    "        d[x] = min(d[x],  get_min_count(x//5) + 1)\n",
    "    return d[x]"
   ]
  },
  {
   "cell_type": "code",
   "execution_count": 38,
   "metadata": {},
   "outputs": [
    {
     "ename": "",
     "evalue": "",
     "output_type": "error",
     "traceback": [
      "\u001b[1;31mThe Kernel crashed while executing code in the the current cell or a previous cell. Please review the code in the cell(s) to identify a possible cause of the failure. Click <a href='https://aka.ms/vscodeJupyterKernelCrash'>here</a> for more info. View Jupyter <a href='command:jupyter.viewOutput'>log</a> for further details."
     ]
    }
   ],
   "source": [
    "x, get_min_count(x)"
   ]
  },
  {
   "cell_type": "code",
   "execution_count": 29,
   "metadata": {},
   "outputs": [
    {
     "data": {
      "text/plain": [
       "[0, 1, 1, 1, 1, 1, 1, 2, 2, 0]"
      ]
     },
     "execution_count": 29,
     "metadata": {},
     "output_type": "execute_result"
    }
   ],
   "source": [
    "d[:10]"
   ]
  },
  {
   "cell_type": "code",
   "execution_count": 31,
   "metadata": {},
   "outputs": [
    {
     "name": "stdout",
     "output_type": "stream",
     "text": [
      "[0, 1, 1, 1, 1, 1, 1, 2, 2, 0, 0, 1, 1, 2, 0, 0, 0, 0, 0, 0, 0, 0, 0, 1, 1, 1, 1]\n"
     ]
    }
   ],
   "source": [
    "print(d[:27])"
   ]
  }
 ],
 "metadata": {
  "kernelspec": {
   "display_name": "base",
   "language": "python",
   "name": "python3"
  },
  "language_info": {
   "codemirror_mode": {
    "name": "ipython",
    "version": 3
   },
   "file_extension": ".py",
   "mimetype": "text/x-python",
   "name": "python",
   "nbconvert_exporter": "python",
   "pygments_lexer": "ipython3",
   "version": "3.9.12"
  }
 },
 "nbformat": 4,
 "nbformat_minor": 2
}
