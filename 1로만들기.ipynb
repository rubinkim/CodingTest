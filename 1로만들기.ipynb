{
 "cells": [
  {
   "cell_type": "code",
   "execution_count": 10,
   "metadata": {},
   "outputs": [
    {
     "name": "stdout",
     "output_type": "stream",
     "text": [
      "x : 997\n"
     ]
    }
   ],
   "source": [
    "# Bottom up\n",
    "x = int(input())\n",
    "d = [0] * 30001          # 0 <= x <= 30000\n",
    "print(f\"x : {x}\")"
   ]
  },
  {
   "cell_type": "code",
   "execution_count": 11,
   "metadata": {},
   "outputs": [
    {
     "name": "stdout",
     "output_type": "stream",
     "text": [
      "9\n"
     ]
    }
   ],
   "source": [
    "# a[i] : i를 1로 만들기 위한 연산의 최소횟수\n",
    "# 점화식 : a[i] = min(a[i-1], a[i/2], a[i/3], a[i/5]) + 1, 단 1을 빼는 연산을 제외하고는 해당하는 수로 나누어서 떨어질 때만 해당 점화식을 사용할 수가 있다.\n",
    "\n",
    "for i in range(2, x+1):\n",
    "    d[i] = d[i-1] + 1\n",
    "    if i % 2 == 0: d[i] = min(d[i],  d[i//2] + 1)\n",
    "    if i % 3 == 0: d[i] = min(d[i],  d[i//3] + 1)\n",
    "    if i % 5 == 0: d[i] = min(d[i],  d[i//5] + 1)\n",
    "    \n",
    "print(d[x])"
   ]
  },
  {
   "cell_type": "code",
   "execution_count": 2,
   "metadata": {},
   "outputs": [
    {
     "name": "stdout",
     "output_type": "stream",
     "text": [
      "x : 26\n"
     ]
    }
   ],
   "source": [
    "# Top down\n",
    "x = int(input())  \n",
    "d = [0] * 30001\n",
    "d[2] = 1\n",
    "\n",
    "print(f\"x : {x}\")"
   ]
  },
  {
   "cell_type": "code",
   "execution_count": 21,
   "metadata": {},
   "outputs": [],
   "source": [
    "def get_min_count(x):           \n",
    "    if x % 2 == 0:\n",
    "        d[x] = min(get_min_count(x-1),  get_min_count(x//2)) + 1\n",
    "    if x % 3 == 0:\n",
    "        d[x] = min(get_min_count(x-1),  get_min_count(x//3)) + 1\n",
    "    if x % 5 == 0:\n",
    "        d[x] = min(get_min_count(x-1),  get_min_count(x//5)) + 1\n",
    "    return d[x]"
   ]
  },
  {
   "cell_type": "code",
   "execution_count": 6,
   "metadata": {},
   "outputs": [],
   "source": [
    "def get_min_count(x):\n",
    "    print('f(' + str(x) + ')', end=' ')\n",
    "    if d[x] != 0:\n",
    "        return d[x] \n",
    "    else:          \n",
    "        if x % 5 == 0:\n",
    "            d[x] = min(get_min_count(x-1),  get_min_count(x//5)) + 1\n",
    "        if x % 3 == 0:\n",
    "            d[x] = min(get_min_count(x-1),  get_min_count(x//3)) + 1\n",
    "        if x % 2 == 0:\n",
    "            d[x] = min(get_min_count(x-1),  get_min_count(x//2)) + 1\n",
    "        if x >= 3 and not((x % 5 == 0) or (x % 3 == 0) or (x % 2 == 0)):\n",
    "            d[x] = get_min_count(x-1) + 1\n",
    "    return d[x]"
   ]
  },
  {
   "cell_type": "code",
   "execution_count": 11,
   "metadata": {},
   "outputs": [
    {
     "name": "stdout",
     "output_type": "stream",
     "text": [
      "x : 26\n"
     ]
    }
   ],
   "source": [
    "# Bottom up\n",
    "x = int(input())\n",
    "d = [0] * 30001\n",
    "d[2] = 1\n",
    "# 0 <= x <= 30000\n",
    "print(f\"x : {x}\")"
   ]
  },
  {
   "cell_type": "code",
   "execution_count": 12,
   "metadata": {},
   "outputs": [],
   "source": [
    "def get_min_count(x):\n",
    "    #print('f(' + str(x) + ')', end=' ')\n",
    "    print(x, end=' ')\n",
    "    if d[x] != 0: return d[x]\n",
    "    else:\n",
    "        if x % 2 == 0: d[x] = min(get_min_count(x-1), get_min_count(x//2)) + 1\n",
    "        elif x % 3 == 0: d[x] = min(get_min_count(x-1), get_min_count(x//3)) + 1\n",
    "        elif x % 5 == 0: d[x] = min(get_min_count(x-1), get_min_count(x//5)) + 1\n",
    "        elif x >= 3 and not((x % 5 ==0) or (x % 3 == 0) or (x % 2 == 0)): d[x] = get_min_count(x-1) + 1\n",
    "    return d[x]"
   ]
  },
  {
   "cell_type": "code",
   "execution_count": 13,
   "metadata": {},
   "outputs": [
    {
     "name": "stdout",
     "output_type": "stream",
     "text": [
      "26 25 24 23 22 21 20 19 18 17 16 15 14 13 12 11 10 9 8 7 6 5 4 3 2 1 2 1 3 4 3 5 6 7 5 8 9 10 7 11 12 5 13 "
     ]
    },
    {
     "data": {
      "text/plain": [
       "3"
      ]
     },
     "execution_count": 13,
     "metadata": {},
     "output_type": "execute_result"
    }
   ],
   "source": [
    "get_min_count(x)"
   ]
  },
  {
   "cell_type": "code",
   "execution_count": 4,
   "metadata": {},
   "outputs": [],
   "source": [
    "def get_min_count(x):\n",
    "    #print('f(' + str(x) + ')', end=' ')    \n",
    "    if x % 2 == 0: d[x] = min(get_min_count(x-1), get_min_count(x//2)) + 1\n",
    "    elif x % 3 == 0: d[x] = min(get_min_count(x-1), get_min_count(x//3)) + 1\n",
    "    elif x % 5 == 0: d[x] = min(get_min_count(x-1), get_min_count(x//5)) + 1\n",
    "    elif x >= 3 and not((x % 5 ==0) or (x % 3 == 0) or (x % 2 == 0)): d[x] = get_min_count(x-1) + 1\n",
    "    return d[x]"
   ]
  },
  {
   "cell_type": "code",
   "execution_count": 7,
   "metadata": {},
   "outputs": [],
   "source": [
    "print(get_min_count(x))"
   ]
  },
  {
   "cell_type": "code",
   "execution_count": 15,
   "metadata": {},
   "outputs": [
    {
     "name": "stdout",
     "output_type": "stream",
     "text": [
      "[0, 0, 1, 1, 2, 1, 2, 0, 1, 0, 0, 0, 1, 0, 0, 0, 0, 0, 0, 0, 0, 0, 0, 0, 1, 2, 1]\n"
     ]
    }
   ],
   "source": [
    "print(d[:27])"
   ]
  },
  {
   "cell_type": "code",
   "execution_count": 24,
   "metadata": {},
   "outputs": [],
   "source": [
    "def get_min_count(x):\n",
    "    if d[x] != 0:\n",
    "        return d[x] \n",
    "    else:\n",
    "        d[x] = d[x-1] + 1          \n",
    "        if x % 2 == 0:\n",
    "            d[x] = min(get_min_count(x-1),  get_min_count(x//2) + 1)\n",
    "        if x % 3 == 0:\n",
    "            d[x] = min(get_min_count(x-1),  get_min_count(x//3) + 1)\n",
    "        if x % 5 == 0:\n",
    "            d[x] = min(get_min_count(x-1),  get_min_count(x//5) + 1)\n",
    "    return d[x]"
   ]
  },
  {
   "cell_type": "code",
   "execution_count": 32,
   "metadata": {},
   "outputs": [],
   "source": [
    "def get_min_count(x):\n",
    "    d[x] = d[x-1] + 1          \n",
    "    if x % 2 == 0:\n",
    "        d[x] = min(get_min_count(x-1),  get_min_count(x//2) + 1)\n",
    "    if x % 3 == 0:\n",
    "        d[x] = min(get_min_count(x-1),  get_min_count(x//3) + 1)\n",
    "    if x % 5 == 0:\n",
    "        d[x] = min(get_min_count(x-1),  get_min_count(x//5) + 1)\n",
    "    return d[x]"
   ]
  },
  {
   "cell_type": "code",
   "execution_count": 37,
   "metadata": {},
   "outputs": [],
   "source": [
    "def get_min_count(x):\n",
    "    d[x] = get_min_count(x-1) + 1          \n",
    "    if x % 2 == 0:\n",
    "        d[x] = min(d[x],  get_min_count(x//2) + 1)\n",
    "    if x % 3 == 0:\n",
    "        d[x] = min(d[x],  get_min_count(x//3) + 1)\n",
    "    if x % 5 == 0:\n",
    "        d[x] = min(d[x],  get_min_count(x//5) + 1)\n",
    "    return d[x]"
   ]
  },
  {
   "cell_type": "code",
   "execution_count": 38,
   "metadata": {},
   "outputs": [
    {
     "ename": "",
     "evalue": "",
     "output_type": "error",
     "traceback": [
      "\u001b[1;31mThe Kernel crashed while executing code in the the current cell or a previous cell. Please review the code in the cell(s) to identify a possible cause of the failure. Click <a href='https://aka.ms/vscodeJupyterKernelCrash'>here</a> for more info. View Jupyter <a href='command:jupyter.viewOutput'>log</a> for further details."
     ]
    }
   ],
   "source": [
    "x, get_min_count(x)"
   ]
  },
  {
   "cell_type": "code",
   "execution_count": 29,
   "metadata": {},
   "outputs": [
    {
     "data": {
      "text/plain": [
       "[0, 1, 1, 1, 1, 1, 1, 2, 2, 0]"
      ]
     },
     "execution_count": 29,
     "metadata": {},
     "output_type": "execute_result"
    }
   ],
   "source": [
    "d[:10]"
   ]
  },
  {
   "cell_type": "code",
   "execution_count": 31,
   "metadata": {},
   "outputs": [
    {
     "name": "stdout",
     "output_type": "stream",
     "text": [
      "[0, 1, 1, 1, 1, 1, 1, 2, 2, 0, 0, 1, 1, 2, 0, 0, 0, 0, 0, 0, 0, 0, 0, 1, 1, 1, 1]\n"
     ]
    }
   ],
   "source": [
    "print(d[:27])"
   ]
  }
 ],
 "metadata": {
  "kernelspec": {
   "display_name": "base",
   "language": "python",
   "name": "python3"
  },
  "language_info": {
   "codemirror_mode": {
    "name": "ipython",
    "version": 3
   },
   "file_extension": ".py",
   "mimetype": "text/x-python",
   "name": "python",
   "nbconvert_exporter": "python",
   "pygments_lexer": "ipython3",
   "version": "3.9.12"
  }
 },
 "nbformat": 4,
 "nbformat_minor": 2
}
