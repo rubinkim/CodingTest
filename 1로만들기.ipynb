{
 "cells": [
  {
   "cell_type": "code",
   "execution_count": 1,
   "metadata": {},
   "outputs": [],
   "source": [
    "# Bottom up\n",
    "x = int(input())\n",
    "d = [0] * 30001          # 0 <= x <= 30000"
   ]
  },
  {
   "cell_type": "code",
   "execution_count": null,
   "metadata": {},
   "outputs": [],
   "source": [
    "# a[i] : i를 1로 만들기 위한 연산의 최소횟수\n",
    "# 점화식 : a[i] = min(a[i-1], a[i/2], a[i/3], a[i/5]) + 1, 단 1을 빼는 연산을 제외하고는 해당하는 수로 나누어서 떨어질 때만 해당 점화식을 사용할 수가 있다.\n",
    "\n"
   ]
  }
 ],
 "metadata": {
  "kernelspec": {
   "display_name": "base",
   "language": "python",
   "name": "python3"
  },
  "language_info": {
   "codemirror_mode": {
    "name": "ipython",
    "version": 3
   },
   "file_extension": ".py",
   "mimetype": "text/x-python",
   "name": "python",
   "nbconvert_exporter": "python",
   "pygments_lexer": "ipython3",
   "version": "3.9.12"
  }
 },
 "nbformat": 4,
 "nbformat_minor": 2
}
