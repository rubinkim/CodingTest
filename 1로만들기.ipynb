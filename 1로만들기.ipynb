{
 "cells": [
  {
   "cell_type": "code",
   "execution_count": 4,
   "metadata": {},
   "outputs": [
    {
     "name": "stdout",
     "output_type": "stream",
     "text": [
      "x : 29997\n"
     ]
    }
   ],
   "source": [
    "# Bottom up\n",
    "x = int(input())\n",
    "d = [0] * 30001          # 0 <= x <= 30000\n",
    "print(f\"x : {x}\")"
   ]
  },
  {
   "cell_type": "code",
   "execution_count": 5,
   "metadata": {},
   "outputs": [
    {
     "name": "stdout",
     "output_type": "stream",
     "text": [
      "12\n"
     ]
    }
   ],
   "source": [
    "# a[i] : i를 1로 만들기 위한 연산의 최소횟수\n",
    "# 점화식 : a[i] = min(a[i-1], a[i/2], a[i/3], a[i/5]) + 1, 단 1을 빼는 연산을 제외하고는 해당하는 수로 나누어서 떨어질 때만 해당 점화식을 사용할 수가 있다.\n",
    "\n",
    "for i in range(2, x+1):\n",
    "    d[i] = d[i-1] + 1\n",
    "    if i % 2 == 0: d[i] = min(d[i],  d[i//2] + 1)\n",
    "    if i % 3 == 0: d[i] = min(d[i],  d[i//3] + 1)\n",
    "    if i % 5 == 0: d[i] = min(d[i],  d[i//5] + 1)\n",
    "    \n",
    "print(d[x])"
   ]
  },
  {
   "cell_type": "code",
   "execution_count": 1,
   "metadata": {},
   "outputs": [
    {
     "name": "stdout",
     "output_type": "stream",
     "text": [
      "x : 26\n"
     ]
    }
   ],
   "source": [
    "# Top down\n",
    "x = int(input())  \n",
    "d = [0] * 30001\n",
    "print(f\"x : {x}\")"
   ]
  },
  {
   "cell_type": "code",
   "execution_count": 2,
   "metadata": {},
   "outputs": [],
   "source": [
    "def get_min_count(x):    \n",
    "    d[x] = get_min_count(x-1) + 1    \n",
    "    if d[x] == 0 and x % 2 == 0:\n",
    "        d[x] = min(d[x],  get_min_count(x//2) + 1)\n",
    "    if d[x] == 0 and x % 3 == 0:\n",
    "        d[x] = min(d[x],  get_min_count(x//3) + 1)\n",
    "    if d[x] == 0 and x % 5 == 0:\n",
    "        d[x] = min(d[x],  get_min_count(x//5) + 1)\n",
    "    return d[x]"
   ]
  },
  {
   "cell_type": "code",
   "execution_count": 2,
   "metadata": {},
   "outputs": [],
   "source": [
    "def get_min_count(x):    \n",
    "    d[x] = get_min_count(x-1) + 1    \n",
    "    if x % 2 == 0:\n",
    "        d[x] = min(d[x],  get_min_count(x//2) + 1)\n",
    "    if x % 3 == 0:\n",
    "        d[x] = min(d[x],  get_min_count(x//3) + 1)\n",
    "    if x % 5 == 0:\n",
    "        d[x] = min(d[x],  get_min_count(x//5) + 1)\n",
    "    return d[x]"
   ]
  },
  {
   "cell_type": "code",
   "execution_count": 3,
   "metadata": {},
   "outputs": [
    {
     "ename": "",
     "evalue": "",
     "output_type": "error",
     "traceback": [
      "\u001b[1;31mThe Kernel crashed while executing code in the the current cell or a previous cell. Please review the code in the cell(s) to identify a possible cause of the failure. Click <a href='https://aka.ms/vscodeJupyterKernelCrash'>here</a> for more info. View Jupyter <a href='command:jupyter.viewOutput'>log</a> for further details."
     ]
    }
   ],
   "source": [
    "get_min_count(x)"
   ]
  },
  {
   "cell_type": "code",
   "execution_count": null,
   "metadata": {},
   "outputs": [],
   "source": []
  }
 ],
 "metadata": {
  "kernelspec": {
   "display_name": "base",
   "language": "python",
   "name": "python3"
  },
  "language_info": {
   "codemirror_mode": {
    "name": "ipython",
    "version": 3
   },
   "file_extension": ".py",
   "mimetype": "text/x-python",
   "name": "python",
   "nbconvert_exporter": "python",
   "pygments_lexer": "ipython3",
   "version": "3.9.12"
  }
 },
 "nbformat": 4,
 "nbformat_minor": 2
}
