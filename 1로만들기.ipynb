{
 "cells": [
  {
   "cell_type": "code",
   "execution_count": 3,
   "metadata": {},
   "outputs": [],
   "source": [
    "# Bottom up\n",
    "x = int(input())\n",
    "d = [0] * 30001          # 0 <= x <= 30000"
   ]
  },
  {
   "cell_type": "code",
   "execution_count": 2,
   "metadata": {},
   "outputs": [
    {
     "name": "stdout",
     "output_type": "stream",
     "text": [
      "3\n"
     ]
    }
   ],
   "source": [
    "# a[i] : i를 1로 만들기 위한 연산의 최소횟수\n",
    "# 점화식 : a[i] = min(a[i-1], a[i/2], a[i/3], a[i/5]) + 1, 단 1을 빼는 연산을 제외하고는 해당하는 수로 나누어서 떨어질 때만 해당 점화식을 사용할 수가 있다.\n",
    "\n",
    "for i in range(2, x+1):\n",
    "    d[i] = d[i-1] + 1\n",
    "    if i % 2 == 0: d[i] = min(d[i],  d[i//2] + 1)\n",
    "    if i % 3 == 0: d[i] = min(d[i],  d[i//3] + 1)\n",
    "    if i % 5 == 0: d[i] = min(d[i],  d[i//5] + 1)\n",
    "    \n",
    "print(d[x])"
   ]
  }
 ],
 "metadata": {
  "kernelspec": {
   "display_name": "base",
   "language": "python",
   "name": "python3"
  },
  "language_info": {
   "codemirror_mode": {
    "name": "ipython",
    "version": 3
   },
   "file_extension": ".py",
   "mimetype": "text/x-python",
   "name": "python",
   "nbconvert_exporter": "python",
   "pygments_lexer": "ipython3",
   "version": "3.9.12"
  }
 },
 "nbformat": 4,
 "nbformat_minor": 2
}
