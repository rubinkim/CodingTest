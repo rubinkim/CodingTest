{
 "cells": [
  {
   "cell_type": "code",
   "execution_count": null,
   "metadata": {},
   "outputs": [],
   "source": [
    "# 얼음얼릴 수 있는 칸은 0으로, 그렇지 않은 칸은 1로서 표시된 n * m크기의 얼음틀이 있는데 얼음얼릴 수 있는 칸들로 연결되어 있는 연결요소(connected component)가 얼음틀안에 몇개가 있는지 구하는\n",
    "# 프로그램을 작성하는 문제이다. \n",
    "# 0인 칸이 서로 붙어서 연결되어 있는지를 코딩하는것과 1인 칸으로는 이동하지 못하게 하고 또 0인 칸으로 이동한 경우에는 그칸의 값을 1로 변경해서 또 다시 방문할 수 없도록 방문처리해야 한다\n",
    "# 어떤 임의의 칸에서 이동할 수 있는 경우는 상하좌우이므로 우리는 이런 칸들간의 연결을 graph로 modeling할 수 있다고 아이디어를 생각해내야 하고 graph탐색 알고리즘인 DFS, BFS를 이용해야 한다.\n",
    "# 만약 DFS를 이용한다면 다음의 아이디어를 구체화시킨 알고리즘을 만들어 내야 한다."
   ]
  }
 ],
 "metadata": {
  "kernelspec": {
   "display_name": "base",
   "language": "python",
   "name": "python3"
  },
  "language_info": {
   "name": "python",
   "version": "3.9.12"
  }
 },
 "nbformat": 4,
 "nbformat_minor": 2
}
