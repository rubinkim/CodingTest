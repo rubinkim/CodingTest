{
 "cells": [
  {
   "cell_type": "code",
   "execution_count": null,
   "metadata": {},
   "outputs": [],
   "source": [
    "# 얼음얼릴 수 있는 칸은 0으로, 그렇지 않은 칸은 1로서 표시된 n * m크기의 얼음틀이 있는데 얼음얼릴 수 있는 칸들로 연결되어 있는 연결요소(connected component)가 얼음틀안에 몇개가 있는지 구하는\n",
    "# 프로그램을 작성하는 문제이다. \n",
    "# 0인 칸이 서로 붙어서 연결되어 있는지를 코딩하는것과 1인 칸으로는 이동하지 못하게 하고 또 0인 칸으로 이동한 경우에는 그칸의 값을 1로 변경해서 또 다시 방문할 수 없도록 방문처리해야 한다\n",
    "# 어떤 임의의 칸에서 이동할 수 있는 경우는 상하좌우이므로 우리는 이런 칸들간의 연결을 graph로 modeling할 수 있다는 아이디어를 생각해내야 하고 graph탐색 알고리즘인 DFS, BFS를 이용해야 한다.\n",
    "# 만약 DFS를 이용한다면 다음의 아이디어를 구체화시킨 알고리즘을 만들어 내야 한다.\n",
    "# 1.특정한 칸주변의 상하좌우를 살펴보고 그중에서 값이 0이면서 아직 방문하지 않은 칸이 있다면 그 칸으로 이동한다.\n",
    "# 2.방문한 칸에서 다시 주변의 상하좌우를 살펴보고 방문을 진행하는 과정을 반복하면 서로 연결된 모든 칸들을 알아낼 수 있다.\n",
    "# 3.모든 칸에 대해서 1,2번의 과정을 반복하며 연결요소의 갯수를 계산한다."
   ]
  },
  {
   "cell_type": "code",
   "execution_count": 5,
   "metadata": {},
   "outputs": [
    {
     "name": "stdout",
     "output_type": "stream",
     "text": [
      "n : 4,  m : 5\n",
      "\n",
      "[0, 0, 1, 1, 0]\n",
      "[0, 0, 0, 1, 1]\n",
      "[1, 1, 1, 1, 1]\n",
      "[0, 0, 0, 0, 0]\n"
     ]
    }
   ],
   "source": [
    "n, m = map(int, input().split())\n",
    "graph = []\n",
    "print(f\"n : {n},  m : {m}\")\n",
    "print()\n",
    "\n",
    "for _ in range(n):\n",
    "    data = list(map(int, input()))\n",
    "    graph.append(data)\n",
    "    \n",
    "for row in graph:\n",
    "    print(row)"
   ]
  },
  {
   "cell_type": "code",
   "execution_count": null,
   "metadata": {},
   "outputs": [],
   "source": []
  }
 ],
 "metadata": {
  "kernelspec": {
   "display_name": "base",
   "language": "python",
   "name": "python3"
  },
  "language_info": {
   "codemirror_mode": {
    "name": "ipython",
    "version": 3
   },
   "file_extension": ".py",
   "mimetype": "text/x-python",
   "name": "python",
   "nbconvert_exporter": "python",
   "pygments_lexer": "ipython3",
   "version": "3.9.12"
  }
 },
 "nbformat": 4,
 "nbformat_minor": 2
}
