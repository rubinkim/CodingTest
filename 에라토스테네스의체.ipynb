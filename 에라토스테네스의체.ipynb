{
 "cells": [
  {
   "cell_type": "code",
   "execution_count": 2,
   "metadata": {},
   "outputs": [
    {
     "name": "stdout",
     "output_type": "stream",
     "text": [
      "n : 100\n"
     ]
    }
   ],
   "source": [
    "n = int(input())\n",
    "print(f\"n : {n}\")\n",
    "\n",
    "array = [True for _ in range(n+1)]"
   ]
  },
  {
   "cell_type": "code",
   "execution_count": 4,
   "metadata": {},
   "outputs": [
    {
     "name": "stdout",
     "output_type": "stream",
     "text": [
      "[2, 3, 5, 7, 11, 13, 17, 19, 23, 29, 31, 37, 41, 43, 47, 53, 59, 61, 67, 71, 73, 79, 83, 89, 97]\n"
     ]
    }
   ],
   "source": [
    "import math\n",
    "\n",
    "for i in range(2, int(math.sqrt(n))+1):\n",
    "    if array[i] == True:\n",
    "        j = 2\n",
    "        while i * j <= n:\n",
    "            array[i*j] = False\n",
    "            j += 1\n",
    "\n",
    "prime_nums = []           \n",
    "for i in range(2, n+1):   \n",
    "    if array[i]:\n",
    "        prime_nums.append(i)\n",
    "print(prime_nums)"
   ]
  },
  {
   "cell_type": "code",
   "execution_count": 11,
   "metadata": {},
   "outputs": [],
   "source": [
    "import math\n",
    "\n",
    "def find_prime_nums(x):\n",
    "    result = []\n",
    "    array = [True for _ in range(x+1)]\n",
    "    for i in range(2, int(math.sqrt(x))+1):\n",
    "        if array[i] == True:\n",
    "            j = 2\n",
    "            while i * j <= x:\n",
    "                array[i*j] = False\n",
    "                j += 1\n",
    "    for i in range(2, x+1):\n",
    "        if array[i]:\n",
    "            result.append(i)\n",
    "    return result    "
   ]
  },
  {
   "cell_type": "code",
   "execution_count": 12,
   "metadata": {},
   "outputs": [
    {
     "name": "stdout",
     "output_type": "stream",
     "text": [
      "[2, 3, 5, 7, 11, 13, 17, 19, 23, 29, 31, 37, 41, 43, 47, 53, 59, 61, 67, 71, 73, 79, 83, 89, 97]\n"
     ]
    }
   ],
   "source": [
    "find_prime_nums(100)"
   ]
  }
 ],
 "metadata": {
  "kernelspec": {
   "display_name": "base",
   "language": "python",
   "name": "python3"
  },
  "language_info": {
   "codemirror_mode": {
    "name": "ipython",
    "version": 3
   },
   "file_extension": ".py",
   "mimetype": "text/x-python",
   "name": "python",
   "nbconvert_exporter": "python",
   "pygments_lexer": "ipython3",
   "version": "3.9.12"
  }
 },
 "nbformat": 4,
 "nbformat_minor": 2
}
