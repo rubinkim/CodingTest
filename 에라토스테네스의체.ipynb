{
 "cells": [
  {
   "cell_type": "code",
   "execution_count": 2,
   "metadata": {},
   "outputs": [
    {
     "name": "stdout",
     "output_type": "stream",
     "text": [
      "n : 100\n"
     ]
    }
   ],
   "source": [
    "n = int(input())\n",
    "print(f\"n : {n}\")\n",
    "\n",
    "array = [True for _ in range(n+1)]"
   ]
  },
  {
   "cell_type": "code",
   "execution_count": 4,
   "metadata": {},
   "outputs": [
    {
     "name": "stdout",
     "output_type": "stream",
     "text": [
      "[2, 3, 5, 7, 11, 13, 17, 19, 23, 29, 31, 37, 41, 43, 47, 53, 59, 61, 67, 71, 73, 79, 83, 89, 97]\n"
     ]
    }
   ],
   "source": [
    "import math\n",
    "\n",
    "for i in range(2, int(math.sqrt(n))+1):\n",
    "    if array[i] == True:\n",
    "        j = 2\n",
    "        while i * j <= n:\n",
    "            array[i*j] = False\n",
    "            j += 1\n",
    "\n",
    "prime_nums = []           \n",
    "for i in range(2, n+1):   \n",
    "    if array[i]:\n",
    "        prime_nums.append(i)\n",
    "print(prime_nums)"
   ]
  },
  {
   "cell_type": "code",
   "execution_count": 7,
   "metadata": {},
   "outputs": [],
   "source": [
    "import math\n",
    "\n",
    "def find_prime_nums(x):\n",
    "    result = []\n",
    "    array = [True for _ in range(x+1)]\n",
    "    for i in range(2, int(math.sqrt(x))+1):\n",
    "        if array[i] == True:\n",
    "            j = 2\n",
    "            while i * j <= x:\n",
    "                array[i*j] = True\n",
    "                j += 1\n",
    "    for i in range(2, x+1):\n",
    "        if array[i]:\n",
    "            result.append(i)\n",
    "    return result            "
   ]
  },
  {
   "cell_type": "code",
   "execution_count": 6,
   "metadata": {},
   "outputs": [
    {
     "ename": "IndexError",
     "evalue": "list index out of range",
     "output_type": "error",
     "traceback": [
      "\u001b[1;31m---------------------------------------------------------------------------\u001b[0m",
      "\u001b[1;31mIndexError\u001b[0m                                Traceback (most recent call last)",
      "Input \u001b[1;32mIn [6]\u001b[0m, in \u001b[0;36m<cell line: 1>\u001b[1;34m()\u001b[0m\n\u001b[1;32m----> 1\u001b[0m \u001b[43mfind_prime_nums\u001b[49m\u001b[43m(\u001b[49m\u001b[38;5;241;43m100\u001b[39;49m\u001b[43m)\u001b[49m\n",
      "Input \u001b[1;32mIn [5]\u001b[0m, in \u001b[0;36mfind_prime_nums\u001b[1;34m(x)\u001b[0m\n\u001b[0;32m      5\u001b[0m array \u001b[38;5;241m=\u001b[39m [\u001b[38;5;28;01mTrue\u001b[39;00m \u001b[38;5;241m*\u001b[39m (x\u001b[38;5;241m+\u001b[39m\u001b[38;5;241m1\u001b[39m)]\n\u001b[0;32m      6\u001b[0m \u001b[38;5;28;01mfor\u001b[39;00m i \u001b[38;5;129;01min\u001b[39;00m \u001b[38;5;28mrange\u001b[39m(\u001b[38;5;241m2\u001b[39m, \u001b[38;5;28mint\u001b[39m(math\u001b[38;5;241m.\u001b[39msqrt(x))\u001b[38;5;241m+\u001b[39m\u001b[38;5;241m1\u001b[39m):\n\u001b[1;32m----> 7\u001b[0m     \u001b[38;5;28;01mif\u001b[39;00m \u001b[43marray\u001b[49m\u001b[43m[\u001b[49m\u001b[43mi\u001b[49m\u001b[43m]\u001b[49m \u001b[38;5;241m==\u001b[39m \u001b[38;5;28;01mTrue\u001b[39;00m:\n\u001b[0;32m      8\u001b[0m         j \u001b[38;5;241m=\u001b[39m \u001b[38;5;241m2\u001b[39m\n\u001b[0;32m      9\u001b[0m         \u001b[38;5;28;01mwhile\u001b[39;00m i \u001b[38;5;241m*\u001b[39m j \u001b[38;5;241m<\u001b[39m\u001b[38;5;241m=\u001b[39m x:\n",
      "\u001b[1;31mIndexError\u001b[0m: list index out of range"
     ]
    }
   ],
   "source": [
    "find_prime_nums(100)"
   ]
  }
 ],
 "metadata": {
  "kernelspec": {
   "display_name": "base",
   "language": "python",
   "name": "python3"
  },
  "language_info": {
   "codemirror_mode": {
    "name": "ipython",
    "version": 3
   },
   "file_extension": ".py",
   "mimetype": "text/x-python",
   "name": "python",
   "nbconvert_exporter": "python",
   "pygments_lexer": "ipython3",
   "version": "3.9.12"
  }
 },
 "nbformat": 4,
 "nbformat_minor": 2
}
