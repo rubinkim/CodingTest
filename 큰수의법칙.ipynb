{
 "cells": [
  {
   "cell_type": "code",
   "execution_count": null,
   "metadata": {},
   "outputs": [],
   "source": [
    "#큰 수의 법칙이란 배열의 크기 N, 숫자가 더해지는 횟수 M, 연속으로 더할 수 있는 횟수 K가 주어질 때, 가장 큰 수를 만드는 법칙이다.\n",
    "#이 문제를 해결하려면 일단 배열에서 가장 큰 수와 두 번째로 큰 수를 선택해서 저장한 다음 가장 큰 수는 K번 더하고 두 번째로 큰 수는 한 번 더하는 연산을 반복하면 된다."
   ]
  }
 ],
 "metadata": {
  "kernelspec": {
   "display_name": "base",
   "language": "python",
   "name": "python3"
  },
  "language_info": {
   "name": "python",
   "version": "3.9.12"
  }
 },
 "nbformat": 4,
 "nbformat_minor": 2
}
