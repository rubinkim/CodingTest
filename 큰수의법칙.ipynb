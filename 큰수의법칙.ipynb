{
 "cells": [
  {
   "cell_type": "code",
   "execution_count": null,
   "metadata": {},
   "outputs": [],
   "source": [
    "# 큰 수의 법칙이란 배열의 크기 N, 숫자가 더해지는 횟수 M, 연속으로 더할 수 있는 횟수 K가 주어질 때, 가장 큰 수를 만드는 법칙이다.\n",
    "# 이 문제를 해결하려면 일단 배열에서 가장 큰 수와 두 번째로 큰 수를 선택해서 저장한 다음 가장 큰 수는 K번 더하고 두 번째로 큰 수는 한 번 더하는 연산을 반복하면 된다."
   ]
  },
  {
   "cell_type": "code",
   "execution_count": 1,
   "metadata": {},
   "outputs": [],
   "source": [
    "# 단순하게 푸는 답안\n",
    "n, m, k = map(int, input().split())     # n : 배열의 크기,  m : 숫자를 더하는 횟수,  k : 연속으로 더할 수 있는 횟수   # 5 8 3\n",
    "\n",
    "# n개의 수를 공백으로 구분해서 입력받기\n",
    "data = list(map(int, input().split()))   # 6 4 5 4 2"
   ]
  },
  {
   "cell_type": "code",
   "execution_count": 2,
   "metadata": {},
   "outputs": [
    {
     "name": "stdout",
     "output_type": "stream",
     "text": [
      "n : 5,  m : 8,  k : 3\n",
      "data : [6, 4, 5, 4, 2]\n"
     ]
    }
   ],
   "source": [
    "print(f\"n : {n},  m : {m},  k : {k}\")\n",
    "print(f\"data : {data}\")"
   ]
  },
  {
   "cell_type": "code",
   "execution_count": null,
   "metadata": {},
   "outputs": [],
   "source": []
  }
 ],
 "metadata": {
  "kernelspec": {
   "display_name": "base",
   "language": "python",
   "name": "python3"
  },
  "language_info": {
   "codemirror_mode": {
    "name": "ipython",
    "version": 3
   },
   "file_extension": ".py",
   "mimetype": "text/x-python",
   "name": "python",
   "nbconvert_exporter": "python",
   "pygments_lexer": "ipython3",
   "version": "3.9.12"
  }
 },
 "nbformat": 4,
 "nbformat_minor": 2
}
