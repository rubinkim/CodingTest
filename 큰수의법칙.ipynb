{
 "cells": [
  {
   "cell_type": "code",
   "execution_count": null,
   "metadata": {},
   "outputs": [],
   "source": [
    "# 큰 수의 법칙이란 배열의 크기 N, 숫자가 더해지는 횟수 M, 연속으로 더할 수 있는 횟수 K가 주어질 때, 가장 큰 수를 만드는 법칙이다.\n",
    "# 이 문제를 해결하려면 일단 배열에서 가장 큰 수와 두 번째로 큰 수를 선택해서 저장한 다음 가장 큰 수는 K번 더하고 두 번째로 큰 수는 한 번 더하는 연산을 반복하면 된다."
   ]
  },
  {
   "cell_type": "code",
   "execution_count": 1,
   "metadata": {},
   "outputs": [],
   "source": [
    "# 단순하게 푸는 답안\n",
    "n, m, k = map(int, input().split())     # n : 배열의 크기,  m : 숫자를 더하는 횟수,  k : 연속으로 더할 수 있는 횟수   # 5 8 3\n",
    "\n",
    "# n개의 수를 공백으로 구분해서 입력받기\n",
    "data = list(map(int, input().split()))   # 6 4 5 4 2"
   ]
  },
  {
   "cell_type": "code",
   "execution_count": 2,
   "metadata": {},
   "outputs": [
    {
     "name": "stdout",
     "output_type": "stream",
     "text": [
      "n : 5,  m : 8,  k : 3\n",
      "data : [6, 4, 5, 4, 2]\n"
     ]
    }
   ],
   "source": [
    "print(f\"n : {n},  m : {m},  k : {k}\")\n",
    "print(f\"data : {data}\")"
   ]
  },
  {
   "cell_type": "code",
   "execution_count": 3,
   "metadata": {},
   "outputs": [
    {
     "name": "stdout",
     "output_type": "stream",
     "text": [
      "[2, 4, 4, 5, 6]\n"
     ]
    }
   ],
   "source": [
    "data.sort()\n",
    "print(data)"
   ]
  },
  {
   "cell_type": "code",
   "execution_count": 4,
   "metadata": {},
   "outputs": [
    {
     "name": "stdout",
     "output_type": "stream",
     "text": [
      "first : 6,  second : 5\n"
     ]
    }
   ],
   "source": [
    "first = data[n-1]\n",
    "second = data[n-2]\n",
    "print(f\"first : {first},  second : {second}\")"
   ]
  },
  {
   "cell_type": "code",
   "execution_count": 5,
   "metadata": {},
   "outputs": [
    {
     "name": "stdout",
     "output_type": "stream",
     "text": [
      "46\n"
     ]
    }
   ],
   "source": [
    "result = 0\n",
    "while True:\n",
    "    for _ in range(k):\n",
    "        if m == 0: break\n",
    "        result += first\n",
    "        m -= 1\n",
    "    if m == 0: break\n",
    "    result += second\n",
    "    m -= 1\n",
    "    \n",
    "print(result)                    "
   ]
  },
  {
   "cell_type": "code",
   "execution_count": null,
   "metadata": {},
   "outputs": [],
   "source": [
    "# 만약 더하기 연산횟수 m이 10000보다 큰 수 예를 들면 100억개라면, 위의 단순한 방법으로는 시간초과 판정을 받을 것이다. 간단한 수학적 아아디어를 이용해서 더 효율적으로 문제를 해결해보자.\n",
    "# 이런 식으로 문제를 풀기 위해 가장 먼저 떠올려야 할 아이디어는 반복되는 수열에 대해서 파악해야 한다. 가장 큰 수와 두번째로 큰 수가 더해질 때는 특정한 수열 형태로 일정하게 반복해서 더해지는 \n",
    "# 특징이 있다. 그 것을 수식으로 풀어볼 때 가장 큰 수가 더해지는 횟수는  m // (k+1) * k + m % (k+1)"
   ]
  },
  {
   "cell_type": "code",
   "execution_count": 9,
   "metadata": {},
   "outputs": [
    {
     "data": {
      "text/plain": [
       "6"
      ]
     },
     "execution_count": 9,
     "metadata": {},
     "output_type": "execute_result"
    }
   ],
   "source": [
    "m // (k+1) * k + m % (k+1)"
   ]
  },
  {
   "cell_type": "code",
   "execution_count": 8,
   "metadata": {},
   "outputs": [],
   "source": [
    "# 수열 형태로 반복해서 더해지는 패턴을 이용하는 방법\n",
    "n, m, k = map(int, input().split())     # n : 배열의 크기,  m : 숫자를 더하는 횟수,  k : 연속으로 더할 수 있는 횟수   # 5 8 3\n",
    "\n",
    "# n개의 수를 공백으로 구분해서 입력받기\n",
    "data = list(map(int, input().split()))   # 6 4 5 4 2"
   ]
  },
  {
   "cell_type": "code",
   "execution_count": 11,
   "metadata": {},
   "outputs": [],
   "source": [
    "data.sort()"
   ]
  },
  {
   "cell_type": "code",
   "execution_count": 13,
   "metadata": {},
   "outputs": [
    {
     "name": "stdout",
     "output_type": "stream",
     "text": [
      "first_count : 6,  second_count : 2\n",
      "result : 46\n"
     ]
    }
   ],
   "source": [
    "first = data[n-1]\n",
    "second = data[n-2]\n",
    "\n",
    "# 가장 큰 수가 더해지는 횟수 계산\n",
    "first_count = m // (k+1) * k + m % (k+1)\n",
    "# 두 번째로 큰 수가 더해지는 횟수 계산\n",
    "second_count = m - first_count\n",
    "\n",
    "print(f\"first_count : {first_count},  second_count : {second_count}\")\n",
    "\n",
    "result = first_count * first + second_count * second\n",
    "print(f\"result : {result}\")"
   ]
  }
 ],
 "metadata": {
  "kernelspec": {
   "display_name": "base",
   "language": "python",
   "name": "python3"
  },
  "language_info": {
   "codemirror_mode": {
    "name": "ipython",
    "version": 3
   },
   "file_extension": ".py",
   "mimetype": "text/x-python",
   "name": "python",
   "nbconvert_exporter": "python",
   "pygments_lexer": "ipython3",
   "version": "3.9.12"
  }
 },
 "nbformat": 4,
 "nbformat_minor": 2
}
