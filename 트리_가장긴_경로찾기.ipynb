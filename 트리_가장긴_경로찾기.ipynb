{
 "cells": [
  {
   "cell_type": "code",
   "execution_count": 38,
   "metadata": {},
   "outputs": [
    {
     "name": "stdout",
     "output_type": "stream",
     "text": [
      "노드수 : 14,  간선수 : 13\n",
      "[]\n",
      "[(4, 2), (2, 3), (3, 8)]\n",
      "[(6, 7), (5, 5)]\n",
      "[(7, 2)]\n",
      "[(8, 5), (9, 1)]\n",
      "[(10, 6)]\n",
      "[(11, 2)]\n",
      "[]\n",
      "[(12, 9)]\n",
      "[(13, 4), (14, 9)]\n",
      "[]\n",
      "[]\n",
      "[]\n",
      "[]\n",
      "[]\n"
     ]
    }
   ],
   "source": [
    "from collections import deque\n",
    "\n",
    "with open(\"data/longest_path_greedy_lecture.txt\", \"r\") as input:\n",
    "    v, e = map(int, input.readline().split())\n",
    "    print(f\"노드수 : {v},  간선수 : {e}\")    \n",
    "\n",
    "    graph = [[] for _ in range(v+1)]         # 시작노드부터 도착노드까지의 거리를 표시하는 그래프\n",
    "    for _ in range(e):\n",
    "        a, b, c = map(int, input.readline().split())\n",
    "        graph[a].append((b, c))              # a : 시작노드,  b : 도착노드,  c : 비용    \n",
    "        \n",
    "    for row in graph:\n",
    "        print(row)\n",
    "        \n",
    "result = {}    # 리프노드와 루트노드부터 리프노드까지의 최소비용을 쌍으로 묶는 딕셔너리"
   ]
  },
  {
   "cell_type": "code",
   "execution_count": 41,
   "metadata": {},
   "outputs": [],
   "source": [
    "def find_leaf_max_distance(array, start):\n",
    "    q = deque()\n",
    "    q.append((0, start))\n",
    "    result = {}\n",
    "    while q:\n",
    "        dist, now = q.popleft()\n",
    "        if not array[now]:        \n",
    "            result[now] = dist\n",
    "            continue\n",
    "\n",
    "        for n, d in array[now]:\n",
    "            new_dist = dist + d\n",
    "            q.append((new_dist, n))\n",
    "            \n",
    "    return result"
   ]
  },
  {
   "cell_type": "code",
   "execution_count": null,
   "metadata": {},
   "outputs": [],
   "source": [
    "def find_leaf_max_distance(array, start):\n",
    "    q = deque()\n",
    "    q.append((0, start))\n",
    "    result = {}\n",
    "    while q:\n",
    "        dist, now = q.popleft()\n",
    "        if not array[now]:        \n",
    "            result[now] = dist\n",
    "            continue\n",
    "\n",
    "        for n, d in array[now]:\n",
    "            dist += d\n",
    "            q.append((dist, n))\n",
    "            \n",
    "    return result"
   ]
  },
  {
   "cell_type": "code",
   "execution_count": 51,
   "metadata": {},
   "outputs": [
    {
     "name": "stdout",
     "output_type": "stream",
     "text": [
      "{7: 10, 12: 16, 13: 7, 14: 12, 11: 12, 10: 14}\n",
      "출발노드부터의 최소거리가 가장 긴 리프노드는 12이고 그 거리는 16이다.\n"
     ]
    }
   ],
   "source": [
    "print(find_leaf_max_distance(graph, 1))\n",
    "\n",
    "longest_distance_dict = find_leaf_max_distance(graph, 1)\n",
    "\n",
    "max_distance = 0\n",
    "\n",
    "for k, v in longest_distance_dict.items():    \n",
    "    max_distance = max(max_distance, v)\n",
    "\n",
    "    \n",
    "for k, v in longest_distance_dict.items():\n",
    "    if v == max_distance:\n",
    "        print(f\"출발노드부터의 최소거리가 가장 긴 리프노드는 {k}이고 그 거리는 {v}이다.\")"
   ]
  },
  {
   "cell_type": "code",
   "execution_count": null,
   "metadata": {},
   "outputs": [],
   "source": [
    "print(find_leaf_max_distance(graph, 1))\n",
    "\n",
    "longest_distance_dict = find_leaf_max_distance(graph, 1)\n",
    "\n",
    "max_distance = 0\n",
    "\n",
    "for k, v in longest_distance_dict.items():    \n",
    "    max_distance = max(max_distance, v)\n",
    "\n",
    "    \n",
    "for k, v in longest_distance_dict.items():\n",
    "    if v == max_distance:\n",
    "        print(f\"출발노드부터의 최소거리가 가장 긴 리프노드는 {k}이고 그 거리는 {v}이다.\")"
   ]
  }
 ],
 "metadata": {
  "kernelspec": {
   "display_name": "base",
   "language": "python",
   "name": "python3"
  },
  "language_info": {
   "codemirror_mode": {
    "name": "ipython",
    "version": 3
   },
   "file_extension": ".py",
   "mimetype": "text/x-python",
   "name": "python",
   "nbconvert_exporter": "python",
   "pygments_lexer": "ipython3",
   "version": "3.9.12"
  }
 },
 "nbformat": 4,
 "nbformat_minor": 2
}
