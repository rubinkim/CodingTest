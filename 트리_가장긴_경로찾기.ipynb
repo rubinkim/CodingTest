{
 "cells": [
  {
   "cell_type": "code",
   "execution_count": null,
   "metadata": {},
   "outputs": [],
   "source": [
    "with open(\"data/longest_path_greedy_lecture.txt\", \"r\") as input:\n",
    "    v, e = map(int, input.readline().split())\n",
    "    print(f\"노드수 : {v},  간선수 : {e}\")\n",
    "    \n",
    "    INF = 1e9\n",
    "    distance = [INF] * (v+1)                 # 출발노드부터 각각의 리프노드까지의 거리를 표시하는 테이블\n",
    "    graph = [[] for _ in range(v+1)]         # 시작노드부터 도착노드까지의 거리를 표시하는 그래프\n",
    "    for _ in range(e):\n",
    "        a, b, c = map(int, input.readline().split())\n",
    "        graph[a].append((b, c))              # a : 시작노드,  b : 도착노드,  c : 비용    "
   ]
  },
  {
   "cell_type": "code",
   "execution_count": null,
   "metadata": {},
   "outputs": [],
   "source": []
  }
 ],
 "metadata": {
  "kernelspec": {
   "display_name": "base",
   "language": "python",
   "name": "python3"
  },
  "language_info": {
   "name": "python",
   "version": "3.9.12"
  }
 },
 "nbformat": 4,
 "nbformat_minor": 2
}
