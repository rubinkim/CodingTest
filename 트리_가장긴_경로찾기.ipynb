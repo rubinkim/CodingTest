{
 "cells": [
  {
   "cell_type": "code",
   "execution_count": 22,
   "metadata": {},
   "outputs": [
    {
     "name": "stdout",
     "output_type": "stream",
     "text": [
      "노드수 : 14,  간선수 : 13\n",
      "[]\n",
      "[(4, 2), (2, 3), (3, 8)]\n",
      "[(6, 7), (5, 5)]\n",
      "[(7, 2)]\n",
      "[(8, 5), (9, 1)]\n",
      "[(10, 6)]\n",
      "[(11, 2)]\n",
      "[]\n",
      "[(12, 9)]\n",
      "[(13, 4), (14, 9)]\n",
      "[]\n",
      "[]\n",
      "[]\n",
      "[]\n",
      "[]\n"
     ]
    }
   ],
   "source": [
    "from collections import deque\n",
    "\n",
    "with open(\"data/longest_path_greedy_lecture.txt\", \"r\") as input:\n",
    "    v, e = map(int, input.readline().split())\n",
    "    print(f\"노드수 : {v},  간선수 : {e}\")    \n",
    "\n",
    "    graph = [[] for _ in range(v+1)]         # 시작노드부터 도착노드까지의 거리를 표시하는 그래프\n",
    "    for _ in range(e):\n",
    "        a, b, c = map(int, input.readline().split())\n",
    "        graph[a].append((b, c))              # a : 시작노드,  b : 도착노드,  c : 비용    \n",
    "        \n",
    "    for row in graph:\n",
    "        print(row)\n",
    "        \n",
    "result = {}    # 리프노드와 루트노드부터 리프노드까지의 최소비용을 쌍으로 묶는 딕셔너리"
   ]
  },
  {
   "cell_type": "code",
   "execution_count": 23,
   "metadata": {},
   "outputs": [],
   "source": [
    "def find_leaf_max_distance(array, start):\n",
    "    q = deque()\n",
    "    q.append((0, start))\n",
    "    result = {}\n",
    "    while q:\n",
    "        dist, now = q.popleft()\n",
    "        if not array[now]:\n",
    "            print(now)         \n",
    "            result[now] = dist\n",
    "            continue\n",
    "        for n, d in array[now]:\n",
    "            new_dist = dist + n\n",
    "            q.append((new_dist, n))\n",
    "            \n",
    "    return result.items()"
   ]
  },
  {
   "cell_type": "code",
   "execution_count": 24,
   "metadata": {},
   "outputs": [
    {
     "name": "stdout",
     "output_type": "stream",
     "text": [
      "7\n",
      "12\n",
      "13\n",
      "14\n",
      "11\n",
      "10\n"
     ]
    },
    {
     "data": {
      "text/plain": [
       "dict_items([(7, 0), (12, 0), (13, 0), (14, 0), (11, 0), (10, 0)])"
      ]
     },
     "execution_count": 24,
     "metadata": {},
     "output_type": "execute_result"
    }
   ],
   "source": [
    "find_leaf_max_distance(graph, 1)"
   ]
  }
 ],
 "metadata": {
  "kernelspec": {
   "display_name": "base",
   "language": "python",
   "name": "python3"
  },
  "language_info": {
   "codemirror_mode": {
    "name": "ipython",
    "version": 3
   },
   "file_extension": ".py",
   "mimetype": "text/x-python",
   "name": "python",
   "nbconvert_exporter": "python",
   "pygments_lexer": "ipython3",
   "version": "3.9.12"
  }
 },
 "nbformat": 4,
 "nbformat_minor": 2
}
