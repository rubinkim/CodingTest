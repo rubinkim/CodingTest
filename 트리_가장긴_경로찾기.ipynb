{
 "cells": [
  {
   "cell_type": "code",
   "execution_count": 5,
   "metadata": {},
   "outputs": [
    {
     "name": "stdout",
     "output_type": "stream",
     "text": [
      "노드수 : 14,  간선수 : 13\n",
      "[]\n",
      "[(4, 2), (2, 3), (3, 8)]\n",
      "[(6, 7), (5, 5)]\n",
      "[(7, 2)]\n",
      "[(8, 5), (9, 1)]\n",
      "[(10, 6)]\n",
      "[(11, 2)]\n",
      "[]\n",
      "[(12, 9)]\n",
      "[(13, 4), (14, 9)]\n",
      "[]\n",
      "[]\n",
      "[]\n",
      "[]\n",
      "[]\n"
     ]
    }
   ],
   "source": [
    "from collections import deque\n",
    "\n",
    "with open(\"data/longest_path_greedy_lecture.txt\", \"r\") as input:\n",
    "    v, e = map(int, input.readline().split())\n",
    "    print(f\"노드수 : {v},  간선수 : {e}\")    \n",
    "\n",
    "    graph = [[] for _ in range(v+1)]         # 시작노드부터 도착노드까지의 거리를 표시하는 그래프\n",
    "    for _ in range(e):\n",
    "        a, b, c = map(int, input.readline().split())\n",
    "        graph[a].append((b, c))              # a : 시작노드,  b : 도착노드,  c : 비용    \n",
    "        \n",
    "    for row in graph:\n",
    "        print(row)\n",
    "        \n",
    "result = {}    # 리프노드와 루트노드부터 리프노드까지의 최소비용을 쌍으로 묶는 딕셔너리"
   ]
  },
  {
   "cell_type": "code",
   "execution_count": 9,
   "metadata": {},
   "outputs": [],
   "source": [
    "def find_leaf_max_distance(array, start):\n",
    "    q = deque()\n",
    "    q.append((0, start))\n",
    "    result = []\n",
    "    while q:\n",
    "        dist, now = q.popleft()\n",
    "        if not array[now]:            \n",
    "            result[now] = dist\n",
    "            continue\n",
    "        for n, d in array[now]:\n",
    "            dist += n\n",
    "            q.append((dist, n))\n",
    "            \n",
    "    return dict.items()"
   ]
  },
  {
   "cell_type": "code",
   "execution_count": 10,
   "metadata": {},
   "outputs": [
    {
     "name": "stdout",
     "output_type": "stream",
     "text": [
      "dict[7]\n"
     ]
    },
    {
     "ename": "TypeError",
     "evalue": "'type' object does not support item assignment",
     "output_type": "error",
     "traceback": [
      "\u001b[1;31m---------------------------------------------------------------------------\u001b[0m",
      "\u001b[1;31mTypeError\u001b[0m                                 Traceback (most recent call last)",
      "Input \u001b[1;32mIn [10]\u001b[0m, in \u001b[0;36m<cell line: 1>\u001b[1;34m()\u001b[0m\n\u001b[1;32m----> 1\u001b[0m \u001b[43mfind_leaf_max_distance\u001b[49m\u001b[43m(\u001b[49m\u001b[43mgraph\u001b[49m\u001b[43m,\u001b[49m\u001b[43m \u001b[49m\u001b[38;5;241;43m1\u001b[39;49m\u001b[43m)\u001b[49m\n",
      "Input \u001b[1;32mIn [9]\u001b[0m, in \u001b[0;36mfind_leaf_max_distance\u001b[1;34m(array, start)\u001b[0m\n\u001b[0;32m      6\u001b[0m \u001b[38;5;28;01mif\u001b[39;00m \u001b[38;5;129;01mnot\u001b[39;00m array[now]:\n\u001b[0;32m      7\u001b[0m     \u001b[38;5;28mprint\u001b[39m(\u001b[38;5;28mdict\u001b[39m[now])\n\u001b[1;32m----> 8\u001b[0m     \u001b[38;5;28mdict\u001b[39m[now] \u001b[38;5;241m=\u001b[39m dist\n\u001b[0;32m      9\u001b[0m     \u001b[38;5;28;01mcontinue\u001b[39;00m\n\u001b[0;32m     10\u001b[0m \u001b[38;5;28;01mfor\u001b[39;00m n, d \u001b[38;5;129;01min\u001b[39;00m array[now]:\n",
      "\u001b[1;31mTypeError\u001b[0m: 'type' object does not support item assignment"
     ]
    }
   ],
   "source": [
    "find_leaf_max_distance(graph, 1)"
   ]
  }
 ],
 "metadata": {
  "kernelspec": {
   "display_name": "base",
   "language": "python",
   "name": "python3"
  },
  "language_info": {
   "codemirror_mode": {
    "name": "ipython",
    "version": 3
   },
   "file_extension": ".py",
   "mimetype": "text/x-python",
   "name": "python",
   "nbconvert_exporter": "python",
   "pygments_lexer": "ipython3",
   "version": "3.9.12"
  }
 },
 "nbformat": 4,
 "nbformat_minor": 2
}
