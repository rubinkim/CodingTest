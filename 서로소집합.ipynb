{
 "cells": [
  {
   "cell_type": "code",
   "execution_count": null,
   "metadata": {},
   "outputs": [],
   "source": [
    "# 서로소집합(Disjoint Set)이란 공통원소가 없는 두집합을 말한다.\n",
    "# 서로소집합 자료구조란 서로소 부분집합들로 나누어진 원소들의 데이터를 처리하기 위한 자료구조로서 다음의 두가지 연산을 지원하고 있다.\n",
    "# 1) 합집합(Union) : 두집합을 하나의 집합으로 합치는 연산  2) 찾기(Find) : 특정원소가 속한 집합이 어뗜 집합인지 알려주는 연산\n",
    "# 여러개의 합치기 연산이 주어졌을 때 서로소집합 자료구조의 동작과정은 1) 합집합연산을 확인하며 서로 연결된 두 노드 A, B의 루트노드들 A1, B1를 각각 찾는다. 2) A1을 B1의 부모노드로 설정한다.\n",
    "# 2) 모든 합집합 연산을 처리할 때까지 1번의 과정을 반복한다. "
   ]
  },
  {
   "cell_type": "code",
   "execution_count": 4,
   "metadata": {},
   "outputs": [],
   "source": [
    "def find_parent(parent, x):\n",
    "    if parent[x] != x:\n",
    "        return find_parent(parent, parent[x])\n",
    "    return x"
   ]
  },
  {
   "cell_type": "code",
   "execution_count": 5,
   "metadata": {},
   "outputs": [],
   "source": [
    "def union_parent(parent, a, b):\n",
    "    a = find_parent(parent, a)\n",
    "    b = find_parent(parent, b)\n",
    "    if a < b:\n",
    "        parent[b] = a\n",
    "    else:\n",
    "        parent[a] = b"
   ]
  },
  {
   "cell_type": "code",
   "execution_count": null,
   "metadata": {},
   "outputs": [],
   "source": [
    "with open(\"data/disjoint_set.txt\", \"r\") as input:\n",
    "    v, e = map(int, input.readline().split())\n",
    "    print(f\"노드수 : {v},  간선수 : {e}\")\n",
    "    \n",
    "    parent = [i for i in range(1, v+1)]\n",
    "    print(f\"parent 테이블 : {parent}\")\n",
    "    \n",
    "    for i in range(e):\n",
    "        a, b = map(int, input.readline().split())\n",
    "        "
   ]
  },
  {
   "cell_type": "code",
   "execution_count": 21,
   "metadata": {},
   "outputs": [
    {
     "name": "stdout",
     "output_type": "stream",
     "text": [
      "[0, 1, 2, 3, 4, 5, 6]\n"
     ]
    }
   ],
   "source": [
    "parent = [0] * 7\n",
    "for i in range(1, 7):\n",
    "    parent[i] = i\n",
    "print(parent)"
   ]
  },
  {
   "cell_type": "code",
   "execution_count": 22,
   "metadata": {},
   "outputs": [],
   "source": [
    "#edges = [(2, 4), (1, 4), (5, 6), (2, 3)]\n",
    "#edges = [(1, 4), (2, 3), (2, 4), (5, 6)]\n",
    "edges = [(5, 6), (2, 4), (2, 3), (1, 4)]\n",
    "for a, b in edges:\n",
    "    union_parent(parent, a, b)"
   ]
  },
  {
   "cell_type": "code",
   "execution_count": 23,
   "metadata": {},
   "outputs": [
    {
     "data": {
      "text/plain": [
       "[0, 1, 1, 1, 2, 5, 5]"
      ]
     },
     "execution_count": 23,
     "metadata": {},
     "output_type": "execute_result"
    }
   ],
   "source": [
    "parent"
   ]
  },
  {
   "cell_type": "code",
   "execution_count": 17,
   "metadata": {},
   "outputs": [
    {
     "data": {
      "text/plain": [
       "[0, 1, 1, 2, 1, 5, 5]"
      ]
     },
     "execution_count": 17,
     "metadata": {},
     "output_type": "execute_result"
    }
   ],
   "source": [
    "parent"
   ]
  }
 ],
 "metadata": {
  "kernelspec": {
   "display_name": "base",
   "language": "python",
   "name": "python3"
  },
  "language_info": {
   "codemirror_mode": {
    "name": "ipython",
    "version": 3
   },
   "file_extension": ".py",
   "mimetype": "text/x-python",
   "name": "python",
   "nbconvert_exporter": "python",
   "pygments_lexer": "ipython3",
   "version": "3.9.12"
  }
 },
 "nbformat": 4,
 "nbformat_minor": 2
}
