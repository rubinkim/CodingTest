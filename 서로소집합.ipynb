{
 "cells": [
  {
   "cell_type": "code",
   "execution_count": null,
   "metadata": {},
   "outputs": [],
   "source": [
    "# 서로소집합(Disjoint Set)이란 공통원소가 없는 두집합을 말한다.\n",
    "# 서로소집합 자료구조란 서로소 부분집합들로 나누어진 원소들의 데이터를 처리하기 위한 자료구조로서 다음의 두가지 연산을 지원하고 있다.\n",
    "# 1) 합집합(Union) : 두집합을 하나의 집합으로 합치는 연산  2) 찾기(Find) : 특정원소가 속한 집합이 어뗜 집합인지 알려주는 연산\n",
    "# 여러개의 합치기 연산이 주어졌을 때 서로소집합 자료구조의 동작과정은 1) 합집합연산을 확인하며 서로 연결된 두 노드 A, B의 루트노드들 A1, B1를 각각 찾는다. 2) A1을 B1의 부모노드로 설정한다.\n",
    "# 2) 모든 합집합 연산을 처리할 때까지 1번의 과정을 반복한다. "
   ]
  },
  {
   "cell_type": "code",
   "execution_count": 6,
   "metadata": {},
   "outputs": [],
   "source": [
    "def find_parent(parent, x):\n",
    "    if parent[x] != x:\n",
    "        return find_parent(parent, parent[x])\n",
    "    return x"
   ]
  },
  {
   "cell_type": "code",
   "execution_count": 7,
   "metadata": {},
   "outputs": [],
   "source": [
    "def union_parent(parent, a, b):\n",
    "    a = find_parent(parent, a)\n",
    "    b = find_parent(parent, b)\n",
    "    if a < b:\n",
    "        parent[b] = a\n",
    "    else:\n",
    "        parent[a] = b"
   ]
  },
  {
   "cell_type": "code",
   "execution_count": 8,
   "metadata": {},
   "outputs": [
    {
     "name": "stdout",
     "output_type": "stream",
     "text": [
      "노드수 : 6,  간선수 : 4\n",
      "parent 테이블 : [1, 2, 3, 4, 5, 6]\n"
     ]
    }
   ],
   "source": [
    "with open(\"data/disjoint_set.txt\", \"r\") as input:\n",
    "    v, e = map(int, input.readline().split())\n",
    "    print(f\"노드수 : {v},  간선수 : {e}\")\n",
    "    \n",
    "    parent = [i for i in range(1, v+1)]\n",
    "    print(f\"parent 테이블 : {parent}\")\n",
    "    \n",
    "    for i in range(e):\n",
    "        a, b = map(int, input.readline().split())        "
   ]
  },
  {
   "cell_type": "code",
   "execution_count": 9,
   "metadata": {},
   "outputs": [
    {
     "name": "stdout",
     "output_type": "stream",
     "text": [
      "[0, 1, 2, 3, 4, 5, 6]\n"
     ]
    }
   ],
   "source": [
    "parent = [0] * 7\n",
    "for i in range(1, 7):\n",
    "    parent[i] = i\n",
    "print(parent)"
   ]
  },
  {
   "cell_type": "code",
   "execution_count": 10,
   "metadata": {},
   "outputs": [],
   "source": [
    "# edges = [(2, 4), (1, 4), (5, 6), (2, 3)]\n",
    "edges = [(1, 4), (2, 3), (2, 4), (5, 6)]\n",
    "#edges = [(5, 6), (2, 4), (2, 3), (1, 4)]\n",
    "for a, b in edges:\n",
    "    union_parent(parent, a, b)"
   ]
  },
  {
   "cell_type": "code",
   "execution_count": 11,
   "metadata": {},
   "outputs": [
    {
     "name": "stdout",
     "output_type": "stream",
     "text": [
      "각 원소가 속한 집합 :  1 1 1 1 5 5 \n"
     ]
    }
   ],
   "source": [
    "print(f\"각 원소가 속한 집합 : \", end=\" \")\n",
    "for i in range(1, v+1):\n",
    "    print(find_parent(parent, i), end=' ')\n",
    "print()"
   ]
  },
  {
   "cell_type": "code",
   "execution_count": 12,
   "metadata": {},
   "outputs": [
    {
     "data": {
      "text/plain": [
       "[0, 1, 1, 2, 1, 5, 5]"
      ]
     },
     "execution_count": 12,
     "metadata": {},
     "output_type": "execute_result"
    }
   ],
   "source": [
    "parent   # edges = [(2, 4), (1, 4), (5, 6), (2, 3)]"
   ]
  },
  {
   "cell_type": "code",
   "execution_count": 13,
   "metadata": {},
   "outputs": [
    {
     "data": {
      "text/plain": [
       "[0, 1, 1, 2, 1, 5, 5]"
      ]
     },
     "execution_count": 13,
     "metadata": {},
     "output_type": "execute_result"
    }
   ],
   "source": [
    "parent   # edges = [(1, 4), (2, 3), (2, 4), (5, 6)]"
   ]
  },
  {
   "cell_type": "code",
   "execution_count": 26,
   "metadata": {},
   "outputs": [
    {
     "data": {
      "text/plain": [
       "[0, 1, 1, 2, 2, 5, 5]"
      ]
     },
     "execution_count": 26,
     "metadata": {},
     "output_type": "execute_result"
    }
   ],
   "source": [
    "parent   # edges = [(5, 6), (2, 4), (2, 3), (1, 4)]"
   ]
  },
  {
   "cell_type": "code",
   "execution_count": null,
   "metadata": {},
   "outputs": [],
   "source": []
  },
  {
   "cell_type": "code",
   "execution_count": 17,
   "metadata": {},
   "outputs": [],
   "source": [
    "# 경로압축(Path Compression)이란 찾기(find)함수를 재귀적으로 호출한 반환값을 parent테이블값으로 갱신해서 결국에는 parent테이블의 값들이 루트노드값들이 되도록 한다. 이렇게 함으로써 루트노드\n",
    "# 까지 도달하기 위한 경로가 압축되서 시간을 단축한다는 의미가 있다."
   ]
  },
  {
   "cell_type": "code",
   "execution_count": 22,
   "metadata": {},
   "outputs": [],
   "source": [
    "def find_parent_pc(parent, x):\n",
    "    if parent[x] != x:\n",
    "        parent[x] = find_parent(parent, parent[x])\n",
    "    return parent[x]"
   ]
  },
  {
   "cell_type": "code",
   "execution_count": 23,
   "metadata": {},
   "outputs": [],
   "source": [
    "def union_parent_pc(parent, a, b):\n",
    "    a = find_parent_pc(parent, a)\n",
    "    b = find_parent_pc(parent, b)\n",
    "    if a < b:\n",
    "        parent[b] = a\n",
    "    else:\n",
    "        parent[a] = b"
   ]
  },
  {
   "cell_type": "code",
   "execution_count": 24,
   "metadata": {},
   "outputs": [
    {
     "name": "stdout",
     "output_type": "stream",
     "text": [
      "노드수 : 6,  간선수 : 4\n",
      "parent 테이블 : [1, 2, 3, 4, 5, 6]\n"
     ]
    }
   ],
   "source": [
    "with open(\"data/disjoint_set.txt\", \"r\") as input:\n",
    "    v, e = map(int, input.readline().split())\n",
    "    print(f\"노드수 : {v},  간선수 : {e}\")\n",
    "    \n",
    "    parent = [i for i in range(1, v+1)]\n",
    "    print(f\"parent 테이블 : {parent}\")\n",
    "    \n",
    "    for i in range(e):\n",
    "        a, b = map(int, input.readline().split())       "
   ]
  },
  {
   "cell_type": "code",
   "execution_count": 25,
   "metadata": {},
   "outputs": [
    {
     "name": "stdout",
     "output_type": "stream",
     "text": [
      "[0, 1, 2, 3, 4, 5, 6]\n"
     ]
    }
   ],
   "source": [
    "parent = [0] * 7\n",
    "for i in range(1, 7):\n",
    "    parent[i] = i\n",
    "print(parent)"
   ]
  },
  {
   "cell_type": "code",
   "execution_count": 26,
   "metadata": {},
   "outputs": [],
   "source": [
    "# edges = [(2, 4), (1, 4), (5, 6), (2, 3)]\n",
    "edges = [(1, 4), (2, 3), (2, 4), (5, 6)]\n",
    "#edges = [(5, 6), (2, 4), (2, 3), (1, 4)]\n",
    "for a, b in edges:\n",
    "    union_parent_pc(parent, a, b)"
   ]
  },
  {
   "cell_type": "code",
   "execution_count": 27,
   "metadata": {},
   "outputs": [
    {
     "data": {
      "text/plain": [
       "[0, 1, 1, 2, 1, 5, 5]"
      ]
     },
     "execution_count": 27,
     "metadata": {},
     "output_type": "execute_result"
    }
   ],
   "source": [
    "parent"
   ]
  },
  {
   "cell_type": "code",
   "execution_count": 28,
   "metadata": {},
   "outputs": [
    {
     "name": "stdout",
     "output_type": "stream",
     "text": [
      "각 원소가 속한 집합 :  1 1 1 1 5 5 \n"
     ]
    }
   ],
   "source": [
    "print(f\"각 원소가 속한 집합 : \", end=' ')\n",
    "for i in range(1, v+1):\n",
    "    print(find_parent_pc(parent, i), end=' ')\n",
    "print()"
   ]
  },
  {
   "cell_type": "code",
   "execution_count": 29,
   "metadata": {},
   "outputs": [
    {
     "data": {
      "text/plain": [
       "[0, 1, 1, 1, 1, 5, 5]"
      ]
     },
     "execution_count": 29,
     "metadata": {},
     "output_type": "execute_result"
    }
   ],
   "source": [
    "parent"
   ]
  },
  {
   "cell_type": "markdown",
   "metadata": {},
   "source": [
    "##### 서로소집합 알고리즘을 이용한 무방향 그래프내의 싸이클 유무 판별"
   ]
  },
  {
   "cell_type": "code",
   "execution_count": 3,
   "metadata": {},
   "outputs": [],
   "source": [
    "def find_parent(parent, x):\n",
    "    if parent[x] != x:\n",
    "        parent[x] = find_parent(parent, parent[x])\n",
    "    return parent[x]\n",
    "\n",
    "def union_parent(parent, a, b):\n",
    "    a = find_parent(parent, a)\n",
    "    b = find_parent(parent, b)\n",
    "    if a < b:\n",
    "        parent[b] = a\n",
    "    else:\n",
    "        parent[a] = b"
   ]
  },
  {
   "cell_type": "code",
   "execution_count": 8,
   "metadata": {},
   "outputs": [
    {
     "name": "stdout",
     "output_type": "stream",
     "text": [
      "노드수 : 7,  간선수 : 6\n",
      "\n",
      "[0, 1, 2, 3, 4, 5, 6, 7]\n",
      "\n",
      "[0, 1, 1, 1, 3, 4, 1, 3]\n",
      "\n",
      "각 원소가 속한 집합 :  1 1 1 1 1 1 1 "
     ]
    }
   ],
   "source": [
    "v, e = 7, 6\n",
    "print(f\"노드수 : {v},  간선수 : {e}\")\n",
    "print()\n",
    "\n",
    "parent = [0] * (v+1)\n",
    "for i in range(1, v+1):\n",
    "    parent[i] = i\n",
    "print(parent)\n",
    "print()\n",
    "    \n",
    "edges = [(1, 2), (4, 5), (5, 3), (2, 6), (3, 7), (6, 7)]\n",
    "\n",
    "for a, b in edges:\n",
    "    union_parent(parent, a, b)\n",
    "\n",
    "print(parent)\n",
    "print()\n",
    "\n",
    "print(f\"각 원소가 속한 집합 : \", end=' ')\n",
    "for i in range(1, v+1):\n",
    "    print(find_parent(parent, i), end=' ')\n"
   ]
  },
  {
   "cell_type": "code",
   "execution_count": 2,
   "metadata": {},
   "outputs": [
    {
     "name": "stdout",
     "output_type": "stream",
     "text": [
      "노드수 : 7,  간선수 : 6\n",
      "\n",
      "싸이클이 존재하지 않는다.\n"
     ]
    }
   ],
   "source": [
    "with open(\"data/noCycle_woDirection.txt\", \"r\") as input:\n",
    "    v, e = map(int, input.readline().split())\n",
    "    print(f\"노드수 : {v},  간선수 : {e}\")\n",
    "    print()\n",
    "    \n",
    "    parent = [0] * (v+1)\n",
    "    for i in range(1, v+1):\n",
    "        parent[i] = i\n",
    "    \n",
    "    cycle = False\n",
    "    \n",
    "    for i in range(e):\n",
    "        a, b = map(int, input.readline().split())\n",
    "        if find_parent(parent, a) == find_parent(parent, b):\n",
    "            cycle = True\n",
    "            break\n",
    "        else:\n",
    "            union_parent(parent, a, b)\n",
    "            \n",
    "if cycle:\n",
    "    print(\"싸이클이 존재한다.\")\n",
    "else:\n",
    "    print(\"싸이클이 존재하지 않는다.\")            "
   ]
  },
  {
   "cell_type": "code",
   "execution_count": 7,
   "metadata": {},
   "outputs": [
    {
     "data": {
      "text/plain": [
       "[0, 1, 1, 1, 3, 4, 1, 3]"
      ]
     },
     "execution_count": 7,
     "metadata": {},
     "output_type": "execute_result"
    }
   ],
   "source": [
    "parent"
   ]
  },
  {
   "cell_type": "code",
   "execution_count": null,
   "metadata": {},
   "outputs": [],
   "source": []
  }
 ],
 "metadata": {
  "kernelspec": {
   "display_name": "base",
   "language": "python",
   "name": "python3"
  },
  "language_info": {
   "codemirror_mode": {
    "name": "ipython",
    "version": 3
   },
   "file_extension": ".py",
   "mimetype": "text/x-python",
   "name": "python",
   "nbconvert_exporter": "python",
   "pygments_lexer": "ipython3",
   "version": "3.9.12"
  }
 },
 "nbformat": 4,
 "nbformat_minor": 2
}
