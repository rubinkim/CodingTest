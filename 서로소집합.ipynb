{
 "cells": [
  {
   "cell_type": "code",
   "execution_count": null,
   "metadata": {},
   "outputs": [],
   "source": [
    "# 서로소집합(Disjoint Set)이란 공통원소가 없는 두집합을 말한다.\n",
    "# 서로소집합 자료구조란 서로소 부분집합들로 나누어진 원소들의 데이터를 처리하기 위한 자료구조로서 다음의 두가지 연산을 지원하고 있다.\n",
    "# 1) 합집합(Union) : 두집합을 하나의 집합으로 합치는 연산  2) 찾기(Find) : 특정원소가 속한 집합이 어뗜 집합인지 알려주는 연산\n",
    "# 여러개의 합치기 연산이 주어졌을 때 서로소집합 자료구조의 동작과정은 1) 합집합연산을 확인하며 서로 연결된 두 노드 A, B의 루트노드들 A1, B1를 각각 찾는다. 2) A1을 B1의 부모노드로 설정한다.\n",
    "# 2) 모든 합집합 연산을 처리할 때까지 1번의 과정을 반복한다. "
   ]
  },
  {
   "cell_type": "code",
   "execution_count": null,
   "metadata": {},
   "outputs": [],
   "source": [
    "with open(\"data/disjoint_set.txt\", \"r\") as input:\n",
    "    v, e = map(int, input.readline().split())\n",
    "    print(f\"노드수 : {v},  간선수 : {e}\")"
   ]
  }
 ],
 "metadata": {
  "kernelspec": {
   "display_name": "base",
   "language": "python",
   "name": "python3"
  },
  "language_info": {
   "name": "python",
   "version": "3.9.12"
  }
 },
 "nbformat": 4,
 "nbformat_minor": 2
}
